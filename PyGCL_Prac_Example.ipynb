{
  "cells": [
    {
      "cell_type": "markdown",
      "metadata": {
        "id": "view-in-github",
        "colab_type": "text"
      },
      "source": [
        "<a href=\"https://colab.research.google.com/github/XuyangAbert/PyGCL_Personal_YD/blob/main/PyGCL_Prac_Example.ipynb\" target=\"_parent\"><img src=\"https://colab.research.google.com/assets/colab-badge.svg\" alt=\"Open In Colab\"/></a>"
      ]
    },
    {
      "cell_type": "code",
      "execution_count": null,
      "metadata": {
        "id": "hQn0pXoZ7Nx6",
        "colab": {
          "base_uri": "https://localhost:8080/"
        },
        "outputId": "232a5be6-bed8-405a-e53f-746eb1d8cbd5"
      },
      "outputs": [
        {
          "output_type": "stream",
          "name": "stdout",
          "text": [
            "Cloning into 'PyGCL'...\n",
            "remote: Enumerating objects: 1794, done.\u001b[K\n",
            "remote: Counting objects: 100% (665/665), done.\u001b[K\n",
            "remote: Compressing objects: 100% (295/295), done.\u001b[K\n",
            "remote: Total 1794 (delta 554), reused 370 (delta 370), pack-reused 1129 (from 2)\u001b[K\n",
            "Receiving objects: 100% (1794/1794), 498.54 KiB | 5.67 MiB/s, done.\n",
            "Resolving deltas: 100% (1186/1186), done.\n"
          ]
        }
      ],
      "source": [
        "!git clone https://github.com/XuyangAbert/PyGCL.git"
      ]
    },
    {
      "cell_type": "code",
      "execution_count": null,
      "metadata": {
        "id": "d8akcCQg1YdE",
        "colab": {
          "base_uri": "https://localhost:8080/",
          "height": 1000
        },
        "outputId": "7f70ebcf-3088-40c7-bdd1-06e01e7332c4"
      },
      "outputs": [
        {
          "output_type": "stream",
          "name": "stdout",
          "text": [
            "Requirement already satisfied: torch in /usr/local/lib/python3.11/dist-packages (2.6.0+cu124)\n",
            "Requirement already satisfied: filelock in /usr/local/lib/python3.11/dist-packages (from torch) (3.18.0)\n",
            "Requirement already satisfied: typing-extensions>=4.10.0 in /usr/local/lib/python3.11/dist-packages (from torch) (4.13.2)\n",
            "Requirement already satisfied: networkx in /usr/local/lib/python3.11/dist-packages (from torch) (3.4.2)\n",
            "Requirement already satisfied: jinja2 in /usr/local/lib/python3.11/dist-packages (from torch) (3.1.6)\n",
            "Requirement already satisfied: fsspec in /usr/local/lib/python3.11/dist-packages (from torch) (2025.3.2)\n",
            "Collecting nvidia-cuda-nvrtc-cu12==12.4.127 (from torch)\n",
            "  Downloading nvidia_cuda_nvrtc_cu12-12.4.127-py3-none-manylinux2014_x86_64.whl.metadata (1.5 kB)\n",
            "Collecting nvidia-cuda-runtime-cu12==12.4.127 (from torch)\n",
            "  Downloading nvidia_cuda_runtime_cu12-12.4.127-py3-none-manylinux2014_x86_64.whl.metadata (1.5 kB)\n",
            "Collecting nvidia-cuda-cupti-cu12==12.4.127 (from torch)\n",
            "  Downloading nvidia_cuda_cupti_cu12-12.4.127-py3-none-manylinux2014_x86_64.whl.metadata (1.6 kB)\n",
            "Collecting nvidia-cudnn-cu12==9.1.0.70 (from torch)\n",
            "  Downloading nvidia_cudnn_cu12-9.1.0.70-py3-none-manylinux2014_x86_64.whl.metadata (1.6 kB)\n",
            "Collecting nvidia-cublas-cu12==12.4.5.8 (from torch)\n",
            "  Downloading nvidia_cublas_cu12-12.4.5.8-py3-none-manylinux2014_x86_64.whl.metadata (1.5 kB)\n",
            "Collecting nvidia-cufft-cu12==11.2.1.3 (from torch)\n",
            "  Downloading nvidia_cufft_cu12-11.2.1.3-py3-none-manylinux2014_x86_64.whl.metadata (1.5 kB)\n",
            "Collecting nvidia-curand-cu12==10.3.5.147 (from torch)\n",
            "  Downloading nvidia_curand_cu12-10.3.5.147-py3-none-manylinux2014_x86_64.whl.metadata (1.5 kB)\n",
            "Collecting nvidia-cusolver-cu12==11.6.1.9 (from torch)\n",
            "  Downloading nvidia_cusolver_cu12-11.6.1.9-py3-none-manylinux2014_x86_64.whl.metadata (1.6 kB)\n",
            "Collecting nvidia-cusparse-cu12==12.3.1.170 (from torch)\n",
            "  Downloading nvidia_cusparse_cu12-12.3.1.170-py3-none-manylinux2014_x86_64.whl.metadata (1.6 kB)\n",
            "Requirement already satisfied: nvidia-cusparselt-cu12==0.6.2 in /usr/local/lib/python3.11/dist-packages (from torch) (0.6.2)\n",
            "Requirement already satisfied: nvidia-nccl-cu12==2.21.5 in /usr/local/lib/python3.11/dist-packages (from torch) (2.21.5)\n",
            "Requirement already satisfied: nvidia-nvtx-cu12==12.4.127 in /usr/local/lib/python3.11/dist-packages (from torch) (12.4.127)\n",
            "Collecting nvidia-nvjitlink-cu12==12.4.127 (from torch)\n",
            "  Downloading nvidia_nvjitlink_cu12-12.4.127-py3-none-manylinux2014_x86_64.whl.metadata (1.5 kB)\n",
            "Requirement already satisfied: triton==3.2.0 in /usr/local/lib/python3.11/dist-packages (from torch) (3.2.0)\n",
            "Requirement already satisfied: sympy==1.13.1 in /usr/local/lib/python3.11/dist-packages (from torch) (1.13.1)\n",
            "Requirement already satisfied: mpmath<1.4,>=1.1.0 in /usr/local/lib/python3.11/dist-packages (from sympy==1.13.1->torch) (1.3.0)\n",
            "Requirement already satisfied: MarkupSafe>=2.0 in /usr/local/lib/python3.11/dist-packages (from jinja2->torch) (3.0.2)\n",
            "Downloading nvidia_cublas_cu12-12.4.5.8-py3-none-manylinux2014_x86_64.whl (363.4 MB)\n",
            "\u001b[2K   \u001b[90m━━━━━━━━━━━━━━━━━━━━━━━━━━━━━━━━━━━━━━━━\u001b[0m \u001b[32m363.4/363.4 MB\u001b[0m \u001b[31m3.6 MB/s\u001b[0m eta \u001b[36m0:00:00\u001b[0m\n",
            "\u001b[?25hDownloading nvidia_cuda_cupti_cu12-12.4.127-py3-none-manylinux2014_x86_64.whl (13.8 MB)\n",
            "\u001b[2K   \u001b[90m━━━━━━━━━━━━━━━━━━━━━━━━━━━━━━━━━━━━━━━━\u001b[0m \u001b[32m13.8/13.8 MB\u001b[0m \u001b[31m72.0 MB/s\u001b[0m eta \u001b[36m0:00:00\u001b[0m\n",
            "\u001b[?25hDownloading nvidia_cuda_nvrtc_cu12-12.4.127-py3-none-manylinux2014_x86_64.whl (24.6 MB)\n",
            "\u001b[2K   \u001b[90m━━━━━━━━━━━━━━━━━━━━━━━━━━━━━━━━━━━━━━━━\u001b[0m \u001b[32m24.6/24.6 MB\u001b[0m \u001b[31m73.3 MB/s\u001b[0m eta \u001b[36m0:00:00\u001b[0m\n",
            "\u001b[?25hDownloading nvidia_cuda_runtime_cu12-12.4.127-py3-none-manylinux2014_x86_64.whl (883 kB)\n",
            "\u001b[2K   \u001b[90m━━━━━━━━━━━━━━━━━━━━━━━━━━━━━━━━━━━━━━━━\u001b[0m \u001b[32m883.7/883.7 kB\u001b[0m \u001b[31m50.2 MB/s\u001b[0m eta \u001b[36m0:00:00\u001b[0m\n",
            "\u001b[?25hDownloading nvidia_cudnn_cu12-9.1.0.70-py3-none-manylinux2014_x86_64.whl (664.8 MB)\n",
            "\u001b[2K   \u001b[90m━━━━━━━━━━━━━━━━━━━━━━━━━━━━━━━━━━━━━━━━\u001b[0m \u001b[32m664.8/664.8 MB\u001b[0m \u001b[31m2.7 MB/s\u001b[0m eta \u001b[36m0:00:00\u001b[0m\n",
            "\u001b[?25hDownloading nvidia_cufft_cu12-11.2.1.3-py3-none-manylinux2014_x86_64.whl (211.5 MB)\n",
            "\u001b[2K   \u001b[90m━━━━━━━━━━━━━━━━━━━━━━━━━━━━━━━━━━━━━━━━\u001b[0m \u001b[32m211.5/211.5 MB\u001b[0m \u001b[31m5.3 MB/s\u001b[0m eta \u001b[36m0:00:00\u001b[0m\n",
            "\u001b[?25hDownloading nvidia_curand_cu12-10.3.5.147-py3-none-manylinux2014_x86_64.whl (56.3 MB)\n",
            "\u001b[2K   \u001b[90m━━━━━━━━━━━━━━━━━━━━━━━━━━━━━━━━━━━━━━━━\u001b[0m \u001b[32m56.3/56.3 MB\u001b[0m \u001b[31m13.3 MB/s\u001b[0m eta \u001b[36m0:00:00\u001b[0m\n",
            "\u001b[?25hDownloading nvidia_cusolver_cu12-11.6.1.9-py3-none-manylinux2014_x86_64.whl (127.9 MB)\n",
            "\u001b[2K   \u001b[90m━━━━━━━━━━━━━━━━━━━━━━━━━━━━━━━━━━━━━━━━\u001b[0m \u001b[32m127.9/127.9 MB\u001b[0m \u001b[31m7.2 MB/s\u001b[0m eta \u001b[36m0:00:00\u001b[0m\n",
            "\u001b[?25hDownloading nvidia_cusparse_cu12-12.3.1.170-py3-none-manylinux2014_x86_64.whl (207.5 MB)\n",
            "\u001b[2K   \u001b[90m━━━━━━━━━━━━━━━━━━━━━━━━━━━━━━━━━━━━━━━━\u001b[0m \u001b[32m207.5/207.5 MB\u001b[0m \u001b[31m5.6 MB/s\u001b[0m eta \u001b[36m0:00:00\u001b[0m\n",
            "\u001b[?25hDownloading nvidia_nvjitlink_cu12-12.4.127-py3-none-manylinux2014_x86_64.whl (21.1 MB)\n",
            "\u001b[2K   \u001b[90m━━━━━━━━━━━━━━━━━━━━━━━━━━━━━━━━━━━━━━━━\u001b[0m \u001b[32m21.1/21.1 MB\u001b[0m \u001b[31m107.6 MB/s\u001b[0m eta \u001b[36m0:00:00\u001b[0m\n",
            "\u001b[?25hInstalling collected packages: nvidia-nvjitlink-cu12, nvidia-curand-cu12, nvidia-cufft-cu12, nvidia-cuda-runtime-cu12, nvidia-cuda-nvrtc-cu12, nvidia-cuda-cupti-cu12, nvidia-cublas-cu12, nvidia-cusparse-cu12, nvidia-cudnn-cu12, nvidia-cusolver-cu12\n",
            "  Attempting uninstall: nvidia-nvjitlink-cu12\n",
            "    Found existing installation: nvidia-nvjitlink-cu12 12.5.82\n",
            "    Uninstalling nvidia-nvjitlink-cu12-12.5.82:\n",
            "      Successfully uninstalled nvidia-nvjitlink-cu12-12.5.82\n",
            "  Attempting uninstall: nvidia-curand-cu12\n",
            "    Found existing installation: nvidia-curand-cu12 10.3.6.82\n",
            "    Uninstalling nvidia-curand-cu12-10.3.6.82:\n",
            "      Successfully uninstalled nvidia-curand-cu12-10.3.6.82\n",
            "  Attempting uninstall: nvidia-cufft-cu12\n",
            "    Found existing installation: nvidia-cufft-cu12 11.2.3.61\n",
            "    Uninstalling nvidia-cufft-cu12-11.2.3.61:\n",
            "      Successfully uninstalled nvidia-cufft-cu12-11.2.3.61\n",
            "  Attempting uninstall: nvidia-cuda-runtime-cu12\n",
            "    Found existing installation: nvidia-cuda-runtime-cu12 12.5.82\n",
            "    Uninstalling nvidia-cuda-runtime-cu12-12.5.82:\n",
            "      Successfully uninstalled nvidia-cuda-runtime-cu12-12.5.82\n",
            "  Attempting uninstall: nvidia-cuda-nvrtc-cu12\n",
            "    Found existing installation: nvidia-cuda-nvrtc-cu12 12.5.82\n",
            "    Uninstalling nvidia-cuda-nvrtc-cu12-12.5.82:\n",
            "      Successfully uninstalled nvidia-cuda-nvrtc-cu12-12.5.82\n",
            "  Attempting uninstall: nvidia-cuda-cupti-cu12\n",
            "    Found existing installation: nvidia-cuda-cupti-cu12 12.5.82\n",
            "    Uninstalling nvidia-cuda-cupti-cu12-12.5.82:\n",
            "      Successfully uninstalled nvidia-cuda-cupti-cu12-12.5.82\n",
            "  Attempting uninstall: nvidia-cublas-cu12\n",
            "    Found existing installation: nvidia-cublas-cu12 12.5.3.2\n",
            "    Uninstalling nvidia-cublas-cu12-12.5.3.2:\n",
            "      Successfully uninstalled nvidia-cublas-cu12-12.5.3.2\n",
            "  Attempting uninstall: nvidia-cusparse-cu12\n",
            "    Found existing installation: nvidia-cusparse-cu12 12.5.1.3\n",
            "    Uninstalling nvidia-cusparse-cu12-12.5.1.3:\n",
            "      Successfully uninstalled nvidia-cusparse-cu12-12.5.1.3\n",
            "  Attempting uninstall: nvidia-cudnn-cu12\n",
            "    Found existing installation: nvidia-cudnn-cu12 9.3.0.75\n",
            "    Uninstalling nvidia-cudnn-cu12-9.3.0.75:\n",
            "      Successfully uninstalled nvidia-cudnn-cu12-9.3.0.75\n",
            "  Attempting uninstall: nvidia-cusolver-cu12\n",
            "    Found existing installation: nvidia-cusolver-cu12 11.6.3.83\n",
            "    Uninstalling nvidia-cusolver-cu12-11.6.3.83:\n",
            "      Successfully uninstalled nvidia-cusolver-cu12-11.6.3.83\n",
            "Successfully installed nvidia-cublas-cu12-12.4.5.8 nvidia-cuda-cupti-cu12-12.4.127 nvidia-cuda-nvrtc-cu12-12.4.127 nvidia-cuda-runtime-cu12-12.4.127 nvidia-cudnn-cu12-9.1.0.70 nvidia-cufft-cu12-11.2.1.3 nvidia-curand-cu12-10.3.5.147 nvidia-cusolver-cu12-11.6.1.9 nvidia-cusparse-cu12-12.3.1.170 nvidia-nvjitlink-cu12-12.4.127\n",
            "Collecting torch-geometric\n",
            "  Downloading torch_geometric-2.6.1-py3-none-any.whl.metadata (63 kB)\n",
            "\u001b[2K     \u001b[90m━━━━━━━━━━━━━━━━━━━━━━━━━━━━━━━━━━━━━━━━\u001b[0m \u001b[32m63.1/63.1 kB\u001b[0m \u001b[31m2.4 MB/s\u001b[0m eta \u001b[36m0:00:00\u001b[0m\n",
            "\u001b[?25hRequirement already satisfied: aiohttp in /usr/local/lib/python3.11/dist-packages (from torch-geometric) (3.11.15)\n",
            "Requirement already satisfied: fsspec in /usr/local/lib/python3.11/dist-packages (from torch-geometric) (2025.3.2)\n",
            "Requirement already satisfied: jinja2 in /usr/local/lib/python3.11/dist-packages (from torch-geometric) (3.1.6)\n",
            "Requirement already satisfied: numpy in /usr/local/lib/python3.11/dist-packages (from torch-geometric) (2.0.2)\n",
            "Requirement already satisfied: psutil>=5.8.0 in /usr/local/lib/python3.11/dist-packages (from torch-geometric) (5.9.5)\n",
            "Requirement already satisfied: pyparsing in /usr/local/lib/python3.11/dist-packages (from torch-geometric) (3.2.3)\n",
            "Requirement already satisfied: requests in /usr/local/lib/python3.11/dist-packages (from torch-geometric) (2.32.3)\n",
            "Requirement already satisfied: tqdm in /usr/local/lib/python3.11/dist-packages (from torch-geometric) (4.67.1)\n",
            "Requirement already satisfied: aiohappyeyeballs>=2.3.0 in /usr/local/lib/python3.11/dist-packages (from aiohttp->torch-geometric) (2.6.1)\n",
            "Requirement already satisfied: aiosignal>=1.1.2 in /usr/local/lib/python3.11/dist-packages (from aiohttp->torch-geometric) (1.3.2)\n",
            "Requirement already satisfied: attrs>=17.3.0 in /usr/local/lib/python3.11/dist-packages (from aiohttp->torch-geometric) (25.3.0)\n",
            "Requirement already satisfied: frozenlist>=1.1.1 in /usr/local/lib/python3.11/dist-packages (from aiohttp->torch-geometric) (1.5.0)\n",
            "Requirement already satisfied: multidict<7.0,>=4.5 in /usr/local/lib/python3.11/dist-packages (from aiohttp->torch-geometric) (6.4.3)\n",
            "Requirement already satisfied: propcache>=0.2.0 in /usr/local/lib/python3.11/dist-packages (from aiohttp->torch-geometric) (0.3.1)\n",
            "Requirement already satisfied: yarl<2.0,>=1.17.0 in /usr/local/lib/python3.11/dist-packages (from aiohttp->torch-geometric) (1.19.0)\n",
            "Requirement already satisfied: MarkupSafe>=2.0 in /usr/local/lib/python3.11/dist-packages (from jinja2->torch-geometric) (3.0.2)\n",
            "Requirement already satisfied: charset-normalizer<4,>=2 in /usr/local/lib/python3.11/dist-packages (from requests->torch-geometric) (3.4.1)\n",
            "Requirement already satisfied: idna<4,>=2.5 in /usr/local/lib/python3.11/dist-packages (from requests->torch-geometric) (3.10)\n",
            "Requirement already satisfied: urllib3<3,>=1.21.1 in /usr/local/lib/python3.11/dist-packages (from requests->torch-geometric) (2.3.0)\n",
            "Requirement already satisfied: certifi>=2017.4.17 in /usr/local/lib/python3.11/dist-packages (from requests->torch-geometric) (2025.1.31)\n",
            "Downloading torch_geometric-2.6.1-py3-none-any.whl (1.1 MB)\n",
            "\u001b[2K   \u001b[90m━━━━━━━━━━━━━━━━━━━━━━━━━━━━━━━━━━━━━━━━\u001b[0m \u001b[32m1.1/1.1 MB\u001b[0m \u001b[31m25.8 MB/s\u001b[0m eta \u001b[36m0:00:00\u001b[0m\n",
            "\u001b[?25hInstalling collected packages: torch-geometric\n",
            "Successfully installed torch-geometric-2.6.1\n",
            "Collecting numpy==1.24.3\n",
            "  Downloading numpy-1.24.3-cp311-cp311-manylinux_2_17_x86_64.manylinux2014_x86_64.whl.metadata (5.6 kB)\n",
            "Downloading numpy-1.24.3-cp311-cp311-manylinux_2_17_x86_64.manylinux2014_x86_64.whl (17.3 MB)\n",
            "\u001b[2K   \u001b[90m━━━━━━━━━━━━━━━━━━━━━━━━━━━━━━━━━━━━━━━━\u001b[0m \u001b[32m17.3/17.3 MB\u001b[0m \u001b[31m82.7 MB/s\u001b[0m eta \u001b[36m0:00:00\u001b[0m\n",
            "\u001b[?25hInstalling collected packages: numpy\n",
            "  Attempting uninstall: numpy\n",
            "    Found existing installation: numpy 2.0.2\n",
            "    Uninstalling numpy-2.0.2:\n",
            "      Successfully uninstalled numpy-2.0.2\n",
            "\u001b[31mERROR: pip's dependency resolver does not currently take into account all the packages that are installed. This behaviour is the source of the following dependency conflicts.\n",
            "jaxlib 0.5.1 requires numpy>=1.25, but you have numpy 1.24.3 which is incompatible.\n",
            "tensorflow 2.18.0 requires numpy<2.1.0,>=1.26.0, but you have numpy 1.24.3 which is incompatible.\n",
            "albumentations 2.0.5 requires numpy>=1.24.4, but you have numpy 1.24.3 which is incompatible.\n",
            "blosc2 3.3.0 requires numpy>=1.26, but you have numpy 1.24.3 which is incompatible.\n",
            "jax 0.5.2 requires numpy>=1.25, but you have numpy 1.24.3 which is incompatible.\n",
            "albucore 0.0.23 requires numpy>=1.24.4, but you have numpy 1.24.3 which is incompatible.\n",
            "treescope 0.1.9 requires numpy>=1.25.2, but you have numpy 1.24.3 which is incompatible.\n",
            "thinc 8.3.6 requires numpy<3.0.0,>=2.0.0, but you have numpy 1.24.3 which is incompatible.\n",
            "pymc 5.21.2 requires numpy>=1.25.0, but you have numpy 1.24.3 which is incompatible.\u001b[0m\u001b[31m\n",
            "\u001b[0mSuccessfully installed numpy-1.24.3\n"
          ]
        },
        {
          "output_type": "display_data",
          "data": {
            "application/vnd.colab-display-data+json": {
              "pip_warning": {
                "packages": [
                  "numpy"
                ]
              },
              "id": "82f135f7e15345da8b4f2f5786a9376e"
            }
          },
          "metadata": {}
        },
        {
          "output_type": "stream",
          "name": "stdout",
          "text": [
            "Requirement already satisfied: tqdm in /usr/local/lib/python3.11/dist-packages (4.67.1)\n",
            "Requirement already satisfied: scipy in /usr/local/lib/python3.11/dist-packages (1.14.1)\n",
            "Requirement already satisfied: numpy<2.3,>=1.23.5 in /usr/local/lib/python3.11/dist-packages (from scipy) (1.24.3)\n",
            "Requirement already satisfied: networkx in /usr/local/lib/python3.11/dist-packages (3.4.2)\n",
            "Requirement already satisfied: scikit-learn in /usr/local/lib/python3.11/dist-packages (1.6.1)\n",
            "Requirement already satisfied: numpy>=1.19.5 in /usr/local/lib/python3.11/dist-packages (from scikit-learn) (1.24.3)\n",
            "Requirement already satisfied: scipy>=1.6.0 in /usr/local/lib/python3.11/dist-packages (from scikit-learn) (1.14.1)\n",
            "Requirement already satisfied: joblib>=1.2.0 in /usr/local/lib/python3.11/dist-packages (from scikit-learn) (1.4.2)\n",
            "Requirement already satisfied: threadpoolctl>=3.1.0 in /usr/local/lib/python3.11/dist-packages (from scikit-learn) (3.6.0)\n",
            "Collecting dgl==1.0.0\n",
            "  Downloading dgl-1.0.0-cp311-cp311-manylinux1_x86_64.whl.metadata (530 bytes)\n",
            "Requirement already satisfied: numpy>=1.14.0 in /usr/local/lib/python3.11/dist-packages (from dgl==1.0.0) (1.24.3)\n",
            "Requirement already satisfied: scipy>=1.1.0 in /usr/local/lib/python3.11/dist-packages (from dgl==1.0.0) (1.14.1)\n",
            "Requirement already satisfied: networkx>=2.1 in /usr/local/lib/python3.11/dist-packages (from dgl==1.0.0) (3.4.2)\n",
            "Requirement already satisfied: requests>=2.19.0 in /usr/local/lib/python3.11/dist-packages (from dgl==1.0.0) (2.32.3)\n",
            "Requirement already satisfied: tqdm in /usr/local/lib/python3.11/dist-packages (from dgl==1.0.0) (4.67.1)\n",
            "Requirement already satisfied: psutil>=5.8.0 in /usr/local/lib/python3.11/dist-packages (from dgl==1.0.0) (5.9.5)\n",
            "Requirement already satisfied: charset-normalizer<4,>=2 in /usr/local/lib/python3.11/dist-packages (from requests>=2.19.0->dgl==1.0.0) (3.4.1)\n",
            "Requirement already satisfied: idna<4,>=2.5 in /usr/local/lib/python3.11/dist-packages (from requests>=2.19.0->dgl==1.0.0) (3.10)\n",
            "Requirement already satisfied: urllib3<3,>=1.21.1 in /usr/local/lib/python3.11/dist-packages (from requests>=2.19.0->dgl==1.0.0) (2.3.0)\n",
            "Requirement already satisfied: certifi>=2017.4.17 in /usr/local/lib/python3.11/dist-packages (from requests>=2.19.0->dgl==1.0.0) (2025.1.31)\n",
            "Downloading dgl-1.0.0-cp311-cp311-manylinux1_x86_64.whl (5.4 MB)\n",
            "\u001b[2K   \u001b[90m━━━━━━━━━━━━━━━━━━━━━━━━━━━━━━━━━━━━━━━━\u001b[0m \u001b[32m5.4/5.4 MB\u001b[0m \u001b[31m57.7 MB/s\u001b[0m eta \u001b[36m0:00:00\u001b[0m\n",
            "\u001b[?25hInstalling collected packages: dgl\n",
            "Successfully installed dgl-1.0.0\n"
          ]
        }
      ],
      "source": [
        "# !pip install torch==2.1.2\n",
        "# !pip install torch-geometric==2.2.0\n",
        "!pip install torch\n",
        "!pip install torch-geometric\n",
        "!pip install numpy==1.24.3\n",
        "# !pip install numpy\n",
        "!pip install tqdm\n",
        "!pip install scipy\n",
        "!pip install networkx\n",
        "!pip install scikit-learn\n",
        "!pip install dgl==1.0.0"
      ]
    },
    {
      "cell_type": "code",
      "execution_count": null,
      "metadata": {
        "id": "WbJrYptunkYZ",
        "colab": {
          "base_uri": "https://localhost:8080/"
        },
        "outputId": "61524024-b45f-4422-d7a9-b41f43627b64"
      },
      "outputs": [
        {
          "output_type": "stream",
          "name": "stdout",
          "text": [
            "Collecting torch_scatter\n",
            "  Using cached torch_scatter-2.1.2.tar.gz (108 kB)\n",
            "  Preparing metadata (setup.py) ... \u001b[?25l\u001b[?25hdone\n",
            "Building wheels for collected packages: torch_scatter\n",
            "  Building wheel for torch_scatter (setup.py) ... \u001b[?25l\u001b[?25hdone\n",
            "  Created wheel for torch_scatter: filename=torch_scatter-2.1.2-cp311-cp311-linux_x86_64.whl size=3622715 sha256=a37494b93b6cff4e11ca274842574ca063a0d2e6e076560b673d3e22e6fe7541\n",
            "  Stored in directory: /root/.cache/pip/wheels/b8/d4/0e/a80af2465354ea7355a2c153b11af2da739cfcf08b6c0b28e2\n",
            "Successfully built torch_scatter\n",
            "Installing collected packages: torch_scatter\n",
            "Successfully installed torch_scatter-2.1.2\n",
            "Collecting torch_sparse\n",
            "  Downloading torch_sparse-0.6.18.tar.gz (209 kB)\n",
            "\u001b[2K     \u001b[90m━━━━━━━━━━━━━━━━━━━━━━━━━━━━━━━━━━━━━━━\u001b[0m \u001b[32m210.0/210.0 kB\u001b[0m \u001b[31m7.3 MB/s\u001b[0m eta \u001b[36m0:00:00\u001b[0m\n",
            "\u001b[?25h  Preparing metadata (setup.py) ... \u001b[?25l\u001b[?25hdone\n",
            "Requirement already satisfied: scipy in /usr/local/lib/python3.11/dist-packages (from torch_sparse) (1.14.1)\n",
            "Requirement already satisfied: numpy<2.3,>=1.23.5 in /usr/local/lib/python3.11/dist-packages (from scipy->torch_sparse) (1.24.3)\n",
            "Building wheels for collected packages: torch_sparse\n",
            "  Building wheel for torch_sparse (setup.py) ... \u001b[?25l\u001b[?25hdone\n",
            "  Created wheel for torch_sparse: filename=torch_sparse-0.6.18-cp311-cp311-linux_x86_64.whl size=2846215 sha256=c0fcb2861674a21e18ca4a17f2743b8d04d6c9c53d34b094f9c0b985cc4b441b\n",
            "  Stored in directory: /root/.cache/pip/wheels/75/e2/1e/299c596063839303657c211f587f05591891cc6cf126d94d21\n",
            "Successfully built torch_sparse\n",
            "Installing collected packages: torch_sparse\n",
            "Successfully installed torch_sparse-0.6.18\n"
          ]
        }
      ],
      "source": [
        "!pip install torch_scatter\n",
        "!pip install torch_sparse"
      ]
    },
    {
      "cell_type": "code",
      "source": [
        "import sys\n",
        "sys.path.append('/content/PyGCL')"
      ],
      "metadata": {
        "id": "ZIvh7o92iA4C"
      },
      "execution_count": null,
      "outputs": []
    },
    {
      "cell_type": "markdown",
      "source": [
        "Graph Classification Tasks"
      ],
      "metadata": {
        "id": "_Mqd7JUuh4VS"
      }
    },
    {
      "cell_type": "code",
      "execution_count": null,
      "metadata": {
        "id": "WNxVjX3G72ab"
      },
      "outputs": [],
      "source": [
        "# import sys\n",
        "# sys.path.append('/content/PyGCL')\n",
        "import torch\n",
        "import os.path as osp\n",
        "import GCL.losses as L\n",
        "import GCL.augmentors as A\n",
        "import torch.nn.functional as F\n",
        "\n",
        "from torch import nn\n",
        "from tqdm import tqdm\n",
        "from torch.optim import Adam\n",
        "from GCL.eval import get_split, SVMEvaluator\n",
        "from GCL.models import DualBranchContrast\n",
        "from torch_geometric.nn import GINConv, global_add_pool\n",
        "from torch_geometric.data import DataLoader\n",
        "from torch_geometric.datasets import TUDataset,Planetoid\n",
        "\n",
        "\n",
        "def make_gin_conv(input_dim, out_dim):\n",
        "    return GINConv(nn.Sequential(nn.Linear(input_dim, out_dim), nn.ReLU(), nn.Linear(out_dim, out_dim)))\n",
        "\n",
        "\n",
        "class GConv(nn.Module):\n",
        "    def __init__(self, input_dim, hidden_dim, num_layers):\n",
        "        super(GConv, self).__init__()\n",
        "        self.layers = nn.ModuleList()\n",
        "        self.batch_norms = nn.ModuleList()\n",
        "\n",
        "        for i in range(num_layers):\n",
        "            if i == 0:\n",
        "                self.layers.append(make_gin_conv(input_dim, hidden_dim))\n",
        "            else:\n",
        "                self.layers.append(make_gin_conv(hidden_dim, hidden_dim))\n",
        "            self.batch_norms.append(nn.BatchNorm1d(hidden_dim))\n",
        "\n",
        "        project_dim = hidden_dim * num_layers\n",
        "        self.project = torch.nn.Sequential(\n",
        "            nn.Linear(project_dim, project_dim),\n",
        "            nn.ReLU(inplace=True),\n",
        "            nn.Linear(project_dim, project_dim))\n",
        "\n",
        "    def forward(self, x, edge_index, batch):\n",
        "        z = x\n",
        "        zs = []\n",
        "        for conv, bn in zip(self.layers, self.batch_norms):\n",
        "            z = conv(z, edge_index)\n",
        "            z = F.relu(z)\n",
        "            z = bn(z)\n",
        "            zs.append(z)\n",
        "        gs = [global_add_pool(z, batch) for z in zs]\n",
        "        z, g = [torch.cat(x, dim=1) for x in [zs, gs]]\n",
        "        return z, g\n",
        "\n",
        "\n",
        "class Encoder(torch.nn.Module):\n",
        "    def __init__(self, encoder, augmentor):\n",
        "        super(Encoder, self).__init__()\n",
        "        self.encoder = encoder\n",
        "        self.augmentor = augmentor\n",
        "\n",
        "    def forward(self, x, edge_index, batch):\n",
        "        aug1, aug2 = self.augmentor\n",
        "        x1, edge_index1, edge_weight1 = aug1(x, edge_index)\n",
        "        x2, edge_index2, edge_weight2 = aug2(x, edge_index)\n",
        "        z, g = self.encoder(x, edge_index, batch)\n",
        "        z1, g1 = self.encoder(x1, edge_index1, batch)\n",
        "        z2, g2 = self.encoder(x2, edge_index2, batch)\n",
        "        return z, g, z1, z2, g1, g2\n",
        "\n",
        "\n",
        "def train(encoder_model, contrast_model, dataloader, optimizer):\n",
        "    encoder_model.train()\n",
        "    epoch_loss = 0\n",
        "    for data in dataloader:\n",
        "        data = data.to('cuda')\n",
        "        optimizer.zero_grad()\n",
        "\n",
        "        if data.x is None:\n",
        "            num_nodes = data.batch.size(0)\n",
        "            data.x = torch.ones((num_nodes, 1), dtype=torch.float32, device=data.batch.device)\n",
        "\n",
        "        _, _, _, _, g1, g2 = encoder_model(data.x, data.edge_index, data.batch)\n",
        "        g1, g2 = [encoder_model.encoder.project(g) for g in [g1, g2]]\n",
        "        loss = contrast_model(g1=g1, g2=g2, batch=data.batch)\n",
        "        loss.backward()\n",
        "        optimizer.step()\n",
        "\n",
        "        epoch_loss += loss.item()\n",
        "    return epoch_loss\n",
        "\n",
        "\n",
        "def test(encoder_model, dataloader):\n",
        "    encoder_model.eval()\n",
        "    x = []\n",
        "    y = []\n",
        "    for data in dataloader:\n",
        "        data = data.to('cuda')\n",
        "        if data.x is None:\n",
        "            num_nodes = data.batch.size(0)\n",
        "            data.x = torch.ones((num_nodes, 1), dtype=torch.float32, device=data.batch.device)\n",
        "        _, g, _, _, _, _ = encoder_model(data.x, data.edge_index, data.batch)\n",
        "        x.append(g)\n",
        "        y.append(data.y)\n",
        "    x = torch.cat(x, dim=0)\n",
        "    y = torch.cat(y, dim=0)\n",
        "\n",
        "    split = get_split(num_samples=x.size()[0], train_ratio=0.6, test_ratio=0.2)\n",
        "    result = SVMEvaluator(linear=True)(x, y, split)\n",
        "    return result"
      ]
    },
    {
      "cell_type": "markdown",
      "metadata": {
        "id": "HcH3TJ4GpjYp"
      },
      "source": [
        "Example Codes for Graph Classification"
      ]
    },
    {
      "cell_type": "code",
      "execution_count": null,
      "metadata": {
        "id": "L75VbQWa78h-"
      },
      "outputs": [],
      "source": [
        "def graph_classification():\n",
        "    device = torch.device('cuda')\n",
        "    path = osp.join(osp.expanduser('~'), 'datasets')\n",
        "    dataset = TUDataset(path, name='PTC_MR')\n",
        "    dataloader = DataLoader(dataset, batch_size=128)\n",
        "    input_dim = max(dataset.num_features, 1)\n",
        "\n",
        "    aug1 = A.Identity()\n",
        "    aug2 = A.RandomChoice([A.RWSampling(num_seeds=1000, walk_length=10),\n",
        "                           A.NodeDropping(pn=0.1),\n",
        "                           A.FeatureMasking(pf=0.1),\n",
        "                           A.EdgeRemoving(pe=0.1)], 1)\n",
        "    gconv = GConv(input_dim=input_dim, hidden_dim=32, num_layers=2).to(device)\n",
        "    encoder_model = Encoder(encoder=gconv, augmentor=(aug1, aug2)).to(device)\n",
        "    contrast_model = DualBranchContrast(loss=L.InfoNCE(tau=0.2), mode='G2G').to(device)\n",
        "\n",
        "    optimizer = Adam(encoder_model.parameters(), lr=0.00001)\n",
        "    test_results = []\n",
        "\n",
        "    with tqdm(total=100, desc='(T)') as pbar:\n",
        "        for epoch in range(1, 101):\n",
        "            loss = train(encoder_model, contrast_model, dataloader, optimizer)\n",
        "            if epoch % 5 == 0:\n",
        "                test_result = test(encoder_model, dataloader)\n",
        "                test_results.append([epoch,\n",
        "                                     test_result['micro_f1'],\n",
        "                                     test_result['macro_f1'],\n",
        "                                     loss])\n",
        "            # pbar.set_postfix({'loss': loss})\n",
        "            # pbar.update()\n",
        "    return test_results\n",
        "\n",
        "    # test_result = test(encoder_model, dataloader)\n",
        "    # print(f'(E): Best test F1Mi={test_result[\"micro_f1\"]:.4f}, F1Ma={test_result[\"macro_f1\"]:.4f}')\n",
        "\n",
        "\n",
        "if __name__ == '__main__':\n",
        "    test_results = graph_classification()\n"
      ]
    },
    {
      "cell_type": "markdown",
      "source": [
        "Modify the codes from MVGL_node.py and GrapgCL.py to make it suitable for both the node-level and graph-level tasks."
      ],
      "metadata": {
        "id": "jqT63FfuikWh"
      }
    },
    {
      "cell_type": "code",
      "execution_count": null,
      "metadata": {
        "id": "P-lcGEP5AXRj"
      },
      "outputs": [],
      "source": [
        "import torch\n",
        "import os.path as osp\n",
        "import GCL.losses as L\n",
        "import GCL.augmentors as A\n",
        "import torch.nn.functional as F\n",
        "import torch_geometric.transforms as T\n",
        "\n",
        "from torch import nn\n",
        "from tqdm import tqdm\n",
        "from torch.optim import Adam, SGD\n",
        "from GCL.eval import get_split, SVMEvaluator\n",
        "from GCL.models import DualBranchContrast\n",
        "from torch_geometric.nn import GINConv, global_add_pool\n",
        "from torch_geometric.data import DataLoader\n",
        "from torch_geometric.datasets import TUDataset,Planetoid\n",
        "\n",
        "\n",
        "def make_gin_conv(input_dim, out_dim):\n",
        "    return GINConv(nn.Sequential(nn.Linear(input_dim, out_dim), nn.ReLU(), nn.Linear(out_dim, out_dim)))\n",
        "\n",
        "\n",
        "class GConv(nn.Module):\n",
        "    def __init__(self, input_dim, hidden_dim, num_layers):\n",
        "        super(GConv, self).__init__()\n",
        "        self.layers = nn.ModuleList()\n",
        "        self.batch_norms = nn.ModuleList()\n",
        "\n",
        "        for i in range(num_layers):\n",
        "            if i == 0:\n",
        "                self.layers.append(make_gin_conv(input_dim, hidden_dim))\n",
        "            else:\n",
        "                self.layers.append(make_gin_conv(hidden_dim, hidden_dim))\n",
        "            self.batch_norms.append(nn.BatchNorm1d(hidden_dim))\n",
        "\n",
        "        project_dim = hidden_dim * num_layers\n",
        "        self.project = torch.nn.Sequential(\n",
        "            nn.Linear(project_dim, project_dim),\n",
        "            nn.ReLU(inplace=True),\n",
        "            nn.Linear(project_dim, project_dim))\n",
        "\n",
        "    def forward(self, x, edge_index, batch):\n",
        "        z = x\n",
        "        zs = []\n",
        "        for conv, bn in zip(self.layers, self.batch_norms):\n",
        "            z = conv(z, edge_index)\n",
        "            z = F.relu(z)\n",
        "            z = bn(z)\n",
        "            zs.append(z)\n",
        "        z = torch.cat(zs, dim=1)\n",
        "        z = self.project(z)\n",
        "        return z\n",
        "\n",
        "\n",
        "class Encoder(torch.nn.Module):\n",
        "    def __init__(self, encoder, augmentor):\n",
        "        super(Encoder, self).__init__()\n",
        "        self.encoder = encoder\n",
        "        self.augmentor = augmentor\n",
        "\n",
        "    def forward(self, x, edge_index, batch):\n",
        "        aug1, aug2 = self.augmentor\n",
        "        x1, edge_index1, edge_weight1 = aug1(x, edge_index)\n",
        "        x2, edge_index2, edge_weight2 = aug2(x, edge_index)\n",
        "        z = self.encoder(x, edge_index, batch)\n",
        "        z1 = self.encoder(x1, edge_index1, batch)\n",
        "        z2 = self.encoder(x2, edge_index2, batch)\n",
        "        return z, z1, z2\n",
        "\n",
        "def train_node(encoder_model, contrast_model, data, optimizer):\n",
        "  encoder_model.train()\n",
        "  optimizer.zero_grad()\n",
        "  z, z1, z2 = encoder_model(data.x, data.edge_index, data.batch)\n",
        "  loss = contrast_model(h1=z1, h2=z2, batch=data.batch)\n",
        "  loss.backward()\n",
        "  optimizer.step()\n",
        "  return loss.item()\n",
        "\n",
        "def test_node(encoder_model, data):\n",
        "  encoder_model.eval()\n",
        "  z, _, _ = encoder_model(data.x, data.edge_index, data.batch)\n",
        "  split = get_split(num_samples=z.size()[0], train_ratio=0.6, test_ratio=0.2)\n",
        "  result = SVMEvaluator(linear=True)(z, data.y, split)\n",
        "  return result\n",
        "\n",
        "def node_classification(option):\n",
        "    device = torch.device('cuda')\n",
        "    path = osp.join(osp.expanduser('~'), 'datasets')\n",
        "    dataset = Planetoid(path, name='Cora', transform=T.NormalizeFeatures())\n",
        "    data = dataset[0].to(device)\n",
        "    input_dim = max(dataset.num_features, 1)\n",
        "\n",
        "    ## Choose for different sparsification methods for augmentation ##\n",
        "    # aug1 = A.Identity()\n",
        "    aug1 = A.PPRDiffusion(alpha = 0.2)\n",
        "    if option == 'fosr':\n",
        "      aug2 = A.FOSR(max_iterations = 20)\n",
        "    elif option == 'proxydelmin':\n",
        "      aug2 = A.PROXYDELMIN(max_iterations = 20, seed = 4438)\n",
        "    elif option == 'proxydelmax':\n",
        "      aug2 = A.PROXYDELMAX(max_iterations = 20, seed = 4438)\n",
        "    elif option == 'sdrf':\n",
        "      aug2 = A.SDRF(max_iterations = 20)\n",
        "    else:\n",
        "      aug2 = A.Identity()\n",
        "    gconv = GConv(input_dim=input_dim, hidden_dim=128, num_layers=2).to(device)\n",
        "    encoder_model = Encoder(encoder=gconv, augmentor=(aug1, aug2)).to(device)\n",
        "    contrast_model = DualBranchContrast(loss=L.InfoNCE(tau=0.2), mode='L2L').to(device)\n",
        "\n",
        "    optimizer = Adam(encoder_model.parameters(), lr=0.01)\n",
        "    optimizer = SGD(encoder_model.parameters(), lr=0.01)\n",
        "    test_results = []\n",
        "\n",
        "    with tqdm(total=100, desc='(T)') as pbar:\n",
        "        for epoch in range(1, 101):\n",
        "            loss = train_node(encoder_model, contrast_model, data, optimizer)\n",
        "            if epoch % 5 == 0:\n",
        "                test_result = test_node(encoder_model, data)\n",
        "                test_results.append([epoch,\n",
        "                                     test_result['micro_f1'],\n",
        "                                     test_result['macro_f1'],\n",
        "                                     loss])\n",
        "            pbar.set_postfix({'loss': loss})\n",
        "            pbar.update()\n",
        "    return test_results\n"
      ]
    },
    {
      "cell_type": "code",
      "execution_count": null,
      "metadata": {
        "id": "TMS6Iq2pCUCU",
        "colab": {
          "base_uri": "https://localhost:8080/"
        },
        "outputId": "93ae68a6-fdae-45f7-9b18-7bb65e511fde"
      },
      "outputs": [
        {
          "metadata": {
            "tags": null
          },
          "name": "stderr",
          "output_type": "stream",
          "text": [
            "(T): 100%|██████████| 100/100 [09:04<00:00,  5.44s/it, loss=5.25]\n",
            "(T):   0%|          | 0/100 [00:00<?, ?it/s]"
          ]
        },
        {
          "metadata": {
            "tags": null
          },
          "name": "stdout",
          "output_type": "stream",
          "text": [
            "========================================\n",
            "No more edges can be modified to increase the spectral gap.\n"
          ]
        },
        {
          "metadata": {
            "tags": null
          },
          "name": "stderr",
          "output_type": "stream",
          "text": [
            "(T):   1%|          | 1/100 [00:10<16:43, 10.13s/it, loss=7.77]"
          ]
        },
        {
          "metadata": {
            "tags": null
          },
          "name": "stdout",
          "output_type": "stream",
          "text": [
            "========================================\n",
            "No more edges can be modified to increase the spectral gap.\n"
          ]
        },
        {
          "metadata": {
            "tags": null
          },
          "name": "stderr",
          "output_type": "stream",
          "text": [
            "(T):   2%|▏         | 2/100 [00:20<16:20, 10.00s/it, loss=7.67]"
          ]
        },
        {
          "metadata": {
            "tags": null
          },
          "name": "stdout",
          "output_type": "stream",
          "text": [
            "========================================\n",
            "No more edges can be modified to increase the spectral gap.\n"
          ]
        },
        {
          "metadata": {
            "tags": null
          },
          "name": "stderr",
          "output_type": "stream",
          "text": [
            "(T):   3%|▎         | 3/100 [00:30<16:28, 10.19s/it, loss=7.58]"
          ]
        },
        {
          "metadata": {
            "tags": null
          },
          "name": "stdout",
          "output_type": "stream",
          "text": [
            "========================================\n",
            "No more edges can be modified to increase the spectral gap.\n"
          ]
        },
        {
          "metadata": {
            "tags": null
          },
          "name": "stderr",
          "output_type": "stream",
          "text": [
            "(T):   4%|▍         | 4/100 [00:40<16:02, 10.02s/it, loss=7.5]"
          ]
        },
        {
          "metadata": {
            "tags": null
          },
          "name": "stdout",
          "output_type": "stream",
          "text": [
            "========================================\n",
            "No more edges can be modified to increase the spectral gap.\n",
            "========================================\n",
            "No more edges can be modified to increase the spectral gap.\n"
          ]
        },
        {
          "metadata": {
            "tags": null
          },
          "name": "stderr",
          "output_type": "stream",
          "text": [
            "(T):   5%|▌         | 5/100 [01:01<22:01, 13.91s/it, loss=7.42]"
          ]
        },
        {
          "metadata": {
            "tags": null
          },
          "name": "stdout",
          "output_type": "stream",
          "text": [
            "========================================\n",
            "No more edges can be modified to increase the spectral gap.\n"
          ]
        },
        {
          "metadata": {
            "tags": null
          },
          "name": "stderr",
          "output_type": "stream",
          "text": [
            "(T):   6%|▌         | 6/100 [01:11<19:51, 12.68s/it, loss=7.37]"
          ]
        },
        {
          "metadata": {
            "tags": null
          },
          "name": "stdout",
          "output_type": "stream",
          "text": [
            "========================================\n",
            "No more edges can be modified to increase the spectral gap.\n"
          ]
        },
        {
          "metadata": {
            "tags": null
          },
          "name": "stderr",
          "output_type": "stream",
          "text": [
            "(T):   7%|▋         | 7/100 [01:21<18:13, 11.76s/it, loss=7.31]"
          ]
        },
        {
          "metadata": {
            "tags": null
          },
          "name": "stdout",
          "output_type": "stream",
          "text": [
            "========================================\n",
            "No more edges can be modified to increase the spectral gap.\n"
          ]
        },
        {
          "metadata": {
            "tags": null
          },
          "name": "stderr",
          "output_type": "stream",
          "text": [
            "(T):   8%|▊         | 8/100 [01:31<17:06, 11.16s/it, loss=7.28]"
          ]
        },
        {
          "metadata": {
            "tags": null
          },
          "name": "stdout",
          "output_type": "stream",
          "text": [
            "========================================\n",
            "No more edges can be modified to increase the spectral gap.\n"
          ]
        },
        {
          "metadata": {
            "tags": null
          },
          "name": "stderr",
          "output_type": "stream",
          "text": [
            "(T):   9%|▉         | 9/100 [01:40<16:19, 10.76s/it, loss=7.23]"
          ]
        },
        {
          "metadata": {
            "tags": null
          },
          "name": "stdout",
          "output_type": "stream",
          "text": [
            "========================================\n",
            "No more edges can be modified to increase the spectral gap.\n",
            "========================================\n",
            "No more edges can be modified to increase the spectral gap.\n"
          ]
        },
        {
          "metadata": {
            "tags": null
          },
          "name": "stderr",
          "output_type": "stream",
          "text": [
            "(T):  10%|█         | 10/100 [02:03<21:42, 14.47s/it, loss=7.18]"
          ]
        },
        {
          "metadata": {
            "tags": null
          },
          "name": "stdout",
          "output_type": "stream",
          "text": [
            "========================================\n",
            "No more edges can be modified to increase the spectral gap.\n"
          ]
        },
        {
          "metadata": {
            "tags": null
          },
          "name": "stderr",
          "output_type": "stream",
          "text": [
            "(T):  11%|█         | 11/100 [02:12<19:02, 12.84s/it, loss=7.13]"
          ]
        },
        {
          "metadata": {
            "tags": null
          },
          "name": "stdout",
          "output_type": "stream",
          "text": [
            "========================================\n",
            "No more edges can be modified to increase the spectral gap.\n"
          ]
        },
        {
          "metadata": {
            "tags": null
          },
          "name": "stderr",
          "output_type": "stream",
          "text": [
            "(T):  12%|█▏        | 12/100 [02:22<17:32, 11.96s/it, loss=7.09]"
          ]
        },
        {
          "metadata": {
            "tags": null
          },
          "name": "stdout",
          "output_type": "stream",
          "text": [
            "========================================\n",
            "No more edges can be modified to increase the spectral gap.\n"
          ]
        },
        {
          "metadata": {
            "tags": null
          },
          "name": "stderr",
          "output_type": "stream",
          "text": [
            "(T):  13%|█▎        | 13/100 [02:33<16:39, 11.49s/it, loss=7.05]"
          ]
        },
        {
          "metadata": {
            "tags": null
          },
          "name": "stdout",
          "output_type": "stream",
          "text": [
            "========================================\n",
            "No more edges can be modified to increase the spectral gap.\n"
          ]
        },
        {
          "metadata": {
            "tags": null
          },
          "name": "stderr",
          "output_type": "stream",
          "text": [
            "(T):  14%|█▍        | 14/100 [02:43<15:46, 11.00s/it, loss=7.01]"
          ]
        },
        {
          "metadata": {
            "tags": null
          },
          "name": "stdout",
          "output_type": "stream",
          "text": [
            "========================================\n",
            "No more edges can be modified to increase the spectral gap.\n",
            "========================================\n",
            "No more edges can be modified to increase the spectral gap.\n"
          ]
        },
        {
          "metadata": {
            "tags": null
          },
          "name": "stderr",
          "output_type": "stream",
          "text": [
            "(T):  15%|█▌        | 15/100 [03:08<21:36, 15.25s/it, loss=6.97]"
          ]
        },
        {
          "metadata": {
            "tags": null
          },
          "name": "stdout",
          "output_type": "stream",
          "text": [
            "========================================\n",
            "No more edges can be modified to increase the spectral gap.\n"
          ]
        },
        {
          "metadata": {
            "tags": null
          },
          "name": "stderr",
          "output_type": "stream",
          "text": [
            "(T):  16%|█▌        | 16/100 [03:18<19:20, 13.82s/it, loss=6.94]"
          ]
        },
        {
          "metadata": {
            "tags": null
          },
          "name": "stdout",
          "output_type": "stream",
          "text": [
            "========================================\n",
            "No more edges can be modified to increase the spectral gap.\n"
          ]
        },
        {
          "metadata": {
            "tags": null
          },
          "name": "stderr",
          "output_type": "stream",
          "text": [
            "(T):  17%|█▋        | 17/100 [03:28<17:24, 12.59s/it, loss=6.9]"
          ]
        },
        {
          "metadata": {
            "tags": null
          },
          "name": "stdout",
          "output_type": "stream",
          "text": [
            "========================================\n",
            "No more edges can be modified to increase the spectral gap.\n"
          ]
        },
        {
          "metadata": {
            "tags": null
          },
          "name": "stderr",
          "output_type": "stream",
          "text": [
            "(T):  18%|█▊        | 18/100 [03:37<15:46, 11.54s/it, loss=6.86]"
          ]
        },
        {
          "metadata": {
            "tags": null
          },
          "name": "stdout",
          "output_type": "stream",
          "text": [
            "========================================\n",
            "No more edges can be modified to increase the spectral gap.\n"
          ]
        },
        {
          "metadata": {
            "tags": null
          },
          "name": "stderr",
          "output_type": "stream",
          "text": [
            "(T):  19%|█▉        | 19/100 [03:47<14:55, 11.05s/it, loss=6.83]"
          ]
        },
        {
          "metadata": {
            "tags": null
          },
          "name": "stdout",
          "output_type": "stream",
          "text": [
            "========================================\n",
            "No more edges can be modified to increase the spectral gap.\n",
            "========================================\n",
            "No more edges can be modified to increase the spectral gap.\n"
          ]
        },
        {
          "metadata": {
            "tags": null
          },
          "name": "stderr",
          "output_type": "stream",
          "text": [
            "(T):  20%|██        | 20/100 [04:13<20:35, 15.44s/it, loss=6.79]"
          ]
        },
        {
          "metadata": {
            "tags": null
          },
          "name": "stdout",
          "output_type": "stream",
          "text": [
            "========================================\n",
            "No more edges can be modified to increase the spectral gap.\n"
          ]
        },
        {
          "metadata": {
            "tags": null
          },
          "name": "stderr",
          "output_type": "stream",
          "text": [
            "(T):  21%|██        | 21/100 [04:23<18:12, 13.83s/it, loss=6.76]"
          ]
        },
        {
          "metadata": {
            "tags": null
          },
          "name": "stdout",
          "output_type": "stream",
          "text": [
            "========================================\n",
            "No more edges can be modified to increase the spectral gap.\n"
          ]
        },
        {
          "metadata": {
            "tags": null
          },
          "name": "stderr",
          "output_type": "stream",
          "text": [
            "(T):  22%|██▏       | 22/100 [04:33<16:25, 12.64s/it, loss=6.73]"
          ]
        },
        {
          "metadata": {
            "tags": null
          },
          "name": "stdout",
          "output_type": "stream",
          "text": [
            "========================================\n",
            "No more edges can be modified to increase the spectral gap.\n"
          ]
        },
        {
          "metadata": {
            "tags": null
          },
          "name": "stderr",
          "output_type": "stream",
          "text": [
            "(T):  23%|██▎       | 23/100 [04:43<15:22, 11.98s/it, loss=6.71]"
          ]
        },
        {
          "metadata": {
            "tags": null
          },
          "name": "stdout",
          "output_type": "stream",
          "text": [
            "========================================\n",
            "No more edges can be modified to increase the spectral gap.\n"
          ]
        },
        {
          "metadata": {
            "tags": null
          },
          "name": "stderr",
          "output_type": "stream",
          "text": [
            "(T):  24%|██▍       | 24/100 [04:53<14:21, 11.33s/it, loss=6.69]"
          ]
        },
        {
          "metadata": {
            "tags": null
          },
          "name": "stdout",
          "output_type": "stream",
          "text": [
            "========================================\n",
            "No more edges can be modified to increase the spectral gap.\n",
            "========================================\n",
            "No more edges can be modified to increase the spectral gap.\n"
          ]
        },
        {
          "metadata": {
            "tags": null
          },
          "name": "stderr",
          "output_type": "stream",
          "text": [
            "(T):  25%|██▌       | 25/100 [05:20<20:02, 16.03s/it, loss=6.67]"
          ]
        },
        {
          "metadata": {
            "tags": null
          },
          "name": "stdout",
          "output_type": "stream",
          "text": [
            "========================================\n",
            "No more edges can be modified to increase the spectral gap.\n"
          ]
        },
        {
          "metadata": {
            "tags": null
          },
          "name": "stderr",
          "output_type": "stream",
          "text": [
            "(T):  26%|██▌       | 26/100 [05:30<17:41, 14.35s/it, loss=6.64]"
          ]
        },
        {
          "metadata": {
            "tags": null
          },
          "name": "stdout",
          "output_type": "stream",
          "text": [
            "========================================\n",
            "No more edges can be modified to increase the spectral gap.\n"
          ]
        },
        {
          "metadata": {
            "tags": null
          },
          "name": "stderr",
          "output_type": "stream",
          "text": [
            "(T):  27%|██▋       | 27/100 [05:40<15:48, 12.99s/it, loss=6.61]"
          ]
        },
        {
          "metadata": {
            "tags": null
          },
          "name": "stdout",
          "output_type": "stream",
          "text": [
            "========================================\n",
            "No more edges can be modified to increase the spectral gap.\n"
          ]
        },
        {
          "metadata": {
            "tags": null
          },
          "name": "stderr",
          "output_type": "stream",
          "text": [
            "(T):  28%|██▊       | 28/100 [05:49<14:11, 11.82s/it, loss=6.58]"
          ]
        },
        {
          "metadata": {
            "tags": null
          },
          "name": "stdout",
          "output_type": "stream",
          "text": [
            "========================================\n",
            "No more edges can be modified to increase the spectral gap.\n"
          ]
        },
        {
          "metadata": {
            "tags": null
          },
          "name": "stderr",
          "output_type": "stream",
          "text": [
            "(T):  29%|██▉       | 29/100 [05:59<13:19, 11.27s/it, loss=6.55]"
          ]
        },
        {
          "metadata": {
            "tags": null
          },
          "name": "stdout",
          "output_type": "stream",
          "text": [
            "========================================\n",
            "No more edges can be modified to increase the spectral gap.\n",
            "========================================\n",
            "No more edges can be modified to increase the spectral gap.\n"
          ]
        },
        {
          "metadata": {
            "tags": null
          },
          "name": "stderr",
          "output_type": "stream",
          "text": [
            "(T):  30%|███       | 30/100 [06:30<19:59, 17.14s/it, loss=6.54]"
          ]
        },
        {
          "metadata": {
            "tags": null
          },
          "name": "stdout",
          "output_type": "stream",
          "text": [
            "========================================\n",
            "No more edges can be modified to increase the spectral gap.\n"
          ]
        },
        {
          "metadata": {
            "tags": null
          },
          "name": "stderr",
          "output_type": "stream",
          "text": [
            "(T):  31%|███       | 31/100 [06:40<17:12, 14.96s/it, loss=6.53]"
          ]
        },
        {
          "metadata": {
            "tags": null
          },
          "name": "stdout",
          "output_type": "stream",
          "text": [
            "========================================\n",
            "No more edges can be modified to increase the spectral gap.\n"
          ]
        },
        {
          "metadata": {
            "tags": null
          },
          "name": "stderr",
          "output_type": "stream",
          "text": [
            "(T):  32%|███▏      | 32/100 [06:49<14:57, 13.20s/it, loss=6.5]"
          ]
        },
        {
          "metadata": {
            "tags": null
          },
          "name": "stdout",
          "output_type": "stream",
          "text": [
            "========================================\n",
            "No more edges can be modified to increase the spectral gap.\n"
          ]
        },
        {
          "metadata": {
            "tags": null
          },
          "name": "stderr",
          "output_type": "stream",
          "text": [
            "(T):  33%|███▎      | 33/100 [06:59<13:48, 12.37s/it, loss=6.47]"
          ]
        },
        {
          "metadata": {
            "tags": null
          },
          "name": "stdout",
          "output_type": "stream",
          "text": [
            "========================================\n",
            "No more edges can be modified to increase the spectral gap.\n"
          ]
        },
        {
          "metadata": {
            "tags": null
          },
          "name": "stderr",
          "output_type": "stream",
          "text": [
            "(T):  34%|███▍      | 34/100 [07:09<12:46, 11.62s/it, loss=6.44]"
          ]
        },
        {
          "metadata": {
            "tags": null
          },
          "name": "stdout",
          "output_type": "stream",
          "text": [
            "========================================\n",
            "No more edges can be modified to increase the spectral gap.\n",
            "========================================\n",
            "No more edges can be modified to increase the spectral gap.\n"
          ]
        },
        {
          "metadata": {
            "tags": null
          },
          "name": "stderr",
          "output_type": "stream",
          "text": [
            "(T):  35%|███▌      | 35/100 [07:42<19:20, 17.85s/it, loss=6.42]"
          ]
        },
        {
          "metadata": {
            "tags": null
          },
          "name": "stdout",
          "output_type": "stream",
          "text": [
            "========================================\n",
            "No more edges can be modified to increase the spectral gap.\n"
          ]
        },
        {
          "metadata": {
            "tags": null
          },
          "name": "stderr",
          "output_type": "stream",
          "text": [
            "(T):  36%|███▌      | 36/100 [07:52<16:36, 15.57s/it, loss=6.41]"
          ]
        },
        {
          "metadata": {
            "tags": null
          },
          "name": "stdout",
          "output_type": "stream",
          "text": [
            "========================================\n",
            "No more edges can be modified to increase the spectral gap.\n"
          ]
        },
        {
          "metadata": {
            "tags": null
          },
          "name": "stderr",
          "output_type": "stream",
          "text": [
            "(T):  37%|███▋      | 37/100 [08:01<14:21, 13.67s/it, loss=6.38]"
          ]
        },
        {
          "metadata": {
            "tags": null
          },
          "name": "stdout",
          "output_type": "stream",
          "text": [
            "========================================\n",
            "No more edges can be modified to increase the spectral gap.\n"
          ]
        },
        {
          "metadata": {
            "tags": null
          },
          "name": "stderr",
          "output_type": "stream",
          "text": [
            "(T):  38%|███▊      | 38/100 [08:11<12:59, 12.57s/it, loss=6.36]"
          ]
        },
        {
          "metadata": {
            "tags": null
          },
          "name": "stdout",
          "output_type": "stream",
          "text": [
            "========================================\n",
            "No more edges can be modified to increase the spectral gap.\n"
          ]
        },
        {
          "metadata": {
            "tags": null
          },
          "name": "stderr",
          "output_type": "stream",
          "text": [
            "(T):  39%|███▉      | 39/100 [08:21<12:00, 11.81s/it, loss=6.35]"
          ]
        },
        {
          "metadata": {
            "tags": null
          },
          "name": "stdout",
          "output_type": "stream",
          "text": [
            "========================================\n",
            "No more edges can be modified to increase the spectral gap.\n",
            "========================================\n",
            "No more edges can be modified to increase the spectral gap.\n"
          ]
        },
        {
          "metadata": {
            "tags": null
          },
          "name": "stderr",
          "output_type": "stream",
          "text": [
            "(T):  40%|████      | 40/100 [08:50<16:47, 16.79s/it, loss=6.33]"
          ]
        },
        {
          "metadata": {
            "tags": null
          },
          "name": "stdout",
          "output_type": "stream",
          "text": [
            "========================================\n",
            "No more edges can be modified to increase the spectral gap.\n"
          ]
        },
        {
          "metadata": {
            "tags": null
          },
          "name": "stderr",
          "output_type": "stream",
          "text": [
            "(T):  41%|████      | 41/100 [09:00<14:32, 14.79s/it, loss=6.31]"
          ]
        },
        {
          "metadata": {
            "tags": null
          },
          "name": "stdout",
          "output_type": "stream",
          "text": [
            "========================================\n",
            "No more edges can be modified to increase the spectral gap.\n"
          ]
        },
        {
          "metadata": {
            "tags": null
          },
          "name": "stderr",
          "output_type": "stream",
          "text": [
            "(T):  42%|████▏     | 42/100 [09:10<12:51, 13.30s/it, loss=6.3]"
          ]
        },
        {
          "metadata": {
            "tags": null
          },
          "name": "stdout",
          "output_type": "stream",
          "text": [
            "========================================\n",
            "No more edges can be modified to increase the spectral gap.\n"
          ]
        },
        {
          "metadata": {
            "tags": null
          },
          "name": "stderr",
          "output_type": "stream",
          "text": [
            "(T):  43%|████▎     | 43/100 [09:20<11:50, 12.47s/it, loss=6.29]"
          ]
        },
        {
          "metadata": {
            "tags": null
          },
          "name": "stdout",
          "output_type": "stream",
          "text": [
            "========================================\n",
            "No more edges can be modified to increase the spectral gap.\n"
          ]
        },
        {
          "metadata": {
            "tags": null
          },
          "name": "stderr",
          "output_type": "stream",
          "text": [
            "(T):  44%|████▍     | 44/100 [09:30<10:55, 11.71s/it, loss=6.28]"
          ]
        },
        {
          "metadata": {
            "tags": null
          },
          "name": "stdout",
          "output_type": "stream",
          "text": [
            "========================================\n",
            "No more edges can be modified to increase the spectral gap.\n",
            "========================================\n",
            "No more edges can be modified to increase the spectral gap.\n"
          ]
        },
        {
          "metadata": {
            "tags": null
          },
          "name": "stderr",
          "output_type": "stream",
          "text": [
            "(T):  45%|████▌     | 45/100 [10:02<16:14, 17.72s/it, loss=6.27]"
          ]
        },
        {
          "metadata": {
            "tags": null
          },
          "name": "stdout",
          "output_type": "stream",
          "text": [
            "========================================\n",
            "No more edges can be modified to increase the spectral gap.\n"
          ]
        },
        {
          "metadata": {
            "tags": null
          },
          "name": "stderr",
          "output_type": "stream",
          "text": [
            "(T):  46%|████▌     | 46/100 [10:12<13:58, 15.53s/it, loss=6.25]"
          ]
        },
        {
          "metadata": {
            "tags": null
          },
          "name": "stdout",
          "output_type": "stream",
          "text": [
            "========================================\n",
            "No more edges can be modified to increase the spectral gap.\n"
          ]
        },
        {
          "metadata": {
            "tags": null
          },
          "name": "stderr",
          "output_type": "stream",
          "text": [
            "(T):  47%|████▋     | 47/100 [10:22<12:13, 13.85s/it, loss=6.22]"
          ]
        },
        {
          "metadata": {
            "tags": null
          },
          "name": "stdout",
          "output_type": "stream",
          "text": [
            "========================================\n",
            "No more edges can be modified to increase the spectral gap.\n"
          ]
        },
        {
          "metadata": {
            "tags": null
          },
          "name": "stderr",
          "output_type": "stream",
          "text": [
            "(T):  48%|████▊     | 48/100 [10:32<11:00, 12.70s/it, loss=6.2]"
          ]
        },
        {
          "metadata": {
            "tags": null
          },
          "name": "stdout",
          "output_type": "stream",
          "text": [
            "========================================\n",
            "No more edges can be modified to increase the spectral gap.\n"
          ]
        },
        {
          "metadata": {
            "tags": null
          },
          "name": "stderr",
          "output_type": "stream",
          "text": [
            "(T):  49%|████▉     | 49/100 [10:42<10:05, 11.87s/it, loss=6.18]"
          ]
        },
        {
          "metadata": {
            "tags": null
          },
          "name": "stdout",
          "output_type": "stream",
          "text": [
            "========================================\n",
            "No more edges can be modified to increase the spectral gap.\n",
            "========================================\n",
            "No more edges can be modified to increase the spectral gap.\n"
          ]
        },
        {
          "metadata": {
            "tags": null
          },
          "name": "stderr",
          "output_type": "stream",
          "text": [
            "(T):  50%|█████     | 50/100 [11:18<15:49, 18.99s/it, loss=6.16]"
          ]
        },
        {
          "metadata": {
            "tags": null
          },
          "name": "stdout",
          "output_type": "stream",
          "text": [
            "========================================\n",
            "No more edges can be modified to increase the spectral gap.\n"
          ]
        },
        {
          "metadata": {
            "tags": null
          },
          "name": "stderr",
          "output_type": "stream",
          "text": [
            "(T):  51%|█████     | 51/100 [11:27<13:06, 16.05s/it, loss=6.15]"
          ]
        },
        {
          "metadata": {
            "tags": null
          },
          "name": "stdout",
          "output_type": "stream",
          "text": [
            "========================================\n",
            "No more edges can be modified to increase the spectral gap.\n"
          ]
        },
        {
          "metadata": {
            "tags": null
          },
          "name": "stderr",
          "output_type": "stream",
          "text": [
            "(T):  52%|█████▏    | 52/100 [11:37<11:20, 14.17s/it, loss=6.14]"
          ]
        },
        {
          "metadata": {
            "tags": null
          },
          "name": "stdout",
          "output_type": "stream",
          "text": [
            "========================================\n",
            "No more edges can be modified to increase the spectral gap.\n"
          ]
        },
        {
          "metadata": {
            "tags": null
          },
          "name": "stderr",
          "output_type": "stream",
          "text": [
            "(T):  53%|█████▎    | 53/100 [11:47<10:12, 13.04s/it, loss=6.13]"
          ]
        },
        {
          "metadata": {
            "tags": null
          },
          "name": "stdout",
          "output_type": "stream",
          "text": [
            "========================================\n",
            "No more edges can be modified to increase the spectral gap.\n"
          ]
        },
        {
          "metadata": {
            "tags": null
          },
          "name": "stderr",
          "output_type": "stream",
          "text": [
            "(T):  54%|█████▍    | 54/100 [11:57<09:15, 12.09s/it, loss=6.12]"
          ]
        },
        {
          "metadata": {
            "tags": null
          },
          "name": "stdout",
          "output_type": "stream",
          "text": [
            "========================================\n",
            "No more edges can be modified to increase the spectral gap.\n",
            "========================================\n",
            "No more edges can be modified to increase the spectral gap.\n"
          ]
        },
        {
          "metadata": {
            "tags": null
          },
          "name": "stderr",
          "output_type": "stream",
          "text": [
            "(T):  55%|█████▌    | 55/100 [12:32<14:18, 19.08s/it, loss=6.1]"
          ]
        },
        {
          "metadata": {
            "tags": null
          },
          "name": "stdout",
          "output_type": "stream",
          "text": [
            "========================================\n",
            "No more edges can be modified to increase the spectral gap.\n"
          ]
        },
        {
          "metadata": {
            "tags": null
          },
          "name": "stderr",
          "output_type": "stream",
          "text": [
            "(T):  56%|█████▌    | 56/100 [12:43<12:04, 16.48s/it, loss=6.08]"
          ]
        },
        {
          "metadata": {
            "tags": null
          },
          "name": "stdout",
          "output_type": "stream",
          "text": [
            "========================================\n",
            "No more edges can be modified to increase the spectral gap.\n"
          ]
        },
        {
          "metadata": {
            "tags": null
          },
          "name": "stderr",
          "output_type": "stream",
          "text": [
            "(T):  57%|█████▋    | 57/100 [12:52<10:13, 14.26s/it, loss=6.07]"
          ]
        },
        {
          "metadata": {
            "tags": null
          },
          "name": "stdout",
          "output_type": "stream",
          "text": [
            "========================================\n",
            "No more edges can be modified to increase the spectral gap.\n"
          ]
        },
        {
          "metadata": {
            "tags": null
          },
          "name": "stderr",
          "output_type": "stream",
          "text": [
            "(T):  58%|█████▊    | 58/100 [13:02<09:04, 12.96s/it, loss=6.07]"
          ]
        },
        {
          "metadata": {
            "tags": null
          },
          "name": "stdout",
          "output_type": "stream",
          "text": [
            "========================================\n",
            "No more edges can be modified to increase the spectral gap.\n"
          ]
        },
        {
          "metadata": {
            "tags": null
          },
          "name": "stderr",
          "output_type": "stream",
          "text": [
            "(T):  59%|█████▉    | 59/100 [13:12<08:14, 12.05s/it, loss=6.06]"
          ]
        },
        {
          "metadata": {
            "tags": null
          },
          "name": "stdout",
          "output_type": "stream",
          "text": [
            "========================================\n",
            "No more edges can be modified to increase the spectral gap.\n",
            "========================================\n",
            "No more edges can be modified to increase the spectral gap.\n"
          ]
        },
        {
          "metadata": {
            "tags": null
          },
          "name": "stderr",
          "output_type": "stream",
          "text": [
            "(T):  60%|██████    | 60/100 [13:41<11:34, 17.37s/it, loss=6.07]"
          ]
        },
        {
          "metadata": {
            "tags": null
          },
          "name": "stdout",
          "output_type": "stream",
          "text": [
            "========================================\n",
            "No more edges can be modified to increase the spectral gap.\n"
          ]
        },
        {
          "metadata": {
            "tags": null
          },
          "name": "stderr",
          "output_type": "stream",
          "text": [
            "(T):  61%|██████    | 61/100 [13:51<09:48, 15.08s/it, loss=6.05]"
          ]
        },
        {
          "metadata": {
            "tags": null
          },
          "name": "stdout",
          "output_type": "stream",
          "text": [
            "========================================\n",
            "No more edges can be modified to increase the spectral gap.\n"
          ]
        },
        {
          "metadata": {
            "tags": null
          },
          "name": "stderr",
          "output_type": "stream",
          "text": [
            "(T):  62%|██████▏   | 62/100 [14:01<08:33, 13.51s/it, loss=6.03]"
          ]
        },
        {
          "metadata": {
            "tags": null
          },
          "name": "stdout",
          "output_type": "stream",
          "text": [
            "========================================\n",
            "No more edges can be modified to increase the spectral gap.\n"
          ]
        },
        {
          "metadata": {
            "tags": null
          },
          "name": "stderr",
          "output_type": "stream",
          "text": [
            "(T):  63%|██████▎   | 63/100 [14:11<07:46, 12.61s/it, loss=6]"
          ]
        },
        {
          "metadata": {
            "tags": null
          },
          "name": "stdout",
          "output_type": "stream",
          "text": [
            "========================================\n",
            "No more edges can be modified to increase the spectral gap.\n"
          ]
        },
        {
          "metadata": {
            "tags": null
          },
          "name": "stderr",
          "output_type": "stream",
          "text": [
            "(T):  64%|██████▍   | 64/100 [14:21<07:03, 11.78s/it, loss=5.99]"
          ]
        },
        {
          "metadata": {
            "tags": null
          },
          "name": "stdout",
          "output_type": "stream",
          "text": [
            "========================================\n",
            "No more edges can be modified to increase the spectral gap.\n",
            "========================================\n",
            "No more edges can be modified to increase the spectral gap.\n"
          ]
        },
        {
          "metadata": {
            "tags": null
          },
          "name": "stderr",
          "output_type": "stream",
          "text": [
            "(T):  65%|██████▌   | 65/100 [14:57<10:58, 18.81s/it, loss=5.98]"
          ]
        },
        {
          "metadata": {
            "tags": null
          },
          "name": "stdout",
          "output_type": "stream",
          "text": [
            "========================================\n",
            "No more edges can be modified to increase the spectral gap.\n"
          ]
        },
        {
          "metadata": {
            "tags": null
          },
          "name": "stderr",
          "output_type": "stream",
          "text": [
            "(T):  66%|██████▌   | 66/100 [15:07<09:12, 16.25s/it, loss=5.98]"
          ]
        },
        {
          "metadata": {
            "tags": null
          },
          "name": "stdout",
          "output_type": "stream",
          "text": [
            "========================================\n",
            "No more edges can be modified to increase the spectral gap.\n"
          ]
        },
        {
          "metadata": {
            "tags": null
          },
          "name": "stderr",
          "output_type": "stream",
          "text": [
            "(T):  67%|██████▋   | 67/100 [15:16<07:47, 14.16s/it, loss=5.98]"
          ]
        },
        {
          "metadata": {
            "tags": null
          },
          "name": "stdout",
          "output_type": "stream",
          "text": [
            "========================================\n",
            "No more edges can be modified to increase the spectral gap.\n"
          ]
        },
        {
          "metadata": {
            "tags": null
          },
          "name": "stderr",
          "output_type": "stream",
          "text": [
            "(T):  68%|██████▊   | 68/100 [15:26<06:54, 12.95s/it, loss=5.98]"
          ]
        },
        {
          "metadata": {
            "tags": null
          },
          "name": "stdout",
          "output_type": "stream",
          "text": [
            "========================================\n",
            "No more edges can be modified to increase the spectral gap.\n"
          ]
        },
        {
          "metadata": {
            "tags": null
          },
          "name": "stderr",
          "output_type": "stream",
          "text": [
            "(T):  69%|██████▉   | 69/100 [15:36<06:12, 12.03s/it, loss=5.99]"
          ]
        },
        {
          "metadata": {
            "tags": null
          },
          "name": "stdout",
          "output_type": "stream",
          "text": [
            "========================================\n",
            "No more edges can be modified to increase the spectral gap.\n",
            "========================================\n",
            "No more edges can be modified to increase the spectral gap.\n"
          ]
        },
        {
          "metadata": {
            "tags": null
          },
          "name": "stderr",
          "output_type": "stream",
          "text": [
            "(T):  70%|███████   | 70/100 [16:07<08:51, 17.71s/it, loss=6.01]"
          ]
        },
        {
          "metadata": {
            "tags": null
          },
          "name": "stdout",
          "output_type": "stream",
          "text": [
            "========================================\n",
            "No more edges can be modified to increase the spectral gap.\n"
          ]
        },
        {
          "metadata": {
            "tags": null
          },
          "name": "stderr",
          "output_type": "stream",
          "text": [
            "(T):  71%|███████   | 71/100 [16:16<07:21, 15.23s/it, loss=5.95]"
          ]
        },
        {
          "metadata": {
            "tags": null
          },
          "name": "stdout",
          "output_type": "stream",
          "text": [
            "========================================\n",
            "No more edges can be modified to increase the spectral gap.\n"
          ]
        },
        {
          "metadata": {
            "tags": null
          },
          "name": "stderr",
          "output_type": "stream",
          "text": [
            "(T):  72%|███████▏  | 72/100 [16:27<06:22, 13.68s/it, loss=5.92]"
          ]
        },
        {
          "metadata": {
            "tags": null
          },
          "name": "stdout",
          "output_type": "stream",
          "text": [
            "========================================\n",
            "No more edges can be modified to increase the spectral gap.\n"
          ]
        },
        {
          "metadata": {
            "tags": null
          },
          "name": "stderr",
          "output_type": "stream",
          "text": [
            "(T):  73%|███████▎  | 73/100 [16:37<05:44, 12.74s/it, loss=5.91]"
          ]
        },
        {
          "metadata": {
            "tags": null
          },
          "name": "stdout",
          "output_type": "stream",
          "text": [
            "========================================\n",
            "No more edges can be modified to increase the spectral gap.\n"
          ]
        },
        {
          "metadata": {
            "tags": null
          },
          "name": "stderr",
          "output_type": "stream",
          "text": [
            "(T):  74%|███████▍  | 74/100 [16:47<05:09, 11.92s/it, loss=5.89]"
          ]
        },
        {
          "metadata": {
            "tags": null
          },
          "name": "stdout",
          "output_type": "stream",
          "text": [
            "========================================\n",
            "No more edges can be modified to increase the spectral gap.\n",
            "========================================\n",
            "No more edges can be modified to increase the spectral gap.\n"
          ]
        },
        {
          "metadata": {
            "tags": null
          },
          "name": "stderr",
          "output_type": "stream",
          "text": [
            "(T):  75%|███████▌  | 75/100 [17:17<07:10, 17.22s/it, loss=5.89]"
          ]
        },
        {
          "metadata": {
            "tags": null
          },
          "name": "stdout",
          "output_type": "stream",
          "text": [
            "========================================\n",
            "No more edges can be modified to increase the spectral gap.\n"
          ]
        },
        {
          "metadata": {
            "tags": null
          },
          "name": "stderr",
          "output_type": "stream",
          "text": [
            "(T):  76%|███████▌  | 76/100 [17:27<06:05, 15.22s/it, loss=5.88]"
          ]
        },
        {
          "metadata": {
            "tags": null
          },
          "name": "stdout",
          "output_type": "stream",
          "text": [
            "========================================\n",
            "No more edges can be modified to increase the spectral gap.\n"
          ]
        },
        {
          "metadata": {
            "tags": null
          },
          "name": "stderr",
          "output_type": "stream",
          "text": [
            "(T):  77%|███████▋  | 77/100 [17:37<05:13, 13.63s/it, loss=5.88]"
          ]
        },
        {
          "metadata": {
            "tags": null
          },
          "name": "stdout",
          "output_type": "stream",
          "text": [
            "========================================\n",
            "No more edges can be modified to increase the spectral gap.\n"
          ]
        },
        {
          "metadata": {
            "tags": null
          },
          "name": "stderr",
          "output_type": "stream",
          "text": [
            "(T):  78%|███████▊  | 78/100 [17:47<04:35, 12.52s/it, loss=5.86]"
          ]
        },
        {
          "metadata": {
            "tags": null
          },
          "name": "stdout",
          "output_type": "stream",
          "text": [
            "========================================\n",
            "No more edges can be modified to increase the spectral gap.\n"
          ]
        },
        {
          "metadata": {
            "tags": null
          },
          "name": "stderr",
          "output_type": "stream",
          "text": [
            "(T):  79%|███████▉  | 79/100 [17:57<04:06, 11.74s/it, loss=5.84]"
          ]
        },
        {
          "metadata": {
            "tags": null
          },
          "name": "stdout",
          "output_type": "stream",
          "text": [
            "========================================\n",
            "No more edges can be modified to increase the spectral gap.\n",
            "========================================\n",
            "No more edges can be modified to increase the spectral gap.\n"
          ]
        },
        {
          "metadata": {
            "tags": null
          },
          "name": "stderr",
          "output_type": "stream",
          "text": [
            "(T):  80%|████████  | 80/100 [18:29<05:55, 17.78s/it, loss=5.83]"
          ]
        },
        {
          "metadata": {
            "tags": null
          },
          "name": "stdout",
          "output_type": "stream",
          "text": [
            "========================================\n",
            "No more edges can be modified to increase the spectral gap.\n"
          ]
        },
        {
          "metadata": {
            "tags": null
          },
          "name": "stderr",
          "output_type": "stream",
          "text": [
            "(T):  81%|████████  | 81/100 [18:39<04:53, 15.45s/it, loss=5.84]"
          ]
        },
        {
          "metadata": {
            "tags": null
          },
          "name": "stdout",
          "output_type": "stream",
          "text": [
            "========================================\n",
            "No more edges can be modified to increase the spectral gap.\n"
          ]
        },
        {
          "metadata": {
            "tags": null
          },
          "name": "stderr",
          "output_type": "stream",
          "text": [
            "(T):  82%|████████▏ | 82/100 [18:49<04:07, 13.73s/it, loss=5.82]"
          ]
        },
        {
          "metadata": {
            "tags": null
          },
          "name": "stdout",
          "output_type": "stream",
          "text": [
            "========================================\n",
            "No more edges can be modified to increase the spectral gap.\n"
          ]
        },
        {
          "metadata": {
            "tags": null
          },
          "name": "stderr",
          "output_type": "stream",
          "text": [
            "(T):  83%|████████▎ | 83/100 [18:59<03:36, 12.74s/it, loss=5.83]"
          ]
        },
        {
          "metadata": {
            "tags": null
          },
          "name": "stdout",
          "output_type": "stream",
          "text": [
            "========================================\n",
            "No more edges can be modified to increase the spectral gap.\n"
          ]
        },
        {
          "metadata": {
            "tags": null
          },
          "name": "stderr",
          "output_type": "stream",
          "text": [
            "(T):  84%|████████▍ | 84/100 [19:09<03:09, 11.82s/it, loss=5.8]"
          ]
        },
        {
          "metadata": {
            "tags": null
          },
          "name": "stdout",
          "output_type": "stream",
          "text": [
            "========================================\n",
            "No more edges can be modified to increase the spectral gap.\n",
            "========================================\n",
            "No more edges can be modified to increase the spectral gap.\n"
          ]
        },
        {
          "metadata": {
            "tags": null
          },
          "name": "stderr",
          "output_type": "stream",
          "text": [
            "(T):  85%|████████▌ | 85/100 [19:52<05:19, 21.32s/it, loss=5.8]"
          ]
        },
        {
          "metadata": {
            "tags": null
          },
          "name": "stdout",
          "output_type": "stream",
          "text": [
            "========================================\n",
            "No more edges can be modified to increase the spectral gap.\n"
          ]
        },
        {
          "metadata": {
            "tags": null
          },
          "name": "stderr",
          "output_type": "stream",
          "text": [
            "(T):  86%|████████▌ | 86/100 [20:03<04:12, 18.02s/it, loss=5.8]"
          ]
        },
        {
          "metadata": {
            "tags": null
          },
          "name": "stdout",
          "output_type": "stream",
          "text": [
            "========================================\n",
            "No more edges can be modified to increase the spectral gap.\n"
          ]
        },
        {
          "metadata": {
            "tags": null
          },
          "name": "stderr",
          "output_type": "stream",
          "text": [
            "(T):  87%|████████▋ | 87/100 [20:12<03:21, 15.52s/it, loss=5.82]"
          ]
        },
        {
          "metadata": {
            "tags": null
          },
          "name": "stdout",
          "output_type": "stream",
          "text": [
            "========================================\n",
            "No more edges can be modified to increase the spectral gap.\n"
          ]
        },
        {
          "metadata": {
            "tags": null
          },
          "name": "stderr",
          "output_type": "stream",
          "text": [
            "(T):  88%|████████▊ | 88/100 [20:22<02:46, 13.84s/it, loss=5.81]"
          ]
        },
        {
          "metadata": {
            "tags": null
          },
          "name": "stdout",
          "output_type": "stream",
          "text": [
            "========================================\n",
            "No more edges can be modified to increase the spectral gap.\n"
          ]
        },
        {
          "metadata": {
            "tags": null
          },
          "name": "stderr",
          "output_type": "stream",
          "text": [
            "(T):  89%|████████▉ | 89/100 [20:31<02:15, 12.36s/it, loss=5.8]"
          ]
        },
        {
          "metadata": {
            "tags": null
          },
          "name": "stdout",
          "output_type": "stream",
          "text": [
            "========================================\n",
            "No more edges can be modified to increase the spectral gap.\n",
            "========================================\n",
            "No more edges can be modified to increase the spectral gap.\n"
          ]
        },
        {
          "metadata": {
            "tags": null
          },
          "name": "stderr",
          "output_type": "stream",
          "text": [
            "(T):  90%|█████████ | 90/100 [21:03<03:03, 18.38s/it, loss=5.77]"
          ]
        },
        {
          "metadata": {
            "tags": null
          },
          "name": "stdout",
          "output_type": "stream",
          "text": [
            "========================================\n",
            "No more edges can be modified to increase the spectral gap.\n"
          ]
        },
        {
          "metadata": {
            "tags": null
          },
          "name": "stderr",
          "output_type": "stream",
          "text": [
            "(T):  91%|█████████ | 91/100 [21:13<02:22, 15.82s/it, loss=5.75]"
          ]
        },
        {
          "metadata": {
            "tags": null
          },
          "name": "stdout",
          "output_type": "stream",
          "text": [
            "========================================\n",
            "No more edges can be modified to increase the spectral gap.\n"
          ]
        },
        {
          "metadata": {
            "tags": null
          },
          "name": "stderr",
          "output_type": "stream",
          "text": [
            "(T):  92%|█████████▏| 92/100 [21:23<01:52, 14.03s/it, loss=5.75]"
          ]
        },
        {
          "metadata": {
            "tags": null
          },
          "name": "stdout",
          "output_type": "stream",
          "text": [
            "========================================\n",
            "No more edges can be modified to increase the spectral gap.\n"
          ]
        },
        {
          "metadata": {
            "tags": null
          },
          "name": "stderr",
          "output_type": "stream",
          "text": [
            "(T):  93%|█████████▎| 93/100 [21:33<01:30, 12.92s/it, loss=5.74]"
          ]
        },
        {
          "metadata": {
            "tags": null
          },
          "name": "stdout",
          "output_type": "stream",
          "text": [
            "========================================\n",
            "No more edges can be modified to increase the spectral gap.\n"
          ]
        },
        {
          "metadata": {
            "tags": null
          },
          "name": "stderr",
          "output_type": "stream",
          "text": [
            "(T):  94%|█████████▍| 94/100 [21:42<01:10, 11.72s/it, loss=5.74]"
          ]
        },
        {
          "metadata": {
            "tags": null
          },
          "name": "stdout",
          "output_type": "stream",
          "text": [
            "========================================\n",
            "No more edges can be modified to increase the spectral gap.\n",
            "========================================\n",
            "No more edges can be modified to increase the spectral gap.\n"
          ]
        },
        {
          "metadata": {
            "tags": null
          },
          "name": "stderr",
          "output_type": "stream",
          "text": [
            "(T):  95%|█████████▌| 95/100 [22:15<01:29, 17.96s/it, loss=5.73]"
          ]
        },
        {
          "metadata": {
            "tags": null
          },
          "name": "stdout",
          "output_type": "stream",
          "text": [
            "========================================\n",
            "No more edges can be modified to increase the spectral gap.\n"
          ]
        },
        {
          "metadata": {
            "tags": null
          },
          "name": "stderr",
          "output_type": "stream",
          "text": [
            "(T):  96%|█████████▌| 96/100 [22:25<01:02, 15.69s/it, loss=5.71]"
          ]
        },
        {
          "metadata": {
            "tags": null
          },
          "name": "stdout",
          "output_type": "stream",
          "text": [
            "========================================\n",
            "No more edges can be modified to increase the spectral gap.\n"
          ]
        },
        {
          "metadata": {
            "tags": null
          },
          "name": "stderr",
          "output_type": "stream",
          "text": [
            "(T):  97%|█████████▋| 97/100 [22:35<00:41, 13.88s/it, loss=5.72]"
          ]
        },
        {
          "metadata": {
            "tags": null
          },
          "name": "stdout",
          "output_type": "stream",
          "text": [
            "========================================\n",
            "No more edges can be modified to increase the spectral gap.\n"
          ]
        },
        {
          "metadata": {
            "tags": null
          },
          "name": "stderr",
          "output_type": "stream",
          "text": [
            "(T):  98%|█████████▊| 98/100 [22:45<00:25, 12.57s/it, loss=5.7]"
          ]
        },
        {
          "metadata": {
            "tags": null
          },
          "name": "stdout",
          "output_type": "stream",
          "text": [
            "========================================\n",
            "No more edges can be modified to increase the spectral gap.\n"
          ]
        },
        {
          "metadata": {
            "tags": null
          },
          "name": "stderr",
          "output_type": "stream",
          "text": [
            "(T):  99%|█████████▉| 99/100 [22:54<00:11, 11.57s/it, loss=5.72]"
          ]
        },
        {
          "metadata": {
            "tags": null
          },
          "name": "stdout",
          "output_type": "stream",
          "text": [
            "========================================\n",
            "No more edges can be modified to increase the spectral gap.\n",
            "========================================\n",
            "No more edges can be modified to increase the spectral gap.\n"
          ]
        },
        {
          "metadata": {
            "tags": null
          },
          "name": "stderr",
          "output_type": "stream",
          "text": [
            "(T): 100%|██████████| 100/100 [23:25<00:00, 14.05s/it, loss=5.68]\n",
            "(T):   0%|          | 0/100 [00:00<?, ?it/s]"
          ]
        },
        {
          "metadata": {
            "tags": null
          },
          "name": "stdout",
          "output_type": "stream",
          "text": [
            "========================================\n"
          ]
        },
        {
          "metadata": {
            "tags": null
          },
          "name": "stderr",
          "output_type": "stream",
          "text": [
            "\n",
            "Edge Modification:   0%|          | 0/20 [00:00<?, ?it/s]\u001b[A\n",
            "Edge Modification:   5%|▌         | 1/20 [00:09<03:07,  9.85s/it]"
          ]
        },
        {
          "metadata": {
            "tags": null
          },
          "name": "stdout",
          "output_type": "stream",
          "text": [
            "No more edges can be modified to increase the spectral gap.\n"
          ]
        },
        {
          "metadata": {
            "tags": null
          },
          "name": "stderr",
          "output_type": "stream",
          "text": [
            "\n",
            "(T):   1%|          | 1/100 [00:10<16:50, 10.20s/it, loss=7.77]"
          ]
        },
        {
          "metadata": {
            "tags": null
          },
          "name": "stdout",
          "output_type": "stream",
          "text": [
            "========================================\n"
          ]
        },
        {
          "metadata": {
            "tags": null
          },
          "name": "stderr",
          "output_type": "stream",
          "text": [
            "\n",
            "Edge Modification:   0%|          | 0/20 [00:00<?, ?it/s]\u001b[A\n",
            "Edge Modification:   5%|▌         | 1/20 [00:09<03:02,  9.59s/it]"
          ]
        },
        {
          "metadata": {
            "tags": null
          },
          "name": "stdout",
          "output_type": "stream",
          "text": [
            "No more edges can be modified to increase the spectral gap.\n"
          ]
        },
        {
          "metadata": {
            "tags": null
          },
          "name": "stderr",
          "output_type": "stream",
          "text": [
            "\n",
            "(T):   2%|▏         | 2/100 [00:20<16:21, 10.02s/it, loss=7.64]"
          ]
        },
        {
          "metadata": {
            "tags": null
          },
          "name": "stdout",
          "output_type": "stream",
          "text": [
            "========================================\n"
          ]
        },
        {
          "metadata": {
            "tags": null
          },
          "name": "stderr",
          "output_type": "stream",
          "text": [
            "\n",
            "Edge Modification:   0%|          | 0/20 [00:00<?, ?it/s]\u001b[A\n",
            "Edge Modification:   5%|▌         | 1/20 [00:09<02:56,  9.30s/it]"
          ]
        },
        {
          "metadata": {
            "tags": null
          },
          "name": "stdout",
          "output_type": "stream",
          "text": [
            "No more edges can be modified to increase the spectral gap.\n"
          ]
        },
        {
          "metadata": {
            "tags": null
          },
          "name": "stderr",
          "output_type": "stream",
          "text": [
            "\n",
            "(T):   3%|▎         | 3/100 [00:30<16:07,  9.97s/it, loss=7.56]"
          ]
        },
        {
          "metadata": {
            "tags": null
          },
          "name": "stdout",
          "output_type": "stream",
          "text": [
            "========================================\n"
          ]
        },
        {
          "metadata": {
            "tags": null
          },
          "name": "stderr",
          "output_type": "stream",
          "text": [
            "\n",
            "Edge Modification:   0%|          | 0/20 [00:00<?, ?it/s]\u001b[A\n",
            "Edge Modification:   5%|▌         | 1/20 [00:09<03:03,  9.68s/it]"
          ]
        },
        {
          "metadata": {
            "tags": null
          },
          "name": "stdout",
          "output_type": "stream",
          "text": [
            "No more edges can be modified to increase the spectral gap.\n"
          ]
        },
        {
          "metadata": {
            "tags": null
          },
          "name": "stderr",
          "output_type": "stream",
          "text": [
            "\n",
            "(T):   4%|▍         | 4/100 [00:39<15:56,  9.96s/it, loss=7.52]"
          ]
        },
        {
          "metadata": {
            "tags": null
          },
          "name": "stdout",
          "output_type": "stream",
          "text": [
            "========================================\n"
          ]
        },
        {
          "metadata": {
            "tags": null
          },
          "name": "stderr",
          "output_type": "stream",
          "text": [
            "\n",
            "Edge Modification:   0%|          | 0/20 [00:00<?, ?it/s]\u001b[A\n",
            "Edge Modification:   5%|▌         | 1/20 [00:09<03:08,  9.92s/it]"
          ]
        },
        {
          "metadata": {
            "tags": null
          },
          "name": "stdout",
          "output_type": "stream",
          "text": [
            "No more edges can be modified to increase the spectral gap.\n"
          ]
        },
        {
          "metadata": {
            "tags": null
          },
          "name": "stderr",
          "output_type": "stream",
          "text": [
            "\n"
          ]
        },
        {
          "metadata": {
            "tags": null
          },
          "name": "stdout",
          "output_type": "stream",
          "text": [
            "========================================\n"
          ]
        },
        {
          "metadata": {
            "tags": null
          },
          "name": "stderr",
          "output_type": "stream",
          "text": [
            "\n",
            "Edge Modification:   0%|          | 0/20 [00:00<?, ?it/s]\u001b[A\n",
            "Edge Modification:   5%|▌         | 1/20 [00:09<03:06,  9.83s/it]"
          ]
        },
        {
          "metadata": {
            "tags": null
          },
          "name": "stdout",
          "output_type": "stream",
          "text": [
            "No more edges can be modified to increase the spectral gap.\n"
          ]
        },
        {
          "metadata": {
            "tags": null
          },
          "name": "stderr",
          "output_type": "stream",
          "text": [
            "\n",
            "(T):   5%|▌         | 5/100 [01:02<22:59, 14.52s/it, loss=7.45]"
          ]
        },
        {
          "metadata": {
            "tags": null
          },
          "name": "stdout",
          "output_type": "stream",
          "text": [
            "========================================\n"
          ]
        },
        {
          "metadata": {
            "tags": null
          },
          "name": "stderr",
          "output_type": "stream",
          "text": [
            "\n",
            "Edge Modification:   0%|          | 0/20 [00:00<?, ?it/s]\u001b[A\n",
            "Edge Modification:   5%|▌         | 1/20 [00:09<03:07,  9.89s/it]"
          ]
        },
        {
          "metadata": {
            "tags": null
          },
          "name": "stdout",
          "output_type": "stream",
          "text": [
            "No more edges can be modified to increase the spectral gap.\n"
          ]
        },
        {
          "metadata": {
            "tags": null
          },
          "name": "stderr",
          "output_type": "stream",
          "text": [
            "\n",
            "(T):   6%|▌         | 6/100 [01:12<20:34, 13.13s/it, loss=7.4]"
          ]
        },
        {
          "metadata": {
            "tags": null
          },
          "name": "stdout",
          "output_type": "stream",
          "text": [
            "========================================\n"
          ]
        },
        {
          "metadata": {
            "tags": null
          },
          "name": "stderr",
          "output_type": "stream",
          "text": [
            "\n",
            "Edge Modification:   0%|          | 0/20 [00:00<?, ?it/s]\u001b[A\n",
            "Edge Modification:   5%|▌         | 1/20 [00:09<03:05,  9.78s/it]"
          ]
        },
        {
          "metadata": {
            "tags": null
          },
          "name": "stdout",
          "output_type": "stream",
          "text": [
            "No more edges can be modified to increase the spectral gap.\n"
          ]
        },
        {
          "metadata": {
            "tags": null
          },
          "name": "stderr",
          "output_type": "stream",
          "text": [
            "\n",
            "(T):   7%|▋         | 7/100 [01:23<18:48, 12.13s/it, loss=7.37]"
          ]
        },
        {
          "metadata": {
            "tags": null
          },
          "name": "stdout",
          "output_type": "stream",
          "text": [
            "========================================\n"
          ]
        },
        {
          "metadata": {
            "tags": null
          },
          "name": "stderr",
          "output_type": "stream",
          "text": [
            "\n",
            "Edge Modification:   0%|          | 0/20 [00:00<?, ?it/s]\u001b[A\n",
            "Edge Modification:   5%|▌         | 1/20 [00:09<03:06,  9.80s/it]"
          ]
        },
        {
          "metadata": {
            "tags": null
          },
          "name": "stdout",
          "output_type": "stream",
          "text": [
            "No more edges can be modified to increase the spectral gap.\n"
          ]
        },
        {
          "metadata": {
            "tags": null
          },
          "name": "stderr",
          "output_type": "stream",
          "text": [
            "\n",
            "(T):   8%|▊         | 8/100 [01:33<17:35, 11.48s/it, loss=7.3]"
          ]
        },
        {
          "metadata": {
            "tags": null
          },
          "name": "stdout",
          "output_type": "stream",
          "text": [
            "========================================\n"
          ]
        },
        {
          "metadata": {
            "tags": null
          },
          "name": "stderr",
          "output_type": "stream",
          "text": [
            "\n",
            "Edge Modification:   0%|          | 0/20 [00:00<?, ?it/s]\u001b[A\n",
            "Edge Modification:   5%|▌         | 1/20 [00:09<02:51,  9.04s/it]"
          ]
        },
        {
          "metadata": {
            "tags": null
          },
          "name": "stdout",
          "output_type": "stream",
          "text": [
            "No more edges can be modified to increase the spectral gap.\n"
          ]
        },
        {
          "metadata": {
            "tags": null
          },
          "name": "stderr",
          "output_type": "stream",
          "text": [
            "\n",
            "(T):   9%|▉         | 9/100 [01:42<16:23, 10.81s/it, loss=7.24]"
          ]
        },
        {
          "metadata": {
            "tags": null
          },
          "name": "stdout",
          "output_type": "stream",
          "text": [
            "========================================\n"
          ]
        },
        {
          "metadata": {
            "tags": null
          },
          "name": "stderr",
          "output_type": "stream",
          "text": [
            "\n",
            "Edge Modification:   0%|          | 0/20 [00:00<?, ?it/s]\u001b[A\n",
            "Edge Modification:   5%|▌         | 1/20 [00:09<03:04,  9.69s/it]"
          ]
        },
        {
          "metadata": {
            "tags": null
          },
          "name": "stdout",
          "output_type": "stream",
          "text": [
            "No more edges can be modified to increase the spectral gap.\n"
          ]
        },
        {
          "metadata": {
            "tags": null
          },
          "name": "stderr",
          "output_type": "stream",
          "text": [
            "\n"
          ]
        },
        {
          "metadata": {
            "tags": null
          },
          "name": "stdout",
          "output_type": "stream",
          "text": [
            "========================================\n"
          ]
        },
        {
          "metadata": {
            "tags": null
          },
          "name": "stderr",
          "output_type": "stream",
          "text": [
            "\n",
            "Edge Modification:   0%|          | 0/20 [00:00<?, ?it/s]\u001b[A\n",
            "Edge Modification:   5%|▌         | 1/20 [00:09<03:06,  9.83s/it]"
          ]
        },
        {
          "metadata": {
            "tags": null
          },
          "name": "stdout",
          "output_type": "stream",
          "text": [
            "No more edges can be modified to increase the spectral gap.\n"
          ]
        },
        {
          "metadata": {
            "tags": null
          },
          "name": "stderr",
          "output_type": "stream",
          "text": [
            "\n",
            "(T):  10%|█         | 10/100 [02:06<22:30, 15.01s/it, loss=7.18]"
          ]
        },
        {
          "metadata": {
            "tags": null
          },
          "name": "stdout",
          "output_type": "stream",
          "text": [
            "========================================\n"
          ]
        },
        {
          "metadata": {
            "tags": null
          },
          "name": "stderr",
          "output_type": "stream",
          "text": [
            "\n",
            "Edge Modification:   0%|          | 0/20 [00:00<?, ?it/s]\u001b[A\n",
            "Edge Modification:   5%|▌         | 1/20 [00:09<03:01,  9.54s/it]"
          ]
        },
        {
          "metadata": {
            "tags": null
          },
          "name": "stdout",
          "output_type": "stream",
          "text": [
            "No more edges can be modified to increase the spectral gap.\n"
          ]
        },
        {
          "metadata": {
            "tags": null
          },
          "name": "stderr",
          "output_type": "stream",
          "text": [
            "\n",
            "(T):  11%|█         | 11/100 [02:16<19:57, 13.45s/it, loss=7.15]"
          ]
        },
        {
          "metadata": {
            "tags": null
          },
          "name": "stdout",
          "output_type": "stream",
          "text": [
            "========================================\n"
          ]
        },
        {
          "metadata": {
            "tags": null
          },
          "name": "stderr",
          "output_type": "stream",
          "text": [
            "\n",
            "Edge Modification:   0%|          | 0/20 [00:00<?, ?it/s]\u001b[A\n",
            "Edge Modification:   5%|▌         | 1/20 [00:09<03:07,  9.84s/it]"
          ]
        },
        {
          "metadata": {
            "tags": null
          },
          "name": "stdout",
          "output_type": "stream",
          "text": [
            "No more edges can be modified to increase the spectral gap.\n"
          ]
        },
        {
          "metadata": {
            "tags": null
          },
          "name": "stderr",
          "output_type": "stream",
          "text": [
            "\n",
            "(T):  12%|█▏        | 12/100 [02:26<18:14, 12.44s/it, loss=7.11]"
          ]
        },
        {
          "metadata": {
            "tags": null
          },
          "name": "stdout",
          "output_type": "stream",
          "text": [
            "========================================\n"
          ]
        },
        {
          "metadata": {
            "tags": null
          },
          "name": "stderr",
          "output_type": "stream",
          "text": [
            "\n",
            "Edge Modification:   0%|          | 0/20 [00:00<?, ?it/s]\u001b[A\n",
            "Edge Modification:   5%|▌         | 1/20 [00:10<03:12, 10.11s/it]"
          ]
        },
        {
          "metadata": {
            "tags": null
          },
          "name": "stdout",
          "output_type": "stream",
          "text": [
            "No more edges can be modified to increase the spectral gap.\n"
          ]
        },
        {
          "metadata": {
            "tags": null
          },
          "name": "stderr",
          "output_type": "stream",
          "text": [
            "\n",
            "(T):  13%|█▎        | 13/100 [02:37<17:15, 11.90s/it, loss=7.07]"
          ]
        },
        {
          "metadata": {
            "tags": null
          },
          "name": "stdout",
          "output_type": "stream",
          "text": [
            "========================================\n"
          ]
        },
        {
          "metadata": {
            "tags": null
          },
          "name": "stderr",
          "output_type": "stream",
          "text": [
            "\n",
            "Edge Modification:   0%|          | 0/20 [00:00<?, ?it/s]\u001b[A\n",
            "Edge Modification:   5%|▌         | 1/20 [00:09<03:06,  9.81s/it]"
          ]
        },
        {
          "metadata": {
            "tags": null
          },
          "name": "stdout",
          "output_type": "stream",
          "text": [
            "No more edges can be modified to increase the spectral gap.\n"
          ]
        },
        {
          "metadata": {
            "tags": null
          },
          "name": "stderr",
          "output_type": "stream",
          "text": [
            "\n",
            "(T):  14%|█▍        | 14/100 [02:47<16:16, 11.35s/it, loss=7.03]"
          ]
        },
        {
          "metadata": {
            "tags": null
          },
          "name": "stdout",
          "output_type": "stream",
          "text": [
            "========================================\n"
          ]
        },
        {
          "metadata": {
            "tags": null
          },
          "name": "stderr",
          "output_type": "stream",
          "text": [
            "\n",
            "Edge Modification:   0%|          | 0/20 [00:00<?, ?it/s]\u001b[A\n",
            "Edge Modification:   5%|▌         | 1/20 [00:09<03:05,  9.74s/it]"
          ]
        },
        {
          "metadata": {
            "tags": null
          },
          "name": "stdout",
          "output_type": "stream",
          "text": [
            "No more edges can be modified to increase the spectral gap.\n"
          ]
        },
        {
          "metadata": {
            "tags": null
          },
          "name": "stderr",
          "output_type": "stream",
          "text": [
            "\n"
          ]
        },
        {
          "metadata": {
            "tags": null
          },
          "name": "stdout",
          "output_type": "stream",
          "text": [
            "========================================\n"
          ]
        },
        {
          "metadata": {
            "tags": null
          },
          "name": "stderr",
          "output_type": "stream",
          "text": [
            "\n",
            "Edge Modification:   0%|          | 0/20 [00:00<?, ?it/s]\u001b[A\n",
            "Edge Modification:   5%|▌         | 1/20 [00:09<02:56,  9.28s/it]"
          ]
        },
        {
          "metadata": {
            "tags": null
          },
          "name": "stdout",
          "output_type": "stream",
          "text": [
            "No more edges can be modified to increase the spectral gap.\n"
          ]
        },
        {
          "metadata": {
            "tags": null
          },
          "name": "stderr",
          "output_type": "stream",
          "text": [
            "\n",
            "(T):  15%|█▌        | 15/100 [03:12<21:53, 15.45s/it, loss=6.99]"
          ]
        },
        {
          "metadata": {
            "tags": null
          },
          "name": "stdout",
          "output_type": "stream",
          "text": [
            "========================================\n"
          ]
        },
        {
          "metadata": {
            "tags": null
          },
          "name": "stderr",
          "output_type": "stream",
          "text": [
            "\n",
            "Edge Modification:   0%|          | 0/20 [00:00<?, ?it/s]\u001b[A\n",
            "Edge Modification:   5%|▌         | 1/20 [00:09<03:09,  9.97s/it]"
          ]
        },
        {
          "metadata": {
            "tags": null
          },
          "name": "stdout",
          "output_type": "stream",
          "text": [
            "No more edges can be modified to increase the spectral gap.\n"
          ]
        },
        {
          "metadata": {
            "tags": null
          },
          "name": "stderr",
          "output_type": "stream",
          "text": [
            "\n",
            "(T):  16%|█▌        | 16/100 [03:23<19:33, 13.97s/it, loss=6.96]"
          ]
        },
        {
          "metadata": {
            "tags": null
          },
          "name": "stdout",
          "output_type": "stream",
          "text": [
            "========================================\n"
          ]
        },
        {
          "metadata": {
            "tags": null
          },
          "name": "stderr",
          "output_type": "stream",
          "text": [
            "\n",
            "Edge Modification:   0%|          | 0/20 [00:00<?, ?it/s]\u001b[A\n",
            "Edge Modification:   5%|▌         | 1/20 [00:09<03:04,  9.70s/it]"
          ]
        },
        {
          "metadata": {
            "tags": null
          },
          "name": "stdout",
          "output_type": "stream",
          "text": [
            "No more edges can be modified to increase the spectral gap.\n"
          ]
        },
        {
          "metadata": {
            "tags": null
          },
          "name": "stderr",
          "output_type": "stream",
          "text": [
            "\n",
            "(T):  17%|█▋        | 17/100 [03:33<17:40, 12.78s/it, loss=6.92]"
          ]
        },
        {
          "metadata": {
            "tags": null
          },
          "name": "stdout",
          "output_type": "stream",
          "text": [
            "========================================\n"
          ]
        },
        {
          "metadata": {
            "tags": null
          },
          "name": "stderr",
          "output_type": "stream",
          "text": [
            "\n",
            "Edge Modification:   0%|          | 0/20 [00:00<?, ?it/s]\u001b[A\n",
            "Edge Modification:   5%|▌         | 1/20 [00:09<02:52,  9.10s/it]"
          ]
        },
        {
          "metadata": {
            "tags": null
          },
          "name": "stdout",
          "output_type": "stream",
          "text": [
            "No more edges can be modified to increase the spectral gap.\n"
          ]
        },
        {
          "metadata": {
            "tags": null
          },
          "name": "stderr",
          "output_type": "stream",
          "text": [
            "\n",
            "(T):  18%|█▊        | 18/100 [03:42<16:03, 11.75s/it, loss=6.9]"
          ]
        },
        {
          "metadata": {
            "tags": null
          },
          "name": "stdout",
          "output_type": "stream",
          "text": [
            "========================================\n"
          ]
        },
        {
          "metadata": {
            "tags": null
          },
          "name": "stderr",
          "output_type": "stream",
          "text": [
            "\n",
            "Edge Modification:   0%|          | 0/20 [00:00<?, ?it/s]\u001b[A\n",
            "Edge Modification:   5%|▌         | 1/20 [00:09<03:02,  9.63s/it]"
          ]
        },
        {
          "metadata": {
            "tags": null
          },
          "name": "stdout",
          "output_type": "stream",
          "text": [
            "No more edges can be modified to increase the spectral gap.\n"
          ]
        },
        {
          "metadata": {
            "tags": null
          },
          "name": "stderr",
          "output_type": "stream",
          "text": [
            "\n",
            "(T):  19%|█▉        | 19/100 [03:52<15:08, 11.22s/it, loss=6.86]"
          ]
        },
        {
          "metadata": {
            "tags": null
          },
          "name": "stdout",
          "output_type": "stream",
          "text": [
            "========================================\n"
          ]
        },
        {
          "metadata": {
            "tags": null
          },
          "name": "stderr",
          "output_type": "stream",
          "text": [
            "\n",
            "Edge Modification:   0%|          | 0/20 [00:00<?, ?it/s]\u001b[A\n",
            "Edge Modification:   5%|▌         | 1/20 [00:10<03:11, 10.06s/it]"
          ]
        },
        {
          "metadata": {
            "tags": null
          },
          "name": "stdout",
          "output_type": "stream",
          "text": [
            "No more edges can be modified to increase the spectral gap.\n"
          ]
        },
        {
          "metadata": {
            "tags": null
          },
          "name": "stderr",
          "output_type": "stream",
          "text": [
            "\n"
          ]
        },
        {
          "metadata": {
            "tags": null
          },
          "name": "stdout",
          "output_type": "stream",
          "text": [
            "========================================\n"
          ]
        },
        {
          "metadata": {
            "tags": null
          },
          "name": "stderr",
          "output_type": "stream",
          "text": [
            "\n",
            "Edge Modification:   0%|          | 0/20 [00:00<?, ?it/s]\u001b[A\n",
            "Edge Modification:   5%|▌         | 1/20 [00:09<03:03,  9.68s/it]"
          ]
        },
        {
          "metadata": {
            "tags": null
          },
          "name": "stdout",
          "output_type": "stream",
          "text": [
            "No more edges can be modified to increase the spectral gap.\n"
          ]
        },
        {
          "metadata": {
            "tags": null
          },
          "name": "stderr",
          "output_type": "stream",
          "text": [
            "\n",
            "(T):  20%|██        | 20/100 [04:23<22:56, 17.21s/it, loss=6.83]"
          ]
        },
        {
          "metadata": {
            "tags": null
          },
          "name": "stdout",
          "output_type": "stream",
          "text": [
            "========================================\n"
          ]
        },
        {
          "metadata": {
            "tags": null
          },
          "name": "stderr",
          "output_type": "stream",
          "text": [
            "\n",
            "Edge Modification:   0%|          | 0/20 [00:00<?, ?it/s]\u001b[A\n",
            "Edge Modification:   5%|▌         | 1/20 [00:09<03:06,  9.82s/it]"
          ]
        },
        {
          "metadata": {
            "tags": null
          },
          "name": "stdout",
          "output_type": "stream",
          "text": [
            "No more edges can be modified to increase the spectral gap.\n"
          ]
        },
        {
          "metadata": {
            "tags": null
          },
          "name": "stderr",
          "output_type": "stream",
          "text": [
            "\n",
            "(T):  21%|██        | 21/100 [04:33<19:52, 15.09s/it, loss=6.82]"
          ]
        },
        {
          "metadata": {
            "tags": null
          },
          "name": "stdout",
          "output_type": "stream",
          "text": [
            "========================================\n"
          ]
        },
        {
          "metadata": {
            "tags": null
          },
          "name": "stderr",
          "output_type": "stream",
          "text": [
            "\n",
            "Edge Modification:   0%|          | 0/20 [00:00<?, ?it/s]\u001b[A\n",
            "Edge Modification:   5%|▌         | 1/20 [00:09<02:54,  9.17s/it]"
          ]
        },
        {
          "metadata": {
            "tags": null
          },
          "name": "stdout",
          "output_type": "stream",
          "text": [
            "No more edges can be modified to increase the spectral gap.\n"
          ]
        },
        {
          "metadata": {
            "tags": null
          },
          "name": "stderr",
          "output_type": "stream",
          "text": [
            "\n",
            "(T):  22%|██▏       | 22/100 [04:43<17:25, 13.40s/it, loss=6.78]"
          ]
        },
        {
          "metadata": {
            "tags": null
          },
          "name": "stdout",
          "output_type": "stream",
          "text": [
            "========================================\n"
          ]
        },
        {
          "metadata": {
            "tags": null
          },
          "name": "stderr",
          "output_type": "stream",
          "text": [
            "\n",
            "Edge Modification:   0%|          | 0/20 [00:00<?, ?it/s]\u001b[A\n",
            "Edge Modification:   5%|▌         | 1/20 [00:09<02:59,  9.46s/it]"
          ]
        },
        {
          "metadata": {
            "tags": null
          },
          "name": "stdout",
          "output_type": "stream",
          "text": [
            "No more edges can be modified to increase the spectral gap.\n"
          ]
        },
        {
          "metadata": {
            "tags": null
          },
          "name": "stderr",
          "output_type": "stream",
          "text": [
            "\n",
            "(T):  23%|██▎       | 23/100 [04:53<15:56, 12.43s/it, loss=6.75]"
          ]
        },
        {
          "metadata": {
            "tags": null
          },
          "name": "stdout",
          "output_type": "stream",
          "text": [
            "========================================\n"
          ]
        },
        {
          "metadata": {
            "tags": null
          },
          "name": "stderr",
          "output_type": "stream",
          "text": [
            "\n",
            "Edge Modification:   0%|          | 0/20 [00:00<?, ?it/s]\u001b[A\n",
            "Edge Modification:   5%|▌         | 1/20 [00:09<03:06,  9.80s/it]"
          ]
        },
        {
          "metadata": {
            "tags": null
          },
          "name": "stdout",
          "output_type": "stream",
          "text": [
            "No more edges can be modified to increase the spectral gap.\n"
          ]
        },
        {
          "metadata": {
            "tags": null
          },
          "name": "stderr",
          "output_type": "stream",
          "text": [
            "\n",
            "(T):  24%|██▍       | 24/100 [05:03<14:50, 11.72s/it, loss=6.72]"
          ]
        },
        {
          "metadata": {
            "tags": null
          },
          "name": "stdout",
          "output_type": "stream",
          "text": [
            "========================================\n"
          ]
        },
        {
          "metadata": {
            "tags": null
          },
          "name": "stderr",
          "output_type": "stream",
          "text": [
            "\n",
            "Edge Modification:   0%|          | 0/20 [00:00<?, ?it/s]\u001b[A\n",
            "Edge Modification:   5%|▌         | 1/20 [00:09<03:07,  9.86s/it]"
          ]
        },
        {
          "metadata": {
            "tags": null
          },
          "name": "stdout",
          "output_type": "stream",
          "text": [
            "No more edges can be modified to increase the spectral gap.\n"
          ]
        },
        {
          "metadata": {
            "tags": null
          },
          "name": "stderr",
          "output_type": "stream",
          "text": [
            "\n"
          ]
        },
        {
          "metadata": {
            "tags": null
          },
          "name": "stdout",
          "output_type": "stream",
          "text": [
            "========================================\n"
          ]
        },
        {
          "metadata": {
            "tags": null
          },
          "name": "stderr",
          "output_type": "stream",
          "text": [
            "\n",
            "Edge Modification:   0%|          | 0/20 [00:00<?, ?it/s]\u001b[A\n",
            "Edge Modification:   5%|▌         | 1/20 [00:09<03:05,  9.77s/it]"
          ]
        },
        {
          "metadata": {
            "tags": null
          },
          "name": "stdout",
          "output_type": "stream",
          "text": [
            "No more edges can be modified to increase the spectral gap.\n"
          ]
        },
        {
          "metadata": {
            "tags": null
          },
          "name": "stderr",
          "output_type": "stream",
          "text": [
            "\n",
            "(T):  25%|██▌       | 25/100 [05:35<22:05, 17.67s/it, loss=6.7]"
          ]
        },
        {
          "metadata": {
            "tags": null
          },
          "name": "stdout",
          "output_type": "stream",
          "text": [
            "========================================\n"
          ]
        },
        {
          "metadata": {
            "tags": null
          },
          "name": "stderr",
          "output_type": "stream",
          "text": [
            "\n",
            "Edge Modification:   0%|          | 0/20 [00:00<?, ?it/s]\u001b[A\n",
            "Edge Modification:   5%|▌         | 1/20 [00:09<03:09,  9.99s/it]"
          ]
        },
        {
          "metadata": {
            "tags": null
          },
          "name": "stdout",
          "output_type": "stream",
          "text": [
            "No more edges can be modified to increase the spectral gap.\n"
          ]
        },
        {
          "metadata": {
            "tags": null
          },
          "name": "stderr",
          "output_type": "stream",
          "text": [
            "\n",
            "(T):  26%|██▌       | 26/100 [05:45<19:09, 15.54s/it, loss=6.68]"
          ]
        },
        {
          "metadata": {
            "tags": null
          },
          "name": "stdout",
          "output_type": "stream",
          "text": [
            "========================================\n"
          ]
        },
        {
          "metadata": {
            "tags": null
          },
          "name": "stderr",
          "output_type": "stream",
          "text": [
            "\n",
            "Edge Modification:   0%|          | 0/20 [00:00<?, ?it/s]\u001b[A\n",
            "Edge Modification:   5%|▌         | 1/20 [00:08<02:48,  8.87s/it]"
          ]
        },
        {
          "metadata": {
            "tags": null
          },
          "name": "stdout",
          "output_type": "stream",
          "text": [
            "No more edges can be modified to increase the spectral gap.\n"
          ]
        },
        {
          "metadata": {
            "tags": null
          },
          "name": "stderr",
          "output_type": "stream",
          "text": [
            "\n",
            "(T):  27%|██▋       | 27/100 [05:54<16:34, 13.62s/it, loss=6.65]"
          ]
        },
        {
          "metadata": {
            "tags": null
          },
          "name": "stdout",
          "output_type": "stream",
          "text": [
            "========================================\n"
          ]
        },
        {
          "metadata": {
            "tags": null
          },
          "name": "stderr",
          "output_type": "stream",
          "text": [
            "\n",
            "Edge Modification:   0%|          | 0/20 [00:00<?, ?it/s]\u001b[A\n",
            "Edge Modification:   5%|▌         | 1/20 [00:09<03:05,  9.75s/it]"
          ]
        },
        {
          "metadata": {
            "tags": null
          },
          "name": "stdout",
          "output_type": "stream",
          "text": [
            "No more edges can be modified to increase the spectral gap.\n"
          ]
        },
        {
          "metadata": {
            "tags": null
          },
          "name": "stderr",
          "output_type": "stream",
          "text": [
            "\n",
            "(T):  28%|██▊       | 28/100 [06:04<15:05, 12.57s/it, loss=6.62]"
          ]
        },
        {
          "metadata": {
            "tags": null
          },
          "name": "stdout",
          "output_type": "stream",
          "text": [
            "========================================\n"
          ]
        },
        {
          "metadata": {
            "tags": null
          },
          "name": "stderr",
          "output_type": "stream",
          "text": [
            "\n",
            "Edge Modification:   0%|          | 0/20 [00:00<?, ?it/s]\u001b[A\n",
            "Edge Modification:   5%|▌         | 1/20 [00:09<03:07,  9.85s/it]"
          ]
        },
        {
          "metadata": {
            "tags": null
          },
          "name": "stdout",
          "output_type": "stream",
          "text": [
            "No more edges can be modified to increase the spectral gap.\n"
          ]
        },
        {
          "metadata": {
            "tags": null
          },
          "name": "stderr",
          "output_type": "stream",
          "text": [
            "\n",
            "(T):  29%|██▉       | 29/100 [06:15<14:00, 11.84s/it, loss=6.63]"
          ]
        },
        {
          "metadata": {
            "tags": null
          },
          "name": "stdout",
          "output_type": "stream",
          "text": [
            "========================================\n"
          ]
        },
        {
          "metadata": {
            "tags": null
          },
          "name": "stderr",
          "output_type": "stream",
          "text": [
            "\n",
            "Edge Modification:   0%|          | 0/20 [00:00<?, ?it/s]\u001b[A\n",
            "Edge Modification:   5%|▌         | 1/20 [00:09<03:09,  9.97s/it]"
          ]
        },
        {
          "metadata": {
            "tags": null
          },
          "name": "stdout",
          "output_type": "stream",
          "text": [
            "No more edges can be modified to increase the spectral gap.\n"
          ]
        },
        {
          "metadata": {
            "tags": null
          },
          "name": "stderr",
          "output_type": "stream",
          "text": [
            "\n"
          ]
        },
        {
          "metadata": {
            "tags": null
          },
          "name": "stdout",
          "output_type": "stream",
          "text": [
            "========================================\n"
          ]
        },
        {
          "metadata": {
            "tags": null
          },
          "name": "stderr",
          "output_type": "stream",
          "text": [
            "\n",
            "Edge Modification:   0%|          | 0/20 [00:00<?, ?it/s]\u001b[A\n",
            "Edge Modification:   5%|▌         | 1/20 [00:09<03:04,  9.73s/it]"
          ]
        },
        {
          "metadata": {
            "tags": null
          },
          "name": "stdout",
          "output_type": "stream",
          "text": [
            "No more edges can be modified to increase the spectral gap.\n"
          ]
        },
        {
          "metadata": {
            "tags": null
          },
          "name": "stderr",
          "output_type": "stream",
          "text": [
            "\n",
            "(T):  30%|███       | 30/100 [06:48<21:14, 18.20s/it, loss=6.61]"
          ]
        },
        {
          "metadata": {
            "tags": null
          },
          "name": "stdout",
          "output_type": "stream",
          "text": [
            "========================================\n"
          ]
        },
        {
          "metadata": {
            "tags": null
          },
          "name": "stderr",
          "output_type": "stream",
          "text": [
            "\n",
            "Edge Modification:   0%|          | 0/20 [00:00<?, ?it/s]\u001b[A\n",
            "Edge Modification:   5%|▌         | 1/20 [00:09<03:05,  9.79s/it]"
          ]
        },
        {
          "metadata": {
            "tags": null
          },
          "name": "stdout",
          "output_type": "stream",
          "text": [
            "No more edges can be modified to increase the spectral gap.\n"
          ]
        },
        {
          "metadata": {
            "tags": null
          },
          "name": "stderr",
          "output_type": "stream",
          "text": [
            "\n",
            "(T):  31%|███       | 31/100 [06:58<18:08, 15.78s/it, loss=6.57]"
          ]
        },
        {
          "metadata": {
            "tags": null
          },
          "name": "stdout",
          "output_type": "stream",
          "text": [
            "========================================\n"
          ]
        },
        {
          "metadata": {
            "tags": null
          },
          "name": "stderr",
          "output_type": "stream",
          "text": [
            "\n",
            "Edge Modification:   0%|          | 0/20 [00:00<?, ?it/s]\u001b[A\n",
            "Edge Modification:   5%|▌         | 1/20 [00:09<02:58,  9.39s/it]"
          ]
        },
        {
          "metadata": {
            "tags": null
          },
          "name": "stdout",
          "output_type": "stream",
          "text": [
            "No more edges can be modified to increase the spectral gap.\n"
          ]
        },
        {
          "metadata": {
            "tags": null
          },
          "name": "stderr",
          "output_type": "stream",
          "text": [
            "\n",
            "(T):  32%|███▏      | 32/100 [07:07<15:48, 13.95s/it, loss=6.56]"
          ]
        },
        {
          "metadata": {
            "tags": null
          },
          "name": "stdout",
          "output_type": "stream",
          "text": [
            "========================================\n"
          ]
        },
        {
          "metadata": {
            "tags": null
          },
          "name": "stderr",
          "output_type": "stream",
          "text": [
            "\n",
            "Edge Modification:   0%|          | 0/20 [00:00<?, ?it/s]\u001b[A\n",
            "Edge Modification:   5%|▌         | 1/20 [00:09<03:00,  9.50s/it]"
          ]
        },
        {
          "metadata": {
            "tags": null
          },
          "name": "stdout",
          "output_type": "stream",
          "text": [
            "No more edges can be modified to increase the spectral gap.\n"
          ]
        },
        {
          "metadata": {
            "tags": null
          },
          "name": "stderr",
          "output_type": "stream",
          "text": [
            "\n",
            "(T):  33%|███▎      | 33/100 [07:18<14:18, 12.81s/it, loss=6.52]"
          ]
        },
        {
          "metadata": {
            "tags": null
          },
          "name": "stdout",
          "output_type": "stream",
          "text": [
            "========================================\n"
          ]
        },
        {
          "metadata": {
            "tags": null
          },
          "name": "stderr",
          "output_type": "stream",
          "text": [
            "\n",
            "Edge Modification:   0%|          | 0/20 [00:00<?, ?it/s]\u001b[A\n",
            "Edge Modification:   5%|▌         | 1/20 [00:09<03:04,  9.72s/it]"
          ]
        },
        {
          "metadata": {
            "tags": null
          },
          "name": "stdout",
          "output_type": "stream",
          "text": [
            "No more edges can be modified to increase the spectral gap.\n"
          ]
        },
        {
          "metadata": {
            "tags": null
          },
          "name": "stderr",
          "output_type": "stream",
          "text": [
            "\n",
            "(T):  34%|███▍      | 34/100 [07:28<13:10, 11.97s/it, loss=6.51]"
          ]
        },
        {
          "metadata": {
            "tags": null
          },
          "name": "stdout",
          "output_type": "stream",
          "text": [
            "========================================\n"
          ]
        },
        {
          "metadata": {
            "tags": null
          },
          "name": "stderr",
          "output_type": "stream",
          "text": [
            "\n",
            "Edge Modification:   0%|          | 0/20 [00:00<?, ?it/s]\u001b[A\n",
            "Edge Modification:   5%|▌         | 1/20 [00:09<03:05,  9.76s/it]"
          ]
        },
        {
          "metadata": {
            "tags": null
          },
          "name": "stdout",
          "output_type": "stream",
          "text": [
            "No more edges can be modified to increase the spectral gap.\n"
          ]
        },
        {
          "metadata": {
            "tags": null
          },
          "name": "stderr",
          "output_type": "stream",
          "text": [
            "\n"
          ]
        },
        {
          "metadata": {
            "tags": null
          },
          "name": "stdout",
          "output_type": "stream",
          "text": [
            "========================================\n"
          ]
        },
        {
          "metadata": {
            "tags": null
          },
          "name": "stderr",
          "output_type": "stream",
          "text": [
            "\n",
            "Edge Modification:   0%|          | 0/20 [00:00<?, ?it/s]\u001b[A\n",
            "Edge Modification:   5%|▌         | 1/20 [00:09<03:08,  9.94s/it]"
          ]
        },
        {
          "metadata": {
            "tags": null
          },
          "name": "stdout",
          "output_type": "stream",
          "text": [
            "No more edges can be modified to increase the spectral gap.\n"
          ]
        },
        {
          "metadata": {
            "tags": null
          },
          "name": "stderr",
          "output_type": "stream",
          "text": [
            "\n",
            "(T):  35%|███▌      | 35/100 [08:01<19:56, 18.41s/it, loss=6.49]"
          ]
        },
        {
          "metadata": {
            "tags": null
          },
          "name": "stdout",
          "output_type": "stream",
          "text": [
            "========================================\n"
          ]
        },
        {
          "metadata": {
            "tags": null
          },
          "name": "stderr",
          "output_type": "stream",
          "text": [
            "\n",
            "Edge Modification:   0%|          | 0/20 [00:00<?, ?it/s]\u001b[A\n",
            "Edge Modification:   5%|▌         | 1/20 [00:09<03:09,  9.99s/it]"
          ]
        },
        {
          "metadata": {
            "tags": null
          },
          "name": "stdout",
          "output_type": "stream",
          "text": [
            "No more edges can be modified to increase the spectral gap.\n"
          ]
        },
        {
          "metadata": {
            "tags": null
          },
          "name": "stderr",
          "output_type": "stream",
          "text": [
            "\n",
            "(T):  36%|███▌      | 36/100 [08:12<17:07, 16.05s/it, loss=6.48]"
          ]
        },
        {
          "metadata": {
            "tags": null
          },
          "name": "stdout",
          "output_type": "stream",
          "text": [
            "========================================\n"
          ]
        },
        {
          "metadata": {
            "tags": null
          },
          "name": "stderr",
          "output_type": "stream",
          "text": [
            "\n",
            "Edge Modification:   0%|          | 0/20 [00:00<?, ?it/s]\u001b[A\n",
            "Edge Modification:   5%|▌         | 1/20 [00:09<03:03,  9.67s/it]"
          ]
        },
        {
          "metadata": {
            "tags": null
          },
          "name": "stdout",
          "output_type": "stream",
          "text": [
            "No more edges can be modified to increase the spectral gap.\n"
          ]
        },
        {
          "metadata": {
            "tags": null
          },
          "name": "stderr",
          "output_type": "stream",
          "text": [
            "\n",
            "(T):  37%|███▋      | 37/100 [08:21<14:55, 14.22s/it, loss=6.44]"
          ]
        },
        {
          "metadata": {
            "tags": null
          },
          "name": "stdout",
          "output_type": "stream",
          "text": [
            "========================================\n"
          ]
        },
        {
          "metadata": {
            "tags": null
          },
          "name": "stderr",
          "output_type": "stream",
          "text": [
            "\n",
            "Edge Modification:   0%|          | 0/20 [00:00<?, ?it/s]\u001b[A\n",
            "Edge Modification:   5%|▌         | 1/20 [00:09<02:51,  9.02s/it]"
          ]
        },
        {
          "metadata": {
            "tags": null
          },
          "name": "stdout",
          "output_type": "stream",
          "text": [
            "No more edges can be modified to increase the spectral gap.\n"
          ]
        },
        {
          "metadata": {
            "tags": null
          },
          "name": "stderr",
          "output_type": "stream",
          "text": [
            "\n",
            "(T):  38%|███▊      | 38/100 [08:31<13:10, 12.76s/it, loss=6.42]"
          ]
        },
        {
          "metadata": {
            "tags": null
          },
          "name": "stdout",
          "output_type": "stream",
          "text": [
            "========================================\n"
          ]
        },
        {
          "metadata": {
            "tags": null
          },
          "name": "stderr",
          "output_type": "stream",
          "text": [
            "\n",
            "Edge Modification:   0%|          | 0/20 [00:00<?, ?it/s]\u001b[A\n",
            "Edge Modification:   5%|▌         | 1/20 [00:09<03:03,  9.68s/it]"
          ]
        },
        {
          "metadata": {
            "tags": null
          },
          "name": "stdout",
          "output_type": "stream",
          "text": [
            "No more edges can be modified to increase the spectral gap.\n"
          ]
        },
        {
          "metadata": {
            "tags": null
          },
          "name": "stderr",
          "output_type": "stream",
          "text": [
            "\n",
            "(T):  39%|███▉      | 39/100 [08:41<12:08, 11.94s/it, loss=6.41]"
          ]
        },
        {
          "metadata": {
            "tags": null
          },
          "name": "stdout",
          "output_type": "stream",
          "text": [
            "========================================\n"
          ]
        },
        {
          "metadata": {
            "tags": null
          },
          "name": "stderr",
          "output_type": "stream",
          "text": [
            "\n",
            "Edge Modification:   0%|          | 0/20 [00:00<?, ?it/s]\u001b[A\n",
            "Edge Modification:   5%|▌         | 1/20 [00:10<03:10, 10.02s/it]"
          ]
        },
        {
          "metadata": {
            "tags": null
          },
          "name": "stdout",
          "output_type": "stream",
          "text": [
            "No more edges can be modified to increase the spectral gap.\n"
          ]
        },
        {
          "metadata": {
            "tags": null
          },
          "name": "stderr",
          "output_type": "stream",
          "text": [
            "\n"
          ]
        },
        {
          "metadata": {
            "tags": null
          },
          "name": "stdout",
          "output_type": "stream",
          "text": [
            "========================================\n"
          ]
        },
        {
          "metadata": {
            "tags": null
          },
          "name": "stderr",
          "output_type": "stream",
          "text": [
            "\n",
            "Edge Modification:   0%|          | 0/20 [00:00<?, ?it/s]\u001b[A\n",
            "Edge Modification:   5%|▌         | 1/20 [00:09<03:07,  9.87s/it]"
          ]
        },
        {
          "metadata": {
            "tags": null
          },
          "name": "stdout",
          "output_type": "stream",
          "text": [
            "No more edges can be modified to increase the spectral gap.\n"
          ]
        },
        {
          "metadata": {
            "tags": null
          },
          "name": "stderr",
          "output_type": "stream",
          "text": [
            "\n",
            "(T):  40%|████      | 40/100 [09:20<20:01, 20.02s/it, loss=6.39]"
          ]
        },
        {
          "metadata": {
            "tags": null
          },
          "name": "stdout",
          "output_type": "stream",
          "text": [
            "========================================\n"
          ]
        },
        {
          "metadata": {
            "tags": null
          },
          "name": "stderr",
          "output_type": "stream",
          "text": [
            "\n",
            "Edge Modification:   0%|          | 0/20 [00:00<?, ?it/s]\u001b[A\n",
            "Edge Modification:   5%|▌         | 1/20 [00:09<03:00,  9.49s/it]"
          ]
        },
        {
          "metadata": {
            "tags": null
          },
          "name": "stdout",
          "output_type": "stream",
          "text": [
            "No more edges can be modified to increase the spectral gap.\n"
          ]
        },
        {
          "metadata": {
            "tags": null
          },
          "name": "stderr",
          "output_type": "stream",
          "text": [
            "\n",
            "(T):  41%|████      | 41/100 [09:30<16:42, 16.99s/it, loss=6.38]"
          ]
        },
        {
          "metadata": {
            "tags": null
          },
          "name": "stdout",
          "output_type": "stream",
          "text": [
            "========================================\n"
          ]
        },
        {
          "metadata": {
            "tags": null
          },
          "name": "stderr",
          "output_type": "stream",
          "text": [
            "\n",
            "Edge Modification:   0%|          | 0/20 [00:00<?, ?it/s]\u001b[A\n",
            "Edge Modification:   5%|▌         | 1/20 [00:09<03:07,  9.85s/it]"
          ]
        },
        {
          "metadata": {
            "tags": null
          },
          "name": "stdout",
          "output_type": "stream",
          "text": [
            "No more edges can be modified to increase the spectral gap.\n"
          ]
        },
        {
          "metadata": {
            "tags": null
          },
          "name": "stderr",
          "output_type": "stream",
          "text": [
            "\n",
            "(T):  42%|████▏     | 42/100 [09:40<14:26, 14.93s/it, loss=6.35]"
          ]
        },
        {
          "metadata": {
            "tags": null
          },
          "name": "stdout",
          "output_type": "stream",
          "text": [
            "========================================\n"
          ]
        },
        {
          "metadata": {
            "tags": null
          },
          "name": "stderr",
          "output_type": "stream",
          "text": [
            "\n",
            "Edge Modification:   0%|          | 0/20 [00:00<?, ?it/s]\u001b[A\n",
            "Edge Modification:   5%|▌         | 1/20 [00:10<03:10, 10.05s/it]"
          ]
        },
        {
          "metadata": {
            "tags": null
          },
          "name": "stdout",
          "output_type": "stream",
          "text": [
            "No more edges can be modified to increase the spectral gap.\n"
          ]
        },
        {
          "metadata": {
            "tags": null
          },
          "name": "stderr",
          "output_type": "stream",
          "text": [
            "\n",
            "(T):  43%|████▎     | 43/100 [09:50<12:57, 13.63s/it, loss=6.33]"
          ]
        },
        {
          "metadata": {
            "tags": null
          },
          "name": "stdout",
          "output_type": "stream",
          "text": [
            "========================================\n"
          ]
        },
        {
          "metadata": {
            "tags": null
          },
          "name": "stderr",
          "output_type": "stream",
          "text": [
            "\n",
            "Edge Modification:   0%|          | 0/20 [00:00<?, ?it/s]\u001b[A\n",
            "Edge Modification:   5%|▌         | 1/20 [00:09<03:07,  9.87s/it]"
          ]
        },
        {
          "metadata": {
            "tags": null
          },
          "name": "stdout",
          "output_type": "stream",
          "text": [
            "No more edges can be modified to increase the spectral gap.\n"
          ]
        },
        {
          "metadata": {
            "tags": null
          },
          "name": "stderr",
          "output_type": "stream",
          "text": [
            "\n",
            "(T):  44%|████▍     | 44/100 [10:01<11:44, 12.59s/it, loss=6.33]"
          ]
        },
        {
          "metadata": {
            "tags": null
          },
          "name": "stdout",
          "output_type": "stream",
          "text": [
            "========================================\n"
          ]
        },
        {
          "metadata": {
            "tags": null
          },
          "name": "stderr",
          "output_type": "stream",
          "text": [
            "\n",
            "Edge Modification:   0%|          | 0/20 [00:00<?, ?it/s]\u001b[A\n",
            "Edge Modification:   5%|▌         | 1/20 [00:09<03:05,  9.74s/it]"
          ]
        },
        {
          "metadata": {
            "tags": null
          },
          "name": "stdout",
          "output_type": "stream",
          "text": [
            "No more edges can be modified to increase the spectral gap.\n"
          ]
        },
        {
          "metadata": {
            "tags": null
          },
          "name": "stderr",
          "output_type": "stream",
          "text": [
            "\n"
          ]
        },
        {
          "metadata": {
            "tags": null
          },
          "name": "stdout",
          "output_type": "stream",
          "text": [
            "========================================\n"
          ]
        },
        {
          "metadata": {
            "tags": null
          },
          "name": "stderr",
          "output_type": "stream",
          "text": [
            "\n",
            "Edge Modification:   0%|          | 0/20 [00:00<?, ?it/s]\u001b[A\n",
            "Edge Modification:   5%|▌         | 1/20 [00:09<03:00,  9.52s/it]"
          ]
        },
        {
          "metadata": {
            "tags": null
          },
          "name": "stdout",
          "output_type": "stream",
          "text": [
            "No more edges can be modified to increase the spectral gap.\n"
          ]
        },
        {
          "metadata": {
            "tags": null
          },
          "name": "stderr",
          "output_type": "stream",
          "text": [
            "\n",
            "(T):  45%|████▌     | 45/100 [10:37<18:07, 19.78s/it, loss=6.32]"
          ]
        },
        {
          "metadata": {
            "tags": null
          },
          "name": "stdout",
          "output_type": "stream",
          "text": [
            "========================================\n"
          ]
        },
        {
          "metadata": {
            "tags": null
          },
          "name": "stderr",
          "output_type": "stream",
          "text": [
            "\n",
            "Edge Modification:   0%|          | 0/20 [00:00<?, ?it/s]\u001b[A\n",
            "Edge Modification:   5%|▌         | 1/20 [00:10<03:13, 10.19s/it]"
          ]
        },
        {
          "metadata": {
            "tags": null
          },
          "name": "stdout",
          "output_type": "stream",
          "text": [
            "No more edges can be modified to increase the spectral gap.\n"
          ]
        },
        {
          "metadata": {
            "tags": null
          },
          "name": "stderr",
          "output_type": "stream",
          "text": [
            "\n",
            "(T):  46%|████▌     | 46/100 [10:48<15:21, 17.07s/it, loss=6.29]"
          ]
        },
        {
          "metadata": {
            "tags": null
          },
          "name": "stdout",
          "output_type": "stream",
          "text": [
            "========================================\n"
          ]
        },
        {
          "metadata": {
            "tags": null
          },
          "name": "stderr",
          "output_type": "stream",
          "text": [
            "\n",
            "Edge Modification:   0%|          | 0/20 [00:00<?, ?it/s]\u001b[A\n",
            "Edge Modification:   5%|▌         | 1/20 [00:09<03:04,  9.71s/it]"
          ]
        },
        {
          "metadata": {
            "tags": null
          },
          "name": "stdout",
          "output_type": "stream",
          "text": [
            "No more edges can be modified to increase the spectral gap.\n"
          ]
        },
        {
          "metadata": {
            "tags": null
          },
          "name": "stderr",
          "output_type": "stream",
          "text": [
            "\n",
            "(T):  47%|████▋     | 47/100 [10:58<13:12, 14.95s/it, loss=6.28]"
          ]
        },
        {
          "metadata": {
            "tags": null
          },
          "name": "stdout",
          "output_type": "stream",
          "text": [
            "========================================\n"
          ]
        },
        {
          "metadata": {
            "tags": null
          },
          "name": "stderr",
          "output_type": "stream",
          "text": [
            "\n",
            "Edge Modification:   0%|          | 0/20 [00:00<?, ?it/s]\u001b[A\n",
            "Edge Modification:   5%|▌         | 1/20 [00:09<02:51,  9.01s/it]"
          ]
        },
        {
          "metadata": {
            "tags": null
          },
          "name": "stdout",
          "output_type": "stream",
          "text": [
            "No more edges can be modified to increase the spectral gap.\n"
          ]
        },
        {
          "metadata": {
            "tags": null
          },
          "name": "stderr",
          "output_type": "stream",
          "text": [
            "\n",
            "(T):  48%|████▊     | 48/100 [11:07<11:29, 13.25s/it, loss=6.25]"
          ]
        },
        {
          "metadata": {
            "tags": null
          },
          "name": "stdout",
          "output_type": "stream",
          "text": [
            "========================================\n"
          ]
        },
        {
          "metadata": {
            "tags": null
          },
          "name": "stderr",
          "output_type": "stream",
          "text": [
            "\n",
            "Edge Modification:   0%|          | 0/20 [00:00<?, ?it/s]\u001b[A\n",
            "Edge Modification:   5%|▌         | 1/20 [00:09<03:02,  9.63s/it]"
          ]
        },
        {
          "metadata": {
            "tags": null
          },
          "name": "stdout",
          "output_type": "stream",
          "text": [
            "No more edges can be modified to increase the spectral gap.\n"
          ]
        },
        {
          "metadata": {
            "tags": null
          },
          "name": "stderr",
          "output_type": "stream",
          "text": [
            "\n",
            "(T):  49%|████▉     | 49/100 [11:17<10:25, 12.27s/it, loss=6.24]"
          ]
        },
        {
          "metadata": {
            "tags": null
          },
          "name": "stdout",
          "output_type": "stream",
          "text": [
            "========================================\n"
          ]
        },
        {
          "metadata": {
            "tags": null
          },
          "name": "stderr",
          "output_type": "stream",
          "text": [
            "\n",
            "Edge Modification:   0%|          | 0/20 [00:00<?, ?it/s]\u001b[A\n",
            "Edge Modification:   5%|▌         | 1/20 [00:10<03:10, 10.02s/it]"
          ]
        },
        {
          "metadata": {
            "tags": null
          },
          "name": "stdout",
          "output_type": "stream",
          "text": [
            "No more edges can be modified to increase the spectral gap.\n"
          ]
        },
        {
          "metadata": {
            "tags": null
          },
          "name": "stderr",
          "output_type": "stream",
          "text": [
            "\n"
          ]
        },
        {
          "metadata": {
            "tags": null
          },
          "name": "stdout",
          "output_type": "stream",
          "text": [
            "========================================\n"
          ]
        },
        {
          "metadata": {
            "tags": null
          },
          "name": "stderr",
          "output_type": "stream",
          "text": [
            "\n",
            "Edge Modification:   0%|          | 0/20 [00:00<?, ?it/s]\u001b[A\n",
            "Edge Modification:   5%|▌         | 1/20 [00:09<03:07,  9.85s/it]"
          ]
        },
        {
          "metadata": {
            "tags": null
          },
          "name": "stdout",
          "output_type": "stream",
          "text": [
            "No more edges can be modified to increase the spectral gap.\n"
          ]
        },
        {
          "metadata": {
            "tags": null
          },
          "name": "stderr",
          "output_type": "stream",
          "text": [
            "\n",
            "(T):  50%|█████     | 50/100 [11:52<15:52, 19.04s/it, loss=6.23]"
          ]
        },
        {
          "metadata": {
            "tags": null
          },
          "name": "stdout",
          "output_type": "stream",
          "text": [
            "========================================\n"
          ]
        },
        {
          "metadata": {
            "tags": null
          },
          "name": "stderr",
          "output_type": "stream",
          "text": [
            "\n",
            "Edge Modification:   0%|          | 0/20 [00:00<?, ?it/s]\u001b[A\n",
            "Edge Modification:   5%|▌         | 1/20 [00:09<03:08,  9.91s/it]"
          ]
        },
        {
          "metadata": {
            "tags": null
          },
          "name": "stdout",
          "output_type": "stream",
          "text": [
            "No more edges can be modified to increase the spectral gap.\n"
          ]
        },
        {
          "metadata": {
            "tags": null
          },
          "name": "stderr",
          "output_type": "stream",
          "text": [
            "\n",
            "(T):  51%|█████     | 51/100 [12:02<13:23, 16.40s/it, loss=6.24]"
          ]
        },
        {
          "metadata": {
            "tags": null
          },
          "name": "stdout",
          "output_type": "stream",
          "text": [
            "========================================\n"
          ]
        },
        {
          "metadata": {
            "tags": null
          },
          "name": "stderr",
          "output_type": "stream",
          "text": [
            "\n",
            "Edge Modification:   0%|          | 0/20 [00:00<?, ?it/s]\u001b[A\n",
            "Edge Modification:   5%|▌         | 1/20 [00:09<03:07,  9.85s/it]"
          ]
        },
        {
          "metadata": {
            "tags": null
          },
          "name": "stdout",
          "output_type": "stream",
          "text": [
            "No more edges can be modified to increase the spectral gap.\n"
          ]
        },
        {
          "metadata": {
            "tags": null
          },
          "name": "stderr",
          "output_type": "stream",
          "text": [
            "\n",
            "(T):  52%|█████▏    | 52/100 [12:12<11:37, 14.52s/it, loss=6.2]"
          ]
        },
        {
          "metadata": {
            "tags": null
          },
          "name": "stdout",
          "output_type": "stream",
          "text": [
            "========================================\n"
          ]
        },
        {
          "metadata": {
            "tags": null
          },
          "name": "stderr",
          "output_type": "stream",
          "text": [
            "\n",
            "Edge Modification:   0%|          | 0/20 [00:00<?, ?it/s]\u001b[A\n",
            "Edge Modification:   5%|▌         | 1/20 [00:09<03:09,  9.96s/it]"
          ]
        },
        {
          "metadata": {
            "tags": null
          },
          "name": "stdout",
          "output_type": "stream",
          "text": [
            "No more edges can be modified to increase the spectral gap.\n"
          ]
        },
        {
          "metadata": {
            "tags": null
          },
          "name": "stderr",
          "output_type": "stream",
          "text": [
            "\n",
            "(T):  53%|█████▎    | 53/100 [12:23<10:25, 13.32s/it, loss=6.18]"
          ]
        },
        {
          "metadata": {
            "tags": null
          },
          "name": "stdout",
          "output_type": "stream",
          "text": [
            "========================================\n"
          ]
        },
        {
          "metadata": {
            "tags": null
          },
          "name": "stderr",
          "output_type": "stream",
          "text": [
            "\n",
            "Edge Modification:   0%|          | 0/20 [00:00<?, ?it/s]\u001b[A\n",
            "Edge Modification:   5%|▌         | 1/20 [00:09<03:03,  9.66s/it]"
          ]
        },
        {
          "metadata": {
            "tags": null
          },
          "name": "stdout",
          "output_type": "stream",
          "text": [
            "No more edges can be modified to increase the spectral gap.\n"
          ]
        },
        {
          "metadata": {
            "tags": null
          },
          "name": "stderr",
          "output_type": "stream",
          "text": [
            "\n",
            "(T):  54%|█████▍    | 54/100 [12:33<09:26, 12.31s/it, loss=6.16]"
          ]
        },
        {
          "metadata": {
            "tags": null
          },
          "name": "stdout",
          "output_type": "stream",
          "text": [
            "========================================\n"
          ]
        },
        {
          "metadata": {
            "tags": null
          },
          "name": "stderr",
          "output_type": "stream",
          "text": [
            "\n",
            "Edge Modification:   0%|          | 0/20 [00:00<?, ?it/s]\u001b[A\n",
            "Edge Modification:   5%|▌         | 1/20 [00:08<02:49,  8.94s/it]"
          ]
        },
        {
          "metadata": {
            "tags": null
          },
          "name": "stdout",
          "output_type": "stream",
          "text": [
            "No more edges can be modified to increase the spectral gap.\n"
          ]
        },
        {
          "metadata": {
            "tags": null
          },
          "name": "stderr",
          "output_type": "stream",
          "text": [
            "\n"
          ]
        },
        {
          "metadata": {
            "tags": null
          },
          "name": "stdout",
          "output_type": "stream",
          "text": [
            "========================================\n"
          ]
        },
        {
          "metadata": {
            "tags": null
          },
          "name": "stderr",
          "output_type": "stream",
          "text": [
            "\n",
            "Edge Modification:   0%|          | 0/20 [00:00<?, ?it/s]\u001b[A\n",
            "Edge Modification:   5%|▌         | 1/20 [00:09<03:06,  9.79s/it]"
          ]
        },
        {
          "metadata": {
            "tags": null
          },
          "name": "stdout",
          "output_type": "stream",
          "text": [
            "No more edges can be modified to increase the spectral gap.\n"
          ]
        },
        {
          "metadata": {
            "tags": null
          },
          "name": "stderr",
          "output_type": "stream",
          "text": [
            "\n",
            "(T):  55%|█████▌    | 55/100 [13:08<14:26, 19.25s/it, loss=6.14]"
          ]
        },
        {
          "metadata": {
            "tags": null
          },
          "name": "stdout",
          "output_type": "stream",
          "text": [
            "========================================\n"
          ]
        },
        {
          "metadata": {
            "tags": null
          },
          "name": "stderr",
          "output_type": "stream",
          "text": [
            "\n",
            "Edge Modification:   0%|          | 0/20 [00:00<?, ?it/s]\u001b[A\n",
            "Edge Modification:   5%|▌         | 1/20 [00:09<02:54,  9.17s/it]"
          ]
        },
        {
          "metadata": {
            "tags": null
          },
          "name": "stdout",
          "output_type": "stream",
          "text": [
            "No more edges can be modified to increase the spectral gap.\n"
          ]
        },
        {
          "metadata": {
            "tags": null
          },
          "name": "stderr",
          "output_type": "stream",
          "text": [
            "\n",
            "(T):  56%|█████▌    | 56/100 [13:18<12:02, 16.42s/it, loss=6.13]"
          ]
        },
        {
          "metadata": {
            "tags": null
          },
          "name": "stdout",
          "output_type": "stream",
          "text": [
            "========================================\n"
          ]
        },
        {
          "metadata": {
            "tags": null
          },
          "name": "stderr",
          "output_type": "stream",
          "text": [
            "\n",
            "Edge Modification:   0%|          | 0/20 [00:00<?, ?it/s]\u001b[A\n",
            "Edge Modification:   5%|▌         | 1/20 [00:09<03:02,  9.60s/it]"
          ]
        },
        {
          "metadata": {
            "tags": null
          },
          "name": "stdout",
          "output_type": "stream",
          "text": [
            "No more edges can be modified to increase the spectral gap.\n"
          ]
        },
        {
          "metadata": {
            "tags": null
          },
          "name": "stderr",
          "output_type": "stream",
          "text": [
            "\n",
            "(T):  57%|█████▋    | 57/100 [13:28<10:21, 14.46s/it, loss=6.12]"
          ]
        },
        {
          "metadata": {
            "tags": null
          },
          "name": "stdout",
          "output_type": "stream",
          "text": [
            "========================================\n"
          ]
        },
        {
          "metadata": {
            "tags": null
          },
          "name": "stderr",
          "output_type": "stream",
          "text": [
            "\n",
            "Edge Modification:   0%|          | 0/20 [00:00<?, ?it/s]\u001b[A\n",
            "Edge Modification:   5%|▌         | 1/20 [00:09<03:04,  9.73s/it]"
          ]
        },
        {
          "metadata": {
            "tags": null
          },
          "name": "stdout",
          "output_type": "stream",
          "text": [
            "No more edges can be modified to increase the spectral gap.\n"
          ]
        },
        {
          "metadata": {
            "tags": null
          },
          "name": "stderr",
          "output_type": "stream",
          "text": [
            "\n",
            "(T):  58%|█████▊    | 58/100 [13:38<09:11, 13.13s/it, loss=6.17]"
          ]
        },
        {
          "metadata": {
            "tags": null
          },
          "name": "stdout",
          "output_type": "stream",
          "text": [
            "========================================\n"
          ]
        },
        {
          "metadata": {
            "tags": null
          },
          "name": "stderr",
          "output_type": "stream",
          "text": [
            "\n",
            "Edge Modification:   0%|          | 0/20 [00:00<?, ?it/s]\u001b[A\n",
            "Edge Modification:   5%|▌         | 1/20 [00:09<03:04,  9.71s/it]"
          ]
        },
        {
          "metadata": {
            "tags": null
          },
          "name": "stdout",
          "output_type": "stream",
          "text": [
            "No more edges can be modified to increase the spectral gap.\n"
          ]
        },
        {
          "metadata": {
            "tags": null
          },
          "name": "stderr",
          "output_type": "stream",
          "text": [
            "\n",
            "(T):  59%|█████▉    | 59/100 [13:48<08:19, 12.19s/it, loss=6.13]"
          ]
        },
        {
          "metadata": {
            "tags": null
          },
          "name": "stdout",
          "output_type": "stream",
          "text": [
            "========================================\n"
          ]
        },
        {
          "metadata": {
            "tags": null
          },
          "name": "stderr",
          "output_type": "stream",
          "text": [
            "\n",
            "Edge Modification:   0%|          | 0/20 [00:00<?, ?it/s]\u001b[A\n",
            "Edge Modification:   5%|▌         | 1/20 [00:09<03:07,  9.87s/it]"
          ]
        },
        {
          "metadata": {
            "tags": null
          },
          "name": "stdout",
          "output_type": "stream",
          "text": [
            "No more edges can be modified to increase the spectral gap.\n"
          ]
        },
        {
          "metadata": {
            "tags": null
          },
          "name": "stderr",
          "output_type": "stream",
          "text": [
            "\n"
          ]
        },
        {
          "metadata": {
            "tags": null
          },
          "name": "stdout",
          "output_type": "stream",
          "text": [
            "========================================\n"
          ]
        },
        {
          "metadata": {
            "tags": null
          },
          "name": "stderr",
          "output_type": "stream",
          "text": [
            "\n",
            "Edge Modification:   0%|          | 0/20 [00:00<?, ?it/s]\u001b[A\n",
            "Edge Modification:   5%|▌         | 1/20 [00:09<03:03,  9.64s/it]"
          ]
        },
        {
          "metadata": {
            "tags": null
          },
          "name": "stdout",
          "output_type": "stream",
          "text": [
            "No more edges can be modified to increase the spectral gap.\n"
          ]
        },
        {
          "metadata": {
            "tags": null
          },
          "name": "stderr",
          "output_type": "stream",
          "text": [
            "\n",
            "(T):  60%|██████    | 60/100 [14:16<11:23, 17.08s/it, loss=6.09]"
          ]
        },
        {
          "metadata": {
            "tags": null
          },
          "name": "stdout",
          "output_type": "stream",
          "text": [
            "========================================\n"
          ]
        },
        {
          "metadata": {
            "tags": null
          },
          "name": "stderr",
          "output_type": "stream",
          "text": [
            "\n",
            "Edge Modification:   0%|          | 0/20 [00:00<?, ?it/s]\u001b[A\n",
            "Edge Modification:   5%|▌         | 1/20 [00:09<03:04,  9.70s/it]"
          ]
        },
        {
          "metadata": {
            "tags": null
          },
          "name": "stdout",
          "output_type": "stream",
          "text": [
            "No more edges can be modified to increase the spectral gap.\n"
          ]
        },
        {
          "metadata": {
            "tags": null
          },
          "name": "stderr",
          "output_type": "stream",
          "text": [
            "\n",
            "(T):  61%|██████    | 61/100 [14:27<09:43, 14.96s/it, loss=6.09]"
          ]
        },
        {
          "metadata": {
            "tags": null
          },
          "name": "stdout",
          "output_type": "stream",
          "text": [
            "========================================\n"
          ]
        },
        {
          "metadata": {
            "tags": null
          },
          "name": "stderr",
          "output_type": "stream",
          "text": [
            "\n",
            "Edge Modification:   0%|          | 0/20 [00:00<?, ?it/s]\u001b[A\n",
            "Edge Modification:   5%|▌         | 1/20 [00:09<03:05,  9.78s/it]"
          ]
        },
        {
          "metadata": {
            "tags": null
          },
          "name": "stdout",
          "output_type": "stream",
          "text": [
            "No more edges can be modified to increase the spectral gap.\n"
          ]
        },
        {
          "metadata": {
            "tags": null
          },
          "name": "stderr",
          "output_type": "stream",
          "text": [
            "\n",
            "(T):  62%|██████▏   | 62/100 [14:37<08:32, 13.50s/it, loss=6.08]"
          ]
        },
        {
          "metadata": {
            "tags": null
          },
          "name": "stdout",
          "output_type": "stream",
          "text": [
            "========================================\n"
          ]
        },
        {
          "metadata": {
            "tags": null
          },
          "name": "stderr",
          "output_type": "stream",
          "text": [
            "\n",
            "Edge Modification:   0%|          | 0/20 [00:00<?, ?it/s]\u001b[A\n",
            "Edge Modification:   5%|▌         | 1/20 [00:09<03:08,  9.92s/it]"
          ]
        },
        {
          "metadata": {
            "tags": null
          },
          "name": "stdout",
          "output_type": "stream",
          "text": [
            "No more edges can be modified to increase the spectral gap.\n"
          ]
        },
        {
          "metadata": {
            "tags": null
          },
          "name": "stderr",
          "output_type": "stream",
          "text": [
            "\n",
            "(T):  63%|██████▎   | 63/100 [14:47<07:45, 12.59s/it, loss=6.06]"
          ]
        },
        {
          "metadata": {
            "tags": null
          },
          "name": "stdout",
          "output_type": "stream",
          "text": [
            "========================================\n"
          ]
        },
        {
          "metadata": {
            "tags": null
          },
          "name": "stderr",
          "output_type": "stream",
          "text": [
            "\n",
            "Edge Modification:   0%|          | 0/20 [00:00<?, ?it/s]\u001b[A\n",
            "Edge Modification:   5%|▌         | 1/20 [00:09<03:02,  9.58s/it]"
          ]
        },
        {
          "metadata": {
            "tags": null
          },
          "name": "stdout",
          "output_type": "stream",
          "text": [
            "No more edges can be modified to increase the spectral gap.\n"
          ]
        },
        {
          "metadata": {
            "tags": null
          },
          "name": "stderr",
          "output_type": "stream",
          "text": [
            "\n",
            "(T):  64%|██████▍   | 64/100 [14:57<07:03, 11.77s/it, loss=6.04]"
          ]
        },
        {
          "metadata": {
            "tags": null
          },
          "name": "stdout",
          "output_type": "stream",
          "text": [
            "========================================\n"
          ]
        },
        {
          "metadata": {
            "tags": null
          },
          "name": "stderr",
          "output_type": "stream",
          "text": [
            "\n",
            "Edge Modification:   0%|          | 0/20 [00:00<?, ?it/s]\u001b[A\n",
            "Edge Modification:   5%|▌         | 1/20 [00:09<03:03,  9.67s/it]"
          ]
        },
        {
          "metadata": {
            "tags": null
          },
          "name": "stdout",
          "output_type": "stream",
          "text": [
            "No more edges can be modified to increase the spectral gap.\n"
          ]
        },
        {
          "metadata": {
            "tags": null
          },
          "name": "stderr",
          "output_type": "stream",
          "text": [
            "\n"
          ]
        },
        {
          "metadata": {
            "tags": null
          },
          "name": "stdout",
          "output_type": "stream",
          "text": [
            "========================================\n"
          ]
        },
        {
          "metadata": {
            "tags": null
          },
          "name": "stderr",
          "output_type": "stream",
          "text": [
            "\n",
            "Edge Modification:   0%|          | 0/20 [00:00<?, ?it/s]\u001b[A\n",
            "Edge Modification:   5%|▌         | 1/20 [00:08<02:48,  8.89s/it]"
          ]
        },
        {
          "metadata": {
            "tags": null
          },
          "name": "stdout",
          "output_type": "stream",
          "text": [
            "No more edges can be modified to increase the spectral gap.\n"
          ]
        },
        {
          "metadata": {
            "tags": null
          },
          "name": "stderr",
          "output_type": "stream",
          "text": [
            "\n",
            "(T):  65%|██████▌   | 65/100 [15:26<09:55, 17.01s/it, loss=6.04]"
          ]
        },
        {
          "metadata": {
            "tags": null
          },
          "name": "stdout",
          "output_type": "stream",
          "text": [
            "========================================\n"
          ]
        },
        {
          "metadata": {
            "tags": null
          },
          "name": "stderr",
          "output_type": "stream",
          "text": [
            "\n",
            "Edge Modification:   0%|          | 0/20 [00:00<?, ?it/s]\u001b[A\n",
            "Edge Modification:   5%|▌         | 1/20 [00:09<03:08,  9.91s/it]"
          ]
        },
        {
          "metadata": {
            "tags": null
          },
          "name": "stdout",
          "output_type": "stream",
          "text": [
            "No more edges can be modified to increase the spectral gap.\n"
          ]
        },
        {
          "metadata": {
            "tags": null
          },
          "name": "stderr",
          "output_type": "stream",
          "text": [
            "\n",
            "(T):  66%|██████▌   | 66/100 [15:37<08:31, 15.05s/it, loss=6.02]"
          ]
        },
        {
          "metadata": {
            "tags": null
          },
          "name": "stdout",
          "output_type": "stream",
          "text": [
            "========================================\n"
          ]
        },
        {
          "metadata": {
            "tags": null
          },
          "name": "stderr",
          "output_type": "stream",
          "text": [
            "\n",
            "Edge Modification:   0%|          | 0/20 [00:00<?, ?it/s]\u001b[A\n",
            "Edge Modification:   5%|▌         | 1/20 [00:09<03:05,  9.75s/it]"
          ]
        },
        {
          "metadata": {
            "tags": null
          },
          "name": "stdout",
          "output_type": "stream",
          "text": [
            "No more edges can be modified to increase the spectral gap.\n"
          ]
        },
        {
          "metadata": {
            "tags": null
          },
          "name": "stderr",
          "output_type": "stream",
          "text": [
            "\n",
            "(T):  67%|██████▋   | 67/100 [15:47<07:26, 13.54s/it, loss=6.01]"
          ]
        },
        {
          "metadata": {
            "tags": null
          },
          "name": "stdout",
          "output_type": "stream",
          "text": [
            "========================================\n"
          ]
        },
        {
          "metadata": {
            "tags": null
          },
          "name": "stderr",
          "output_type": "stream",
          "text": [
            "\n",
            "Edge Modification:   0%|          | 0/20 [00:00<?, ?it/s]\u001b[A\n",
            "Edge Modification:   5%|▌         | 1/20 [00:09<03:05,  9.79s/it]"
          ]
        },
        {
          "metadata": {
            "tags": null
          },
          "name": "stdout",
          "output_type": "stream",
          "text": [
            "No more edges can be modified to increase the spectral gap.\n"
          ]
        },
        {
          "metadata": {
            "tags": null
          },
          "name": "stderr",
          "output_type": "stream",
          "text": [
            "\n",
            "(T):  68%|██████▊   | 68/100 [15:57<06:40, 12.50s/it, loss=6.01]"
          ]
        },
        {
          "metadata": {
            "tags": null
          },
          "name": "stdout",
          "output_type": "stream",
          "text": [
            "========================================\n"
          ]
        },
        {
          "metadata": {
            "tags": null
          },
          "name": "stderr",
          "output_type": "stream",
          "text": [
            "\n",
            "Edge Modification:   0%|          | 0/20 [00:00<?, ?it/s]\u001b[A\n",
            "Edge Modification:   5%|▌         | 1/20 [00:09<03:05,  9.76s/it]"
          ]
        },
        {
          "metadata": {
            "tags": null
          },
          "name": "stdout",
          "output_type": "stream",
          "text": [
            "No more edges can be modified to increase the spectral gap.\n"
          ]
        },
        {
          "metadata": {
            "tags": null
          },
          "name": "stderr",
          "output_type": "stream",
          "text": [
            "\n",
            "(T):  69%|██████▉   | 69/100 [16:07<06:04, 11.77s/it, loss=6.02]"
          ]
        },
        {
          "metadata": {
            "tags": null
          },
          "name": "stdout",
          "output_type": "stream",
          "text": [
            "========================================\n"
          ]
        },
        {
          "metadata": {
            "tags": null
          },
          "name": "stderr",
          "output_type": "stream",
          "text": [
            "\n",
            "Edge Modification:   0%|          | 0/20 [00:00<?, ?it/s]\u001b[A\n",
            "Edge Modification:   5%|▌         | 1/20 [00:09<03:05,  9.74s/it]"
          ]
        },
        {
          "metadata": {
            "tags": null
          },
          "name": "stdout",
          "output_type": "stream",
          "text": [
            "No more edges can be modified to increase the spectral gap.\n"
          ]
        },
        {
          "metadata": {
            "tags": null
          },
          "name": "stderr",
          "output_type": "stream",
          "text": [
            "\n"
          ]
        },
        {
          "metadata": {
            "tags": null
          },
          "name": "stdout",
          "output_type": "stream",
          "text": [
            "========================================\n"
          ]
        },
        {
          "metadata": {
            "tags": null
          },
          "name": "stderr",
          "output_type": "stream",
          "text": [
            "\n",
            "Edge Modification:   0%|          | 0/20 [00:00<?, ?it/s]\u001b[A\n",
            "Edge Modification:   5%|▌         | 1/20 [00:08<02:50,  9.00s/it]"
          ]
        },
        {
          "metadata": {
            "tags": null
          },
          "name": "stdout",
          "output_type": "stream",
          "text": [
            "No more edges can be modified to increase the spectral gap.\n"
          ]
        },
        {
          "metadata": {
            "tags": null
          },
          "name": "stderr",
          "output_type": "stream",
          "text": [
            "\n",
            "(T):  70%|███████   | 70/100 [16:37<08:41, 17.37s/it, loss=5.98]"
          ]
        },
        {
          "metadata": {
            "tags": null
          },
          "name": "stdout",
          "output_type": "stream",
          "text": [
            "========================================\n"
          ]
        },
        {
          "metadata": {
            "tags": null
          },
          "name": "stderr",
          "output_type": "stream",
          "text": [
            "\n",
            "Edge Modification:   0%|          | 0/20 [00:00<?, ?it/s]\u001b[A\n",
            "Edge Modification:   5%|▌         | 1/20 [00:09<03:03,  9.64s/it]"
          ]
        },
        {
          "metadata": {
            "tags": null
          },
          "name": "stdout",
          "output_type": "stream",
          "text": [
            "No more edges can be modified to increase the spectral gap.\n"
          ]
        },
        {
          "metadata": {
            "tags": null
          },
          "name": "stderr",
          "output_type": "stream",
          "text": [
            "\n",
            "(T):  71%|███████   | 71/100 [16:47<07:19, 15.15s/it, loss=5.96]"
          ]
        },
        {
          "metadata": {
            "tags": null
          },
          "name": "stdout",
          "output_type": "stream",
          "text": [
            "========================================\n"
          ]
        },
        {
          "metadata": {
            "tags": null
          },
          "name": "stderr",
          "output_type": "stream",
          "text": [
            "\n",
            "Edge Modification:   0%|          | 0/20 [00:00<?, ?it/s]\u001b[A\n",
            "Edge Modification:   5%|▌         | 1/20 [00:09<03:04,  9.72s/it]"
          ]
        },
        {
          "metadata": {
            "tags": null
          },
          "name": "stdout",
          "output_type": "stream",
          "text": [
            "No more edges can be modified to increase the spectral gap.\n"
          ]
        },
        {
          "metadata": {
            "tags": null
          },
          "name": "stderr",
          "output_type": "stream",
          "text": [
            "\n",
            "(T):  72%|███████▏  | 72/100 [16:57<06:21, 13.61s/it, loss=5.94]"
          ]
        },
        {
          "metadata": {
            "tags": null
          },
          "name": "stdout",
          "output_type": "stream",
          "text": [
            "========================================\n"
          ]
        },
        {
          "metadata": {
            "tags": null
          },
          "name": "stderr",
          "output_type": "stream",
          "text": [
            "\n",
            "Edge Modification:   0%|          | 0/20 [00:00<?, ?it/s]\u001b[A\n",
            "Edge Modification:   5%|▌         | 1/20 [00:09<03:08,  9.93s/it]"
          ]
        },
        {
          "metadata": {
            "tags": null
          },
          "name": "stdout",
          "output_type": "stream",
          "text": [
            "No more edges can be modified to increase the spectral gap.\n"
          ]
        },
        {
          "metadata": {
            "tags": null
          },
          "name": "stderr",
          "output_type": "stream",
          "text": [
            "\n",
            "(T):  73%|███████▎  | 73/100 [17:08<05:41, 12.67s/it, loss=5.97]"
          ]
        },
        {
          "metadata": {
            "tags": null
          },
          "name": "stdout",
          "output_type": "stream",
          "text": [
            "========================================\n"
          ]
        },
        {
          "metadata": {
            "tags": null
          },
          "name": "stderr",
          "output_type": "stream",
          "text": [
            "\n",
            "Edge Modification:   0%|          | 0/20 [00:00<?, ?it/s]\u001b[A\n",
            "Edge Modification:   5%|▌         | 1/20 [00:09<03:03,  9.65s/it]"
          ]
        },
        {
          "metadata": {
            "tags": null
          },
          "name": "stdout",
          "output_type": "stream",
          "text": [
            "No more edges can be modified to increase the spectral gap.\n"
          ]
        },
        {
          "metadata": {
            "tags": null
          },
          "name": "stderr",
          "output_type": "stream",
          "text": [
            "\n",
            "(T):  74%|███████▍  | 74/100 [17:18<05:07, 11.85s/it, loss=5.93]"
          ]
        },
        {
          "metadata": {
            "tags": null
          },
          "name": "stdout",
          "output_type": "stream",
          "text": [
            "========================================\n"
          ]
        },
        {
          "metadata": {
            "tags": null
          },
          "name": "stderr",
          "output_type": "stream",
          "text": [
            "\n",
            "Edge Modification:   0%|          | 0/20 [00:00<?, ?it/s]\u001b[A\n",
            "Edge Modification:   5%|▌         | 1/20 [00:08<02:50,  8.98s/it]"
          ]
        },
        {
          "metadata": {
            "tags": null
          },
          "name": "stdout",
          "output_type": "stream",
          "text": [
            "No more edges can be modified to increase the spectral gap.\n"
          ]
        },
        {
          "metadata": {
            "tags": null
          },
          "name": "stderr",
          "output_type": "stream",
          "text": [
            "\n"
          ]
        },
        {
          "metadata": {
            "tags": null
          },
          "name": "stdout",
          "output_type": "stream",
          "text": [
            "========================================\n"
          ]
        },
        {
          "metadata": {
            "tags": null
          },
          "name": "stderr",
          "output_type": "stream",
          "text": [
            "\n",
            "Edge Modification:   0%|          | 0/20 [00:00<?, ?it/s]\u001b[A\n",
            "Edge Modification:   5%|▌         | 1/20 [00:09<03:03,  9.65s/it]"
          ]
        },
        {
          "metadata": {
            "tags": null
          },
          "name": "stdout",
          "output_type": "stream",
          "text": [
            "No more edges can be modified to increase the spectral gap.\n"
          ]
        },
        {
          "metadata": {
            "tags": null
          },
          "name": "stderr",
          "output_type": "stream",
          "text": [
            "\n",
            "(T):  75%|███████▌  | 75/100 [17:53<07:55, 19.02s/it, loss=5.92]"
          ]
        },
        {
          "metadata": {
            "tags": null
          },
          "name": "stdout",
          "output_type": "stream",
          "text": [
            "========================================\n"
          ]
        },
        {
          "metadata": {
            "tags": null
          },
          "name": "stderr",
          "output_type": "stream",
          "text": [
            "\n",
            "Edge Modification:   0%|          | 0/20 [00:00<?, ?it/s]\u001b[A\n",
            "Edge Modification:   5%|▌         | 1/20 [00:09<03:03,  9.65s/it]"
          ]
        },
        {
          "metadata": {
            "tags": null
          },
          "name": "stdout",
          "output_type": "stream",
          "text": [
            "No more edges can be modified to increase the spectral gap.\n"
          ]
        },
        {
          "metadata": {
            "tags": null
          },
          "name": "stderr",
          "output_type": "stream",
          "text": [
            "\n",
            "(T):  76%|███████▌  | 76/100 [18:04<06:33, 16.39s/it, loss=5.9]"
          ]
        },
        {
          "metadata": {
            "tags": null
          },
          "name": "stdout",
          "output_type": "stream",
          "text": [
            "========================================\n"
          ]
        },
        {
          "metadata": {
            "tags": null
          },
          "name": "stderr",
          "output_type": "stream",
          "text": [
            "\n",
            "Edge Modification:   0%|          | 0/20 [00:00<?, ?it/s]\u001b[A\n",
            "Edge Modification:   5%|▌         | 1/20 [00:09<02:53,  9.14s/it]"
          ]
        },
        {
          "metadata": {
            "tags": null
          },
          "name": "stdout",
          "output_type": "stream",
          "text": [
            "No more edges can be modified to increase the spectral gap.\n"
          ]
        },
        {
          "metadata": {
            "tags": null
          },
          "name": "stderr",
          "output_type": "stream",
          "text": [
            "\n",
            "(T):  77%|███████▋  | 77/100 [18:13<05:29, 14.32s/it, loss=5.91]"
          ]
        },
        {
          "metadata": {
            "tags": null
          },
          "name": "stdout",
          "output_type": "stream",
          "text": [
            "========================================\n"
          ]
        },
        {
          "metadata": {
            "tags": null
          },
          "name": "stderr",
          "output_type": "stream",
          "text": [
            "\n",
            "Edge Modification:   0%|          | 0/20 [00:00<?, ?it/s]\u001b[A\n",
            "Edge Modification:   5%|▌         | 1/20 [00:09<03:05,  9.79s/it]"
          ]
        },
        {
          "metadata": {
            "tags": null
          },
          "name": "stdout",
          "output_type": "stream",
          "text": [
            "No more edges can be modified to increase the spectral gap.\n"
          ]
        },
        {
          "metadata": {
            "tags": null
          },
          "name": "stderr",
          "output_type": "stream",
          "text": [
            "\n",
            "(T):  78%|███████▊  | 78/100 [18:23<04:47, 13.05s/it, loss=5.88]"
          ]
        },
        {
          "metadata": {
            "tags": null
          },
          "name": "stdout",
          "output_type": "stream",
          "text": [
            "========================================\n"
          ]
        },
        {
          "metadata": {
            "tags": null
          },
          "name": "stderr",
          "output_type": "stream",
          "text": [
            "\n",
            "Edge Modification:   0%|          | 0/20 [00:00<?, ?it/s]\u001b[A\n",
            "Edge Modification:   5%|▌         | 1/20 [00:09<03:06,  9.79s/it]"
          ]
        },
        {
          "metadata": {
            "tags": null
          },
          "name": "stdout",
          "output_type": "stream",
          "text": [
            "No more edges can be modified to increase the spectral gap.\n"
          ]
        },
        {
          "metadata": {
            "tags": null
          },
          "name": "stderr",
          "output_type": "stream",
          "text": [
            "\n",
            "(T):  79%|███████▉  | 79/100 [18:33<04:15, 12.16s/it, loss=5.89]"
          ]
        },
        {
          "metadata": {
            "tags": null
          },
          "name": "stdout",
          "output_type": "stream",
          "text": [
            "========================================\n"
          ]
        },
        {
          "metadata": {
            "tags": null
          },
          "name": "stderr",
          "output_type": "stream",
          "text": [
            "\n",
            "Edge Modification:   0%|          | 0/20 [00:00<?, ?it/s]\u001b[A\n",
            "Edge Modification:   5%|▌         | 1/20 [00:09<03:09,  9.98s/it]"
          ]
        },
        {
          "metadata": {
            "tags": null
          },
          "name": "stdout",
          "output_type": "stream",
          "text": [
            "No more edges can be modified to increase the spectral gap.\n"
          ]
        },
        {
          "metadata": {
            "tags": null
          },
          "name": "stderr",
          "output_type": "stream",
          "text": [
            "\n"
          ]
        },
        {
          "metadata": {
            "tags": null
          },
          "name": "stdout",
          "output_type": "stream",
          "text": [
            "========================================\n"
          ]
        },
        {
          "metadata": {
            "tags": null
          },
          "name": "stderr",
          "output_type": "stream",
          "text": [
            "\n",
            "Edge Modification:   0%|          | 0/20 [00:00<?, ?it/s]\u001b[A\n",
            "Edge Modification:   5%|▌         | 1/20 [00:09<03:01,  9.57s/it]"
          ]
        },
        {
          "metadata": {
            "tags": null
          },
          "name": "stdout",
          "output_type": "stream",
          "text": [
            "No more edges can be modified to increase the spectral gap.\n"
          ]
        },
        {
          "metadata": {
            "tags": null
          },
          "name": "stderr",
          "output_type": "stream",
          "text": [
            "\n",
            "(T):  80%|████████  | 80/100 [19:09<06:26, 19.35s/it, loss=5.9]"
          ]
        },
        {
          "metadata": {
            "tags": null
          },
          "name": "stdout",
          "output_type": "stream",
          "text": [
            "========================================\n"
          ]
        },
        {
          "metadata": {
            "tags": null
          },
          "name": "stderr",
          "output_type": "stream",
          "text": [
            "\n",
            "Edge Modification:   0%|          | 0/20 [00:00<?, ?it/s]\u001b[A\n",
            "Edge Modification:   5%|▌         | 1/20 [00:09<03:04,  9.72s/it]"
          ]
        },
        {
          "metadata": {
            "tags": null
          },
          "name": "stdout",
          "output_type": "stream",
          "text": [
            "No more edges can be modified to increase the spectral gap.\n"
          ]
        },
        {
          "metadata": {
            "tags": null
          },
          "name": "stderr",
          "output_type": "stream",
          "text": [
            "\n",
            "(T):  81%|████████  | 81/100 [19:19<05:14, 16.56s/it, loss=5.95]"
          ]
        },
        {
          "metadata": {
            "tags": null
          },
          "name": "stdout",
          "output_type": "stream",
          "text": [
            "========================================\n"
          ]
        },
        {
          "metadata": {
            "tags": null
          },
          "name": "stderr",
          "output_type": "stream",
          "text": [
            "\n",
            "Edge Modification:   0%|          | 0/20 [00:00<?, ?it/s]\u001b[A\n",
            "Edge Modification:   5%|▌         | 1/20 [00:09<03:03,  9.68s/it]"
          ]
        },
        {
          "metadata": {
            "tags": null
          },
          "name": "stdout",
          "output_type": "stream",
          "text": [
            "No more edges can be modified to increase the spectral gap.\n"
          ]
        },
        {
          "metadata": {
            "tags": null
          },
          "name": "stderr",
          "output_type": "stream",
          "text": [
            "\n",
            "(T):  82%|████████▏ | 82/100 [19:29<04:22, 14.59s/it, loss=5.91]"
          ]
        },
        {
          "metadata": {
            "tags": null
          },
          "name": "stdout",
          "output_type": "stream",
          "text": [
            "========================================\n"
          ]
        },
        {
          "metadata": {
            "tags": null
          },
          "name": "stderr",
          "output_type": "stream",
          "text": [
            "\n",
            "Edge Modification:   0%|          | 0/20 [00:00<?, ?it/s]\u001b[A\n",
            "Edge Modification:   5%|▌         | 1/20 [00:09<03:08,  9.90s/it]"
          ]
        },
        {
          "metadata": {
            "tags": null
          },
          "name": "stdout",
          "output_type": "stream",
          "text": [
            "No more edges can be modified to increase the spectral gap.\n"
          ]
        },
        {
          "metadata": {
            "tags": null
          },
          "name": "stderr",
          "output_type": "stream",
          "text": [
            "\n",
            "(T):  83%|████████▎ | 83/100 [19:40<03:46, 13.34s/it, loss=5.87]"
          ]
        },
        {
          "metadata": {
            "tags": null
          },
          "name": "stdout",
          "output_type": "stream",
          "text": [
            "========================================\n"
          ]
        },
        {
          "metadata": {
            "tags": null
          },
          "name": "stderr",
          "output_type": "stream",
          "text": [
            "\n",
            "Edge Modification:   0%|          | 0/20 [00:00<?, ?it/s]\u001b[A\n",
            "Edge Modification:   5%|▌         | 1/20 [00:08<02:48,  8.89s/it]"
          ]
        },
        {
          "metadata": {
            "tags": null
          },
          "name": "stdout",
          "output_type": "stream",
          "text": [
            "No more edges can be modified to increase the spectral gap.\n"
          ]
        },
        {
          "metadata": {
            "tags": null
          },
          "name": "stderr",
          "output_type": "stream",
          "text": [
            "\n",
            "(T):  84%|████████▍ | 84/100 [19:49<03:13, 12.09s/it, loss=5.85]"
          ]
        },
        {
          "metadata": {
            "tags": null
          },
          "name": "stdout",
          "output_type": "stream",
          "text": [
            "========================================\n"
          ]
        },
        {
          "metadata": {
            "tags": null
          },
          "name": "stderr",
          "output_type": "stream",
          "text": [
            "\n",
            "Edge Modification:   0%|          | 0/20 [00:00<?, ?it/s]\u001b[A\n",
            "Edge Modification:   5%|▌         | 1/20 [00:09<03:03,  9.64s/it]"
          ]
        },
        {
          "metadata": {
            "tags": null
          },
          "name": "stdout",
          "output_type": "stream",
          "text": [
            "No more edges can be modified to increase the spectral gap.\n"
          ]
        },
        {
          "metadata": {
            "tags": null
          },
          "name": "stderr",
          "output_type": "stream",
          "text": [
            "\n"
          ]
        },
        {
          "metadata": {
            "tags": null
          },
          "name": "stdout",
          "output_type": "stream",
          "text": [
            "========================================\n"
          ]
        },
        {
          "metadata": {
            "tags": null
          },
          "name": "stderr",
          "output_type": "stream",
          "text": [
            "\n",
            "Edge Modification:   0%|          | 0/20 [00:00<?, ?it/s]\u001b[A\n",
            "Edge Modification:   5%|▌         | 1/20 [00:09<03:05,  9.76s/it]"
          ]
        },
        {
          "metadata": {
            "tags": null
          },
          "name": "stdout",
          "output_type": "stream",
          "text": [
            "No more edges can be modified to increase the spectral gap.\n"
          ]
        },
        {
          "metadata": {
            "tags": null
          },
          "name": "stderr",
          "output_type": "stream",
          "text": [
            "\n",
            "(T):  85%|████████▌ | 85/100 [20:23<04:40, 18.73s/it, loss=5.83]"
          ]
        },
        {
          "metadata": {
            "tags": null
          },
          "name": "stdout",
          "output_type": "stream",
          "text": [
            "========================================\n"
          ]
        },
        {
          "metadata": {
            "tags": null
          },
          "name": "stderr",
          "output_type": "stream",
          "text": [
            "\n",
            "Edge Modification:   0%|          | 0/20 [00:00<?, ?it/s]\u001b[A\n",
            "Edge Modification:   5%|▌         | 1/20 [00:09<03:08,  9.90s/it]"
          ]
        },
        {
          "metadata": {
            "tags": null
          },
          "name": "stdout",
          "output_type": "stream",
          "text": [
            "No more edges can be modified to increase the spectral gap.\n"
          ]
        },
        {
          "metadata": {
            "tags": null
          },
          "name": "stderr",
          "output_type": "stream",
          "text": [
            "\n",
            "(T):  86%|████████▌ | 86/100 [20:34<03:47, 16.26s/it, loss=5.84]"
          ]
        },
        {
          "metadata": {
            "tags": null
          },
          "name": "stdout",
          "output_type": "stream",
          "text": [
            "========================================\n"
          ]
        },
        {
          "metadata": {
            "tags": null
          },
          "name": "stderr",
          "output_type": "stream",
          "text": [
            "\n",
            "Edge Modification:   0%|          | 0/20 [00:00<?, ?it/s]\u001b[A\n",
            "Edge Modification:   5%|▌         | 1/20 [00:09<03:03,  9.68s/it]"
          ]
        },
        {
          "metadata": {
            "tags": null
          },
          "name": "stdout",
          "output_type": "stream",
          "text": [
            "No more edges can be modified to increase the spectral gap.\n"
          ]
        },
        {
          "metadata": {
            "tags": null
          },
          "name": "stderr",
          "output_type": "stream",
          "text": [
            "\n",
            "(T):  87%|████████▋ | 87/100 [20:44<03:06, 14.37s/it, loss=5.83]"
          ]
        },
        {
          "metadata": {
            "tags": null
          },
          "name": "stdout",
          "output_type": "stream",
          "text": [
            "========================================\n"
          ]
        },
        {
          "metadata": {
            "tags": null
          },
          "name": "stderr",
          "output_type": "stream",
          "text": [
            "\n",
            "Edge Modification:   0%|          | 0/20 [00:00<?, ?it/s]\u001b[A\n",
            "Edge Modification:   5%|▌         | 1/20 [00:09<03:03,  9.65s/it]"
          ]
        },
        {
          "metadata": {
            "tags": null
          },
          "name": "stdout",
          "output_type": "stream",
          "text": [
            "No more edges can be modified to increase the spectral gap.\n"
          ]
        },
        {
          "metadata": {
            "tags": null
          },
          "name": "stderr",
          "output_type": "stream",
          "text": [
            "\n",
            "(T):  88%|████████▊ | 88/100 [20:54<02:36, 13.05s/it, loss=5.82]"
          ]
        },
        {
          "metadata": {
            "tags": null
          },
          "name": "stdout",
          "output_type": "stream",
          "text": [
            "========================================\n"
          ]
        },
        {
          "metadata": {
            "tags": null
          },
          "name": "stderr",
          "output_type": "stream",
          "text": [
            "\n",
            "Edge Modification:   0%|          | 0/20 [00:00<?, ?it/s]\u001b[A\n",
            "Edge Modification:   5%|▌         | 1/20 [00:09<03:03,  9.66s/it]"
          ]
        },
        {
          "metadata": {
            "tags": null
          },
          "name": "stdout",
          "output_type": "stream",
          "text": [
            "No more edges can be modified to increase the spectral gap.\n"
          ]
        },
        {
          "metadata": {
            "tags": null
          },
          "name": "stderr",
          "output_type": "stream",
          "text": [
            "\n",
            "(T):  89%|████████▉ | 89/100 [21:04<02:13, 12.12s/it, loss=5.81]"
          ]
        },
        {
          "metadata": {
            "tags": null
          },
          "name": "stdout",
          "output_type": "stream",
          "text": [
            "========================================\n"
          ]
        },
        {
          "metadata": {
            "tags": null
          },
          "name": "stderr",
          "output_type": "stream",
          "text": [
            "\n",
            "Edge Modification:   0%|          | 0/20 [00:00<?, ?it/s]\u001b[A\n",
            "Edge Modification:   5%|▌         | 1/20 [00:09<03:08,  9.92s/it]"
          ]
        },
        {
          "metadata": {
            "tags": null
          },
          "name": "stdout",
          "output_type": "stream",
          "text": [
            "No more edges can be modified to increase the spectral gap.\n"
          ]
        },
        {
          "metadata": {
            "tags": null
          },
          "name": "stderr",
          "output_type": "stream",
          "text": [
            "\n"
          ]
        },
        {
          "metadata": {
            "tags": null
          },
          "name": "stdout",
          "output_type": "stream",
          "text": [
            "========================================\n"
          ]
        },
        {
          "metadata": {
            "tags": null
          },
          "name": "stderr",
          "output_type": "stream",
          "text": [
            "\n",
            "Edge Modification:   0%|          | 0/20 [00:00<?, ?it/s]\u001b[A\n",
            "Edge Modification:   5%|▌         | 1/20 [00:08<02:48,  8.87s/it]"
          ]
        },
        {
          "metadata": {
            "tags": null
          },
          "name": "stdout",
          "output_type": "stream",
          "text": [
            "No more edges can be modified to increase the spectral gap.\n"
          ]
        },
        {
          "metadata": {
            "tags": null
          },
          "name": "stderr",
          "output_type": "stream",
          "text": [
            "\n",
            "(T):  90%|█████████ | 90/100 [21:39<03:11, 19.10s/it, loss=5.79]"
          ]
        },
        {
          "metadata": {
            "tags": null
          },
          "name": "stdout",
          "output_type": "stream",
          "text": [
            "========================================\n"
          ]
        },
        {
          "metadata": {
            "tags": null
          },
          "name": "stderr",
          "output_type": "stream",
          "text": [
            "\n",
            "Edge Modification:   0%|          | 0/20 [00:00<?, ?it/s]\u001b[A\n",
            "Edge Modification:   5%|▌         | 1/20 [00:09<02:58,  9.38s/it]"
          ]
        },
        {
          "metadata": {
            "tags": null
          },
          "name": "stdout",
          "output_type": "stream",
          "text": [
            "No more edges can be modified to increase the spectral gap.\n"
          ]
        },
        {
          "metadata": {
            "tags": null
          },
          "name": "stderr",
          "output_type": "stream",
          "text": [
            "\n",
            "(T):  91%|█████████ | 91/100 [21:49<02:26, 16.29s/it, loss=5.79]"
          ]
        },
        {
          "metadata": {
            "tags": null
          },
          "name": "stdout",
          "output_type": "stream",
          "text": [
            "========================================\n"
          ]
        },
        {
          "metadata": {
            "tags": null
          },
          "name": "stderr",
          "output_type": "stream",
          "text": [
            "\n",
            "Edge Modification:   0%|          | 0/20 [00:00<?, ?it/s]\u001b[A\n",
            "Edge Modification:   5%|▌         | 1/20 [00:09<02:53,  9.13s/it]"
          ]
        },
        {
          "metadata": {
            "tags": null
          },
          "name": "stdout",
          "output_type": "stream",
          "text": [
            "No more edges can be modified to increase the spectral gap.\n"
          ]
        },
        {
          "metadata": {
            "tags": null
          },
          "name": "stderr",
          "output_type": "stream",
          "text": [
            "\n",
            "(T):  92%|█████████▏| 92/100 [21:58<01:54, 14.25s/it, loss=5.81]"
          ]
        },
        {
          "metadata": {
            "tags": null
          },
          "name": "stdout",
          "output_type": "stream",
          "text": [
            "========================================\n"
          ]
        },
        {
          "metadata": {
            "tags": null
          },
          "name": "stderr",
          "output_type": "stream",
          "text": [
            "\n",
            "Edge Modification:   0%|          | 0/20 [00:00<?, ?it/s]\u001b[A\n",
            "Edge Modification:   5%|▌         | 1/20 [00:09<03:08,  9.94s/it]"
          ]
        },
        {
          "metadata": {
            "tags": null
          },
          "name": "stdout",
          "output_type": "stream",
          "text": [
            "No more edges can be modified to increase the spectral gap.\n"
          ]
        },
        {
          "metadata": {
            "tags": null
          },
          "name": "stderr",
          "output_type": "stream",
          "text": [
            "\n",
            "(T):  93%|█████████▎| 93/100 [22:09<01:31, 13.12s/it, loss=5.81]"
          ]
        },
        {
          "metadata": {
            "tags": null
          },
          "name": "stdout",
          "output_type": "stream",
          "text": [
            "========================================\n"
          ]
        },
        {
          "metadata": {
            "tags": null
          },
          "name": "stderr",
          "output_type": "stream",
          "text": [
            "\n",
            "Edge Modification:   0%|          | 0/20 [00:00<?, ?it/s]\u001b[A\n",
            "Edge Modification:   5%|▌         | 1/20 [00:09<03:03,  9.65s/it]"
          ]
        },
        {
          "metadata": {
            "tags": null
          },
          "name": "stdout",
          "output_type": "stream",
          "text": [
            "No more edges can be modified to increase the spectral gap.\n"
          ]
        },
        {
          "metadata": {
            "tags": null
          },
          "name": "stderr",
          "output_type": "stream",
          "text": [
            "\n",
            "(T):  94%|█████████▍| 94/100 [22:19<01:12, 12.16s/it, loss=5.81]"
          ]
        },
        {
          "metadata": {
            "tags": null
          },
          "name": "stdout",
          "output_type": "stream",
          "text": [
            "========================================\n"
          ]
        },
        {
          "metadata": {
            "tags": null
          },
          "name": "stderr",
          "output_type": "stream",
          "text": [
            "\n",
            "Edge Modification:   0%|          | 0/20 [00:00<?, ?it/s]\u001b[A\n",
            "Edge Modification:   5%|▌         | 1/20 [00:09<03:03,  9.66s/it]"
          ]
        },
        {
          "metadata": {
            "tags": null
          },
          "name": "stdout",
          "output_type": "stream",
          "text": [
            "No more edges can be modified to increase the spectral gap.\n"
          ]
        },
        {
          "metadata": {
            "tags": null
          },
          "name": "stderr",
          "output_type": "stream",
          "text": [
            "\n"
          ]
        },
        {
          "metadata": {
            "tags": null
          },
          "name": "stdout",
          "output_type": "stream",
          "text": [
            "========================================\n"
          ]
        },
        {
          "metadata": {
            "tags": null
          },
          "name": "stderr",
          "output_type": "stream",
          "text": [
            "\n",
            "Edge Modification:   0%|          | 0/20 [00:00<?, ?it/s]\u001b[A\n",
            "Edge Modification:   5%|▌         | 1/20 [00:09<03:03,  9.68s/it]"
          ]
        },
        {
          "metadata": {
            "tags": null
          },
          "name": "stdout",
          "output_type": "stream",
          "text": [
            "No more edges can be modified to increase the spectral gap.\n"
          ]
        },
        {
          "metadata": {
            "tags": null
          },
          "name": "stderr",
          "output_type": "stream",
          "text": [
            "\n",
            "(T):  95%|█████████▌| 95/100 [22:49<01:28, 17.67s/it, loss=5.77]"
          ]
        },
        {
          "metadata": {
            "tags": null
          },
          "name": "stdout",
          "output_type": "stream",
          "text": [
            "========================================\n"
          ]
        },
        {
          "metadata": {
            "tags": null
          },
          "name": "stderr",
          "output_type": "stream",
          "text": [
            "\n",
            "Edge Modification:   0%|          | 0/20 [00:00<?, ?it/s]\u001b[A\n",
            "Edge Modification:   5%|▌         | 1/20 [00:09<02:56,  9.31s/it]"
          ]
        },
        {
          "metadata": {
            "tags": null
          },
          "name": "stdout",
          "output_type": "stream",
          "text": [
            "No more edges can be modified to increase the spectral gap.\n"
          ]
        },
        {
          "metadata": {
            "tags": null
          },
          "name": "stderr",
          "output_type": "stream",
          "text": [
            "\n",
            "(T):  96%|█████████▌| 96/100 [22:59<01:01, 15.34s/it, loss=5.75]"
          ]
        },
        {
          "metadata": {
            "tags": null
          },
          "name": "stdout",
          "output_type": "stream",
          "text": [
            "========================================\n"
          ]
        },
        {
          "metadata": {
            "tags": null
          },
          "name": "stderr",
          "output_type": "stream",
          "text": [
            "\n",
            "Edge Modification:   0%|          | 0/20 [00:00<?, ?it/s]\u001b[A\n",
            "Edge Modification:   5%|▌         | 1/20 [00:09<02:56,  9.30s/it]"
          ]
        },
        {
          "metadata": {
            "tags": null
          },
          "name": "stdout",
          "output_type": "stream",
          "text": [
            "No more edges can be modified to increase the spectral gap.\n"
          ]
        },
        {
          "metadata": {
            "tags": null
          },
          "name": "stderr",
          "output_type": "stream",
          "text": [
            "\n",
            "(T):  97%|█████████▋| 97/100 [23:09<00:40, 13.63s/it, loss=5.75]"
          ]
        },
        {
          "metadata": {
            "tags": null
          },
          "name": "stdout",
          "output_type": "stream",
          "text": [
            "========================================\n"
          ]
        },
        {
          "metadata": {
            "tags": null
          },
          "name": "stderr",
          "output_type": "stream",
          "text": [
            "\n",
            "Edge Modification:   0%|          | 0/20 [00:00<?, ?it/s]\u001b[A\n",
            "Edge Modification:   5%|▌         | 1/20 [00:09<03:03,  9.67s/it]"
          ]
        },
        {
          "metadata": {
            "tags": null
          },
          "name": "stdout",
          "output_type": "stream",
          "text": [
            "No more edges can be modified to increase the spectral gap.\n"
          ]
        },
        {
          "metadata": {
            "tags": null
          },
          "name": "stderr",
          "output_type": "stream",
          "text": [
            "\n",
            "(T):  98%|█████████▊| 98/100 [23:19<00:25, 12.53s/it, loss=5.8]"
          ]
        },
        {
          "metadata": {
            "tags": null
          },
          "name": "stdout",
          "output_type": "stream",
          "text": [
            "========================================\n"
          ]
        },
        {
          "metadata": {
            "tags": null
          },
          "name": "stderr",
          "output_type": "stream",
          "text": [
            "\n",
            "Edge Modification:   0%|          | 0/20 [00:00<?, ?it/s]\u001b[A\n",
            "Edge Modification:   5%|▌         | 1/20 [00:09<03:04,  9.72s/it]"
          ]
        },
        {
          "metadata": {
            "tags": null
          },
          "name": "stdout",
          "output_type": "stream",
          "text": [
            "No more edges can be modified to increase the spectral gap.\n"
          ]
        },
        {
          "metadata": {
            "tags": null
          },
          "name": "stderr",
          "output_type": "stream",
          "text": [
            "\n",
            "(T):  99%|█████████▉| 99/100 [23:29<00:11, 11.78s/it, loss=5.74]"
          ]
        },
        {
          "metadata": {
            "tags": null
          },
          "name": "stdout",
          "output_type": "stream",
          "text": [
            "========================================\n"
          ]
        },
        {
          "metadata": {
            "tags": null
          },
          "name": "stderr",
          "output_type": "stream",
          "text": [
            "\n",
            "Edge Modification:   0%|          | 0/20 [00:00<?, ?it/s]\u001b[A\n",
            "Edge Modification:   5%|▌         | 1/20 [00:09<03:09,  9.96s/it]"
          ]
        },
        {
          "metadata": {
            "tags": null
          },
          "name": "stdout",
          "output_type": "stream",
          "text": [
            "No more edges can be modified to increase the spectral gap.\n"
          ]
        },
        {
          "metadata": {
            "tags": null
          },
          "name": "stderr",
          "output_type": "stream",
          "text": [
            "\n"
          ]
        },
        {
          "metadata": {
            "tags": null
          },
          "name": "stdout",
          "output_type": "stream",
          "text": [
            "========================================\n"
          ]
        },
        {
          "metadata": {
            "tags": null
          },
          "name": "stderr",
          "output_type": "stream",
          "text": [
            "\n",
            "Edge Modification:   0%|          | 0/20 [00:00<?, ?it/s]\u001b[A\n",
            "Edge Modification:   5%|▌         | 1/20 [00:09<03:01,  9.57s/it]"
          ]
        },
        {
          "metadata": {
            "tags": null
          },
          "name": "stdout",
          "output_type": "stream",
          "text": [
            "No more edges can be modified to increase the spectral gap.\n"
          ]
        },
        {
          "metadata": {
            "tags": null
          },
          "name": "stderr",
          "output_type": "stream",
          "text": [
            "\n",
            "(T): 100%|██████████| 100/100 [24:03<00:00, 14.44s/it, loss=5.72]\n",
            "(T):   0%|          | 0/100 [00:00<?, ?it/s]"
          ]
        },
        {
          "metadata": {
            "tags": null
          },
          "name": "stdout",
          "output_type": "stream",
          "text": [
            "Number of edges modified 5\n"
          ]
        },
        {
          "metadata": {
            "tags": null
          },
          "name": "stderr",
          "output_type": "stream",
          "text": [
            "(T):   1%|          | 1/100 [00:04<07:10,  4.35s/it, loss=7.76]"
          ]
        },
        {
          "metadata": {
            "tags": null
          },
          "name": "stdout",
          "output_type": "stream",
          "text": [
            "Number of edges modified 5\n"
          ]
        },
        {
          "metadata": {
            "tags": null
          },
          "name": "stderr",
          "output_type": "stream",
          "text": [
            "(T):   2%|▏         | 2/100 [00:09<08:04,  4.94s/it, loss=7.62]"
          ]
        },
        {
          "metadata": {
            "tags": null
          },
          "name": "stdout",
          "output_type": "stream",
          "text": [
            "Number of edges modified 5\n"
          ]
        },
        {
          "metadata": {
            "tags": null
          },
          "name": "stderr",
          "output_type": "stream",
          "text": [
            "(T):   3%|▎         | 3/100 [00:13<07:29,  4.64s/it, loss=7.53]"
          ]
        },
        {
          "metadata": {
            "tags": null
          },
          "name": "stdout",
          "output_type": "stream",
          "text": [
            "Number of edges modified 5\n"
          ]
        },
        {
          "metadata": {
            "tags": null
          },
          "name": "stderr",
          "output_type": "stream",
          "text": [
            "(T):   4%|▍         | 4/100 [00:18<07:10,  4.49s/it, loss=7.47]"
          ]
        },
        {
          "metadata": {
            "tags": null
          },
          "name": "stdout",
          "output_type": "stream",
          "text": [
            "Number of edges modified 5\n",
            "Number of edges modified 5\n"
          ]
        },
        {
          "metadata": {
            "tags": null
          },
          "name": "stderr",
          "output_type": "stream",
          "text": [
            "(T):   5%|▌         | 5/100 [00:29<10:57,  6.92s/it, loss=7.42]"
          ]
        },
        {
          "metadata": {
            "tags": null
          },
          "name": "stdout",
          "output_type": "stream",
          "text": [
            "Number of edges modified 5\n"
          ]
        },
        {
          "metadata": {
            "tags": null
          },
          "name": "stderr",
          "output_type": "stream",
          "text": [
            "(T):   6%|▌         | 6/100 [00:34<09:48,  6.26s/it, loss=7.37]"
          ]
        },
        {
          "metadata": {
            "tags": null
          },
          "name": "stdout",
          "output_type": "stream",
          "text": [
            "Number of edges modified 5\n"
          ]
        },
        {
          "metadata": {
            "tags": null
          },
          "name": "stderr",
          "output_type": "stream",
          "text": [
            "(T):   7%|▋         | 7/100 [00:38<08:40,  5.60s/it, loss=7.34]"
          ]
        },
        {
          "metadata": {
            "tags": null
          },
          "name": "stdout",
          "output_type": "stream",
          "text": [
            "Number of edges modified 5\n"
          ]
        },
        {
          "metadata": {
            "tags": null
          },
          "name": "stderr",
          "output_type": "stream",
          "text": [
            "(T):   9%|▉         | 9/100 [00:48<07:51,  5.19s/it, loss=7.25]"
          ]
        },
        {
          "metadata": {
            "tags": null
          },
          "name": "stdout",
          "output_type": "stream",
          "text": [
            "Number of edges modified 5\n",
            "Number of edges modified 5\n",
            "Number of edges modified 5\n"
          ]
        },
        {
          "metadata": {
            "tags": null
          },
          "name": "stderr",
          "output_type": "stream",
          "text": [
            "(T):  10%|█         | 10/100 [01:00<11:01,  7.35s/it, loss=7.19]"
          ]
        },
        {
          "metadata": {
            "tags": null
          },
          "name": "stdout",
          "output_type": "stream",
          "text": [
            "Number of edges modified 5\n"
          ]
        },
        {
          "metadata": {
            "tags": null
          },
          "name": "stderr",
          "output_type": "stream",
          "text": [
            "(T):  11%|█         | 11/100 [01:05<09:31,  6.42s/it, loss=7.15]"
          ]
        },
        {
          "metadata": {
            "tags": null
          },
          "name": "stdout",
          "output_type": "stream",
          "text": [
            "Number of edges modified 5\n"
          ]
        },
        {
          "metadata": {
            "tags": null
          },
          "name": "stderr",
          "output_type": "stream",
          "text": [
            "(T):  12%|█▏        | 12/100 [01:10<08:49,  6.02s/it, loss=7.11]"
          ]
        },
        {
          "metadata": {
            "tags": null
          },
          "name": "stdout",
          "output_type": "stream",
          "text": [
            "Number of edges modified 5\n"
          ]
        },
        {
          "metadata": {
            "tags": null
          },
          "name": "stderr",
          "output_type": "stream",
          "text": [
            "(T):  13%|█▎        | 13/100 [01:14<08:09,  5.62s/it, loss=7.06]"
          ]
        },
        {
          "metadata": {
            "tags": null
          },
          "name": "stdout",
          "output_type": "stream",
          "text": [
            "Number of edges modified 5\n"
          ]
        },
        {
          "metadata": {
            "tags": null
          },
          "name": "stderr",
          "output_type": "stream",
          "text": [
            "(T):  14%|█▍        | 14/100 [01:19<07:47,  5.44s/it, loss=7.02]"
          ]
        },
        {
          "metadata": {
            "tags": null
          },
          "name": "stdout",
          "output_type": "stream",
          "text": [
            "Number of edges modified 5\n",
            "Number of edges modified 5\n"
          ]
        },
        {
          "metadata": {
            "tags": null
          },
          "name": "stderr",
          "output_type": "stream",
          "text": [
            "(T):  16%|█▌        | 16/100 [01:36<09:16,  6.63s/it, loss=6.98]"
          ]
        },
        {
          "metadata": {
            "tags": null
          },
          "name": "stdout",
          "output_type": "stream",
          "text": [
            "Number of edges modified 5\n",
            "Number of edges modified 5\n"
          ]
        },
        {
          "metadata": {
            "tags": null
          },
          "name": "stderr",
          "output_type": "stream",
          "text": [
            "(T):  17%|█▋        | 17/100 [01:41<08:12,  5.94s/it, loss=6.95]"
          ]
        },
        {
          "metadata": {
            "tags": null
          },
          "name": "stdout",
          "output_type": "stream",
          "text": [
            "Number of edges modified 5\n"
          ]
        },
        {
          "metadata": {
            "tags": null
          },
          "name": "stderr",
          "output_type": "stream",
          "text": [
            "(T):  18%|█▊        | 18/100 [01:46<07:59,  5.85s/it, loss=6.92]"
          ]
        },
        {
          "metadata": {
            "tags": null
          },
          "name": "stdout",
          "output_type": "stream",
          "text": [
            "Number of edges modified 5\n"
          ]
        },
        {
          "metadata": {
            "tags": null
          },
          "name": "stderr",
          "output_type": "stream",
          "text": [
            "(T):  19%|█▉        | 19/100 [01:51<07:17,  5.40s/it, loss=6.9]"
          ]
        },
        {
          "metadata": {
            "tags": null
          },
          "name": "stdout",
          "output_type": "stream",
          "text": [
            "Number of edges modified 5\n",
            "Number of edges modified 5\n"
          ]
        },
        {
          "metadata": {
            "tags": null
          },
          "name": "stderr",
          "output_type": "stream",
          "text": [
            "(T):  20%|██        | 20/100 [02:05<10:51,  8.14s/it, loss=6.85]"
          ]
        },
        {
          "metadata": {
            "tags": null
          },
          "name": "stdout",
          "output_type": "stream",
          "text": [
            "Number of edges modified 5\n"
          ]
        },
        {
          "metadata": {
            "tags": null
          },
          "name": "stderr",
          "output_type": "stream",
          "text": [
            "(T):  21%|██        | 21/100 [02:11<09:39,  7.34s/it, loss=6.81]"
          ]
        },
        {
          "metadata": {
            "tags": null
          },
          "name": "stdout",
          "output_type": "stream",
          "text": [
            "Number of edges modified 5\n"
          ]
        },
        {
          "metadata": {
            "tags": null
          },
          "name": "stderr",
          "output_type": "stream",
          "text": [
            "(T):  22%|██▏       | 22/100 [02:15<08:23,  6.46s/it, loss=6.79]"
          ]
        },
        {
          "metadata": {
            "tags": null
          },
          "name": "stdout",
          "output_type": "stream",
          "text": [
            "Number of edges modified 5\n"
          ]
        },
        {
          "metadata": {
            "tags": null
          },
          "name": "stderr",
          "output_type": "stream",
          "text": [
            "(T):  23%|██▎       | 23/100 [02:21<07:52,  6.14s/it, loss=6.77]"
          ]
        },
        {
          "metadata": {
            "tags": null
          },
          "name": "stdout",
          "output_type": "stream",
          "text": [
            "Number of edges modified 5\n"
          ]
        },
        {
          "metadata": {
            "tags": null
          },
          "name": "stderr",
          "output_type": "stream",
          "text": [
            "(T):  24%|██▍       | 24/100 [02:25<07:15,  5.73s/it, loss=6.75]"
          ]
        },
        {
          "metadata": {
            "tags": null
          },
          "name": "stdout",
          "output_type": "stream",
          "text": [
            "Number of edges modified 5\n",
            "Number of edges modified 5\n"
          ]
        },
        {
          "metadata": {
            "tags": null
          },
          "name": "stderr",
          "output_type": "stream",
          "text": [
            "(T):  25%|██▌       | 25/100 [02:39<10:14,  8.19s/it, loss=6.73]"
          ]
        },
        {
          "metadata": {
            "tags": null
          },
          "name": "stdout",
          "output_type": "stream",
          "text": [
            "Number of edges modified 5\n"
          ]
        },
        {
          "metadata": {
            "tags": null
          },
          "name": "stderr",
          "output_type": "stream",
          "text": [
            "(T):  26%|██▌       | 26/100 [02:45<09:14,  7.49s/it, loss=6.69]"
          ]
        },
        {
          "metadata": {
            "tags": null
          },
          "name": "stdout",
          "output_type": "stream",
          "text": [
            "Number of edges modified 5\n"
          ]
        },
        {
          "metadata": {
            "tags": null
          },
          "name": "stderr",
          "output_type": "stream",
          "text": [
            "(T):  27%|██▋       | 27/100 [02:49<07:55,  6.52s/it, loss=6.66]"
          ]
        },
        {
          "metadata": {
            "tags": null
          },
          "name": "stdout",
          "output_type": "stream",
          "text": [
            "Number of edges modified 5\n"
          ]
        },
        {
          "metadata": {
            "tags": null
          },
          "name": "stderr",
          "output_type": "stream",
          "text": [
            "(T):  28%|██▊       | 28/100 [02:54<07:00,  5.84s/it, loss=6.64]"
          ]
        },
        {
          "metadata": {
            "tags": null
          },
          "name": "stdout",
          "output_type": "stream",
          "text": [
            "Number of edges modified 5\n"
          ]
        },
        {
          "metadata": {
            "tags": null
          },
          "name": "stderr",
          "output_type": "stream",
          "text": [
            "(T):  29%|██▉       | 29/100 [02:59<06:39,  5.62s/it, loss=6.63]"
          ]
        },
        {
          "metadata": {
            "tags": null
          },
          "name": "stdout",
          "output_type": "stream",
          "text": [
            "Number of edges modified 5\n",
            "Number of edges modified 5\n"
          ]
        },
        {
          "metadata": {
            "tags": null
          },
          "name": "stderr",
          "output_type": "stream",
          "text": [
            "(T):  30%|███       | 30/100 [03:18<11:29,  9.84s/it, loss=6.62]"
          ]
        },
        {
          "metadata": {
            "tags": null
          },
          "name": "stdout",
          "output_type": "stream",
          "text": [
            "Number of edges modified 5\n"
          ]
        },
        {
          "metadata": {
            "tags": null
          },
          "name": "stderr",
          "output_type": "stream",
          "text": [
            "(T):  32%|███▏      | 32/100 [03:28<08:16,  7.30s/it, loss=6.55]"
          ]
        },
        {
          "metadata": {
            "tags": null
          },
          "name": "stdout",
          "output_type": "stream",
          "text": [
            "Number of edges modified 5\n",
            "Number of edges modified 5\n"
          ]
        },
        {
          "metadata": {
            "tags": null
          },
          "name": "stderr",
          "output_type": "stream",
          "text": [
            "(T):  34%|███▍      | 34/100 [03:38<06:34,  5.98s/it, loss=6.51]"
          ]
        },
        {
          "metadata": {
            "tags": null
          },
          "name": "stdout",
          "output_type": "stream",
          "text": [
            "Number of edges modified 5\n",
            "Number of edges modified 5\n",
            "Number of edges modified 5\n"
          ]
        },
        {
          "metadata": {
            "tags": null
          },
          "name": "stderr",
          "output_type": "stream",
          "text": [
            "(T):  35%|███▌      | 35/100 [03:59<11:20, 10.46s/it, loss=6.51]"
          ]
        },
        {
          "metadata": {
            "tags": null
          },
          "name": "stdout",
          "output_type": "stream",
          "text": [
            "Number of edges modified 5\n"
          ]
        },
        {
          "metadata": {
            "tags": null
          },
          "name": "stderr",
          "output_type": "stream",
          "text": [
            "(T):  36%|███▌      | 36/100 [04:03<09:12,  8.64s/it, loss=6.49]"
          ]
        },
        {
          "metadata": {
            "tags": null
          },
          "name": "stdout",
          "output_type": "stream",
          "text": [
            "Number of edges modified 5\n"
          ]
        },
        {
          "metadata": {
            "tags": null
          },
          "name": "stderr",
          "output_type": "stream",
          "text": [
            "(T):  37%|███▋      | 37/100 [04:09<08:04,  7.69s/it, loss=6.46]"
          ]
        },
        {
          "metadata": {
            "tags": null
          },
          "name": "stdout",
          "output_type": "stream",
          "text": [
            "Number of edges modified 5\n"
          ]
        },
        {
          "metadata": {
            "tags": null
          },
          "name": "stderr",
          "output_type": "stream",
          "text": [
            "(T):  38%|███▊      | 38/100 [04:13<06:57,  6.73s/it, loss=6.45]"
          ]
        },
        {
          "metadata": {
            "tags": null
          },
          "name": "stdout",
          "output_type": "stream",
          "text": [
            "Number of edges modified 5\n"
          ]
        },
        {
          "metadata": {
            "tags": null
          },
          "name": "stderr",
          "output_type": "stream",
          "text": [
            "(T):  39%|███▉      | 39/100 [04:17<06:05,  5.99s/it, loss=6.44]"
          ]
        },
        {
          "metadata": {
            "tags": null
          },
          "name": "stdout",
          "output_type": "stream",
          "text": [
            "Number of edges modified 5\n",
            "Number of edges modified 5\n"
          ]
        },
        {
          "metadata": {
            "tags": null
          },
          "name": "stderr",
          "output_type": "stream",
          "text": [
            "(T):  40%|████      | 40/100 [04:46<12:43, 12.73s/it, loss=6.58]"
          ]
        },
        {
          "metadata": {
            "tags": null
          },
          "name": "stdout",
          "output_type": "stream",
          "text": [
            "Number of edges modified 5\n"
          ]
        },
        {
          "metadata": {
            "tags": null
          },
          "name": "stderr",
          "output_type": "stream",
          "text": [
            "(T):  41%|████      | 41/100 [04:50<10:02, 10.21s/it, loss=6.45]"
          ]
        },
        {
          "metadata": {
            "tags": null
          },
          "name": "stdout",
          "output_type": "stream",
          "text": [
            "Number of edges modified 5\n"
          ]
        },
        {
          "metadata": {
            "tags": null
          },
          "name": "stderr",
          "output_type": "stream",
          "text": [
            "(T):  42%|████▏     | 42/100 [04:55<08:17,  8.58s/it, loss=6.42]"
          ]
        },
        {
          "metadata": {
            "tags": null
          },
          "name": "stdout",
          "output_type": "stream",
          "text": [
            "Number of edges modified 5\n"
          ]
        },
        {
          "metadata": {
            "tags": null
          },
          "name": "stderr",
          "output_type": "stream",
          "text": [
            "(T):  43%|████▎     | 43/100 [05:00<07:05,  7.46s/it, loss=6.38]"
          ]
        },
        {
          "metadata": {
            "tags": null
          },
          "name": "stdout",
          "output_type": "stream",
          "text": [
            "Number of edges modified 5\n"
          ]
        },
        {
          "metadata": {
            "tags": null
          },
          "name": "stderr",
          "output_type": "stream",
          "text": [
            "(T):  44%|████▍     | 44/100 [05:04<06:03,  6.50s/it, loss=6.35]"
          ]
        },
        {
          "metadata": {
            "tags": null
          },
          "name": "stdout",
          "output_type": "stream",
          "text": [
            "Number of edges modified 5\n",
            "Number of edges modified 5\n"
          ]
        },
        {
          "metadata": {
            "tags": null
          },
          "name": "stderr",
          "output_type": "stream",
          "text": [
            "(T):  45%|████▌     | 45/100 [05:26<10:06, 11.03s/it, loss=6.33]"
          ]
        },
        {
          "metadata": {
            "tags": null
          },
          "name": "stdout",
          "output_type": "stream",
          "text": [
            "Number of edges modified 5\n"
          ]
        },
        {
          "metadata": {
            "tags": null
          },
          "name": "stderr",
          "output_type": "stream",
          "text": [
            "(T):  46%|████▌     | 46/100 [05:30<08:06,  9.01s/it, loss=6.32]"
          ]
        },
        {
          "metadata": {
            "tags": null
          },
          "name": "stdout",
          "output_type": "stream",
          "text": [
            "Number of edges modified 5\n"
          ]
        },
        {
          "metadata": {
            "tags": null
          },
          "name": "stderr",
          "output_type": "stream",
          "text": [
            "(T):  47%|████▋     | 47/100 [05:35<06:56,  7.87s/it, loss=6.32]"
          ]
        },
        {
          "metadata": {
            "tags": null
          },
          "name": "stdout",
          "output_type": "stream",
          "text": [
            "Number of edges modified 5\n"
          ]
        },
        {
          "metadata": {
            "tags": null
          },
          "name": "stderr",
          "output_type": "stream",
          "text": [
            "(T):  48%|████▊     | 48/100 [05:40<06:01,  6.95s/it, loss=6.28]"
          ]
        },
        {
          "metadata": {
            "tags": null
          },
          "name": "stdout",
          "output_type": "stream",
          "text": [
            "Number of edges modified 5\n"
          ]
        },
        {
          "metadata": {
            "tags": null
          },
          "name": "stderr",
          "output_type": "stream",
          "text": [
            "(T):  49%|████▉     | 49/100 [05:45<05:18,  6.24s/it, loss=6.25]"
          ]
        },
        {
          "metadata": {
            "tags": null
          },
          "name": "stdout",
          "output_type": "stream",
          "text": [
            "Number of edges modified 5\n",
            "Number of edges modified 5\n"
          ]
        },
        {
          "metadata": {
            "tags": null
          },
          "name": "stderr",
          "output_type": "stream",
          "text": [
            "(T):  51%|█████     | 51/100 [06:07<06:42,  8.22s/it, loss=6.24]"
          ]
        },
        {
          "metadata": {
            "tags": null
          },
          "name": "stdout",
          "output_type": "stream",
          "text": [
            "Number of edges modified 5\n",
            "Number of edges modified 5\n"
          ]
        },
        {
          "metadata": {
            "tags": null
          },
          "name": "stderr",
          "output_type": "stream",
          "text": [
            "(T):  52%|█████▏    | 52/100 [06:12<05:46,  7.22s/it, loss=6.23]"
          ]
        },
        {
          "metadata": {
            "tags": null
          },
          "name": "stdout",
          "output_type": "stream",
          "text": [
            "Number of edges modified 5\n"
          ]
        },
        {
          "metadata": {
            "tags": null
          },
          "name": "stderr",
          "output_type": "stream",
          "text": [
            "(T):  53%|█████▎    | 53/100 [06:17<05:05,  6.49s/it, loss=6.22]"
          ]
        },
        {
          "metadata": {
            "tags": null
          },
          "name": "stdout",
          "output_type": "stream",
          "text": [
            "Number of edges modified 5\n"
          ]
        },
        {
          "metadata": {
            "tags": null
          },
          "name": "stderr",
          "output_type": "stream",
          "text": [
            "(T):  54%|█████▍    | 54/100 [06:22<04:41,  6.11s/it, loss=6.2]"
          ]
        },
        {
          "metadata": {
            "tags": null
          },
          "name": "stdout",
          "output_type": "stream",
          "text": [
            "Number of edges modified 5\n",
            "Number of edges modified 5\n"
          ]
        },
        {
          "metadata": {
            "tags": null
          },
          "name": "stderr",
          "output_type": "stream",
          "text": [
            "(T):  55%|█████▌    | 55/100 [06:40<07:08,  9.52s/it, loss=6.19]"
          ]
        },
        {
          "metadata": {
            "tags": null
          },
          "name": "stdout",
          "output_type": "stream",
          "text": [
            "Number of edges modified 5\n"
          ]
        },
        {
          "metadata": {
            "tags": null
          },
          "name": "stderr",
          "output_type": "stream",
          "text": [
            "(T):  56%|█████▌    | 56/100 [06:45<06:03,  8.26s/it, loss=6.15]"
          ]
        },
        {
          "metadata": {
            "tags": null
          },
          "name": "stdout",
          "output_type": "stream",
          "text": [
            "Number of edges modified 5\n"
          ]
        },
        {
          "metadata": {
            "tags": null
          },
          "name": "stderr",
          "output_type": "stream",
          "text": [
            "(T):  57%|█████▋    | 57/100 [06:49<05:06,  7.12s/it, loss=6.13]"
          ]
        },
        {
          "output_type": "stream",
          "name": "stdout",
          "text": [
            "Number of edges modified 5\n"
          ]
        },
        {
          "output_type": "stream",
          "name": "stderr",
          "text": [
            "(T):  59%|█████▉    | 59/100 [06:59<04:09,  6.10s/it, loss=6.12]"
          ]
        },
        {
          "output_type": "stream",
          "name": "stdout",
          "text": [
            "Number of edges modified 5\n",
            "Number of edges modified 5\n",
            "Number of edges modified 5\n"
          ]
        },
        {
          "output_type": "stream",
          "name": "stderr",
          "text": [
            "(T):  60%|██████    | 60/100 [07:19<06:48, 10.21s/it, loss=6.11]"
          ]
        },
        {
          "output_type": "stream",
          "name": "stdout",
          "text": [
            "Number of edges modified 5\n"
          ]
        },
        {
          "output_type": "stream",
          "name": "stderr",
          "text": [
            "(T):  62%|██████▏   | 62/100 [07:29<04:42,  7.42s/it, loss=6.1]"
          ]
        },
        {
          "output_type": "stream",
          "name": "stdout",
          "text": [
            "Number of edges modified 5\n",
            "Number of edges modified 5\n"
          ]
        },
        {
          "output_type": "stream",
          "name": "stderr",
          "text": [
            "(T):  63%|██████▎   | 63/100 [07:34<04:09,  6.74s/it, loss=6.08]"
          ]
        },
        {
          "output_type": "stream",
          "name": "stdout",
          "text": [
            "Number of edges modified 5\n"
          ]
        },
        {
          "output_type": "stream",
          "name": "stderr",
          "text": [
            "(T):  64%|██████▍   | 64/100 [07:39<03:41,  6.15s/it, loss=6.06]"
          ]
        },
        {
          "output_type": "stream",
          "name": "stdout",
          "text": [
            "Number of edges modified 5\n",
            "Number of edges modified 5\n"
          ]
        },
        {
          "output_type": "stream",
          "name": "stderr",
          "text": [
            "(T):  66%|██████▌   | 66/100 [08:01<04:35,  8.09s/it, loss=6.04]"
          ]
        },
        {
          "output_type": "stream",
          "name": "stdout",
          "text": [
            "Number of edges modified 5\n",
            "Number of edges modified 5\n"
          ]
        },
        {
          "output_type": "stream",
          "name": "stderr",
          "text": [
            "(T):  67%|██████▋   | 67/100 [08:05<03:49,  6.95s/it, loss=6.02]"
          ]
        },
        {
          "output_type": "stream",
          "name": "stdout",
          "text": [
            "Number of edges modified 5\n"
          ]
        },
        {
          "output_type": "stream",
          "name": "stderr",
          "text": [
            "(T):  68%|██████▊   | 68/100 [08:10<03:23,  6.37s/it, loss=6.02]"
          ]
        },
        {
          "output_type": "stream",
          "name": "stdout",
          "text": [
            "Number of edges modified 5\n"
          ]
        },
        {
          "output_type": "stream",
          "name": "stderr",
          "text": [
            "(T):  69%|██████▉   | 69/100 [08:15<03:03,  5.92s/it, loss=6.02]"
          ]
        },
        {
          "output_type": "stream",
          "name": "stdout",
          "text": [
            "Number of edges modified 5\n",
            "Number of edges modified 5\n"
          ]
        },
        {
          "output_type": "stream",
          "name": "stderr",
          "text": [
            "(T):  70%|███████   | 70/100 [08:33<04:48,  9.61s/it, loss=6.01]"
          ]
        },
        {
          "output_type": "stream",
          "name": "stdout",
          "text": [
            "Number of edges modified 5\n"
          ]
        },
        {
          "output_type": "stream",
          "name": "stderr",
          "text": [
            "(T):  71%|███████   | 71/100 [08:38<04:00,  8.28s/it, loss=6]"
          ]
        },
        {
          "output_type": "stream",
          "name": "stdout",
          "text": [
            "Number of edges modified 5\n"
          ]
        },
        {
          "output_type": "stream",
          "name": "stderr",
          "text": [
            "(T):  72%|███████▏  | 72/100 [08:42<03:18,  7.08s/it, loss=5.98]"
          ]
        },
        {
          "output_type": "stream",
          "name": "stdout",
          "text": [
            "Number of edges modified 5\n"
          ]
        },
        {
          "output_type": "stream",
          "name": "stderr",
          "text": [
            "(T):  73%|███████▎  | 73/100 [08:48<02:55,  6.51s/it, loss=5.98]"
          ]
        },
        {
          "output_type": "stream",
          "name": "stdout",
          "text": [
            "Number of edges modified 5\n"
          ]
        },
        {
          "output_type": "stream",
          "name": "stderr",
          "text": [
            "(T):  74%|███████▍  | 74/100 [08:52<02:31,  5.83s/it, loss=5.96]"
          ]
        },
        {
          "output_type": "stream",
          "name": "stdout",
          "text": [
            "Number of edges modified 5\n",
            "Number of edges modified 5\n"
          ]
        },
        {
          "output_type": "stream",
          "name": "stderr",
          "text": [
            "(T):  75%|███████▌  | 75/100 [09:12<04:09,  9.99s/it, loss=5.95]"
          ]
        },
        {
          "output_type": "stream",
          "name": "stdout",
          "text": [
            "Number of edges modified 5\n"
          ]
        },
        {
          "output_type": "stream",
          "name": "stderr",
          "text": [
            "(T):  76%|███████▌  | 76/100 [09:16<03:19,  8.30s/it, loss=5.92]"
          ]
        },
        {
          "output_type": "stream",
          "name": "stdout",
          "text": [
            "Number of edges modified 5\n"
          ]
        },
        {
          "output_type": "stream",
          "name": "stderr",
          "text": [
            "(T):  77%|███████▋  | 77/100 [09:21<02:47,  7.27s/it, loss=5.91]"
          ]
        },
        {
          "output_type": "stream",
          "name": "stdout",
          "text": [
            "Number of edges modified 5\n"
          ]
        },
        {
          "output_type": "stream",
          "name": "stderr",
          "text": [
            "(T):  78%|███████▊  | 78/100 [09:25<02:22,  6.47s/it, loss=5.94]"
          ]
        },
        {
          "output_type": "stream",
          "name": "stdout",
          "text": [
            "Number of edges modified 5\n"
          ]
        },
        {
          "output_type": "stream",
          "name": "stderr",
          "text": [
            "(T):  79%|███████▉  | 79/100 [09:30<02:01,  5.79s/it, loss=5.91]"
          ]
        },
        {
          "output_type": "stream",
          "name": "stdout",
          "text": [
            "Number of edges modified 5\n",
            "Number of edges modified 5\n"
          ]
        },
        {
          "output_type": "stream",
          "name": "stderr",
          "text": [
            "(T):  81%|████████  | 81/100 [09:54<02:39,  8.41s/it, loss=5.89]"
          ]
        },
        {
          "output_type": "stream",
          "name": "stdout",
          "text": [
            "Number of edges modified 5\n"
          ]
        },
        {
          "output_type": "stream",
          "name": "stderr",
          "text": [
            "(T):  82%|████████▏ | 82/100 [10:00<02:14,  7.47s/it, loss=5.88]"
          ]
        },
        {
          "output_type": "stream",
          "name": "stdout",
          "text": [
            "Number of edges modified 5\n",
            "Number of edges modified 5\n"
          ]
        },
        {
          "output_type": "stream",
          "name": "stderr",
          "text": [
            "(T):  83%|████████▎ | 83/100 [10:04<01:53,  6.69s/it, loss=5.86]"
          ]
        },
        {
          "output_type": "stream",
          "name": "stdout",
          "text": [
            "Number of edges modified 5\n"
          ]
        },
        {
          "output_type": "stream",
          "name": "stderr",
          "text": [
            "(T):  84%|████████▍ | 84/100 [10:09<01:35,  5.97s/it, loss=5.85]"
          ]
        },
        {
          "output_type": "stream",
          "name": "stdout",
          "text": [
            "Number of edges modified 5\n",
            "Number of edges modified 5\n"
          ]
        },
        {
          "output_type": "stream",
          "name": "stderr",
          "text": [
            "(T):  85%|████████▌ | 85/100 [10:35<03:01, 12.07s/it, loss=5.86]"
          ]
        },
        {
          "output_type": "stream",
          "name": "stdout",
          "text": [
            "Number of edges modified 5\n"
          ]
        },
        {
          "output_type": "stream",
          "name": "stderr",
          "text": [
            "(T):  87%|████████▋ | 87/100 [10:44<01:45,  8.11s/it, loss=5.86]"
          ]
        },
        {
          "output_type": "stream",
          "name": "stdout",
          "text": [
            "Number of edges modified 5\n",
            "Number of edges modified 5\n"
          ]
        },
        {
          "output_type": "stream",
          "name": "stderr",
          "text": [
            "(T):  88%|████████▊ | 88/100 [10:49<01:28,  7.34s/it, loss=5.81]"
          ]
        },
        {
          "output_type": "stream",
          "name": "stdout",
          "text": [
            "Number of edges modified 5\n"
          ]
        },
        {
          "output_type": "stream",
          "name": "stderr",
          "text": [
            "(T):  89%|████████▉ | 89/100 [10:53<01:10,  6.41s/it, loss=5.81]"
          ]
        },
        {
          "output_type": "stream",
          "name": "stdout",
          "text": [
            "Number of edges modified 5\n",
            "Number of edges modified 5\n"
          ]
        },
        {
          "output_type": "stream",
          "name": "stderr",
          "text": [
            "(T):  90%|█████████ | 90/100 [11:14<01:47, 10.78s/it, loss=5.79]"
          ]
        },
        {
          "output_type": "stream",
          "name": "stdout",
          "text": [
            "Number of edges modified 5\n"
          ]
        },
        {
          "output_type": "stream",
          "name": "stderr",
          "text": [
            "(T):  91%|█████████ | 91/100 [11:19<01:19,  8.84s/it, loss=5.82]"
          ]
        },
        {
          "output_type": "stream",
          "name": "stdout",
          "text": [
            "Number of edges modified 5\n"
          ]
        },
        {
          "output_type": "stream",
          "name": "stderr",
          "text": [
            "(T):  93%|█████████▎| 93/100 [11:29<00:48,  6.88s/it, loss=5.8]"
          ]
        },
        {
          "output_type": "stream",
          "name": "stdout",
          "text": [
            "Number of edges modified 5\n"
          ]
        },
        {
          "output_type": "stream",
          "name": "stderr",
          "text": [
            "(T):  94%|█████████▍| 94/100 [11:33<00:36,  6.10s/it, loss=5.77]"
          ]
        },
        {
          "output_type": "stream",
          "name": "stdout",
          "text": [
            "Number of edges modified 5\n",
            "Number of edges modified 5\n",
            "Number of edges modified 5\n"
          ]
        },
        {
          "output_type": "stream",
          "name": "stderr",
          "text": [
            "(T):  95%|█████████▌| 95/100 [11:50<00:46,  9.37s/it, loss=5.76]"
          ]
        },
        {
          "output_type": "stream",
          "name": "stdout",
          "text": [
            "Number of edges modified 5\n"
          ]
        },
        {
          "output_type": "stream",
          "name": "stderr",
          "text": [
            "(T):  96%|█████████▌| 96/100 [11:54<00:31,  7.85s/it, loss=5.79]"
          ]
        },
        {
          "output_type": "stream",
          "name": "stdout",
          "text": [
            "Number of edges modified 5\n"
          ]
        },
        {
          "output_type": "stream",
          "name": "stderr",
          "text": [
            "(T):  97%|█████████▋| 97/100 [12:00<00:21,  7.05s/it, loss=5.83]"
          ]
        },
        {
          "output_type": "stream",
          "name": "stdout",
          "text": [
            "Number of edges modified 5\n"
          ]
        },
        {
          "output_type": "stream",
          "name": "stderr",
          "text": [
            "(T):  98%|█████████▊| 98/100 [12:05<00:12,  6.40s/it, loss=5.76]"
          ]
        },
        {
          "output_type": "stream",
          "name": "stdout",
          "text": [
            "Number of edges modified 5\n"
          ]
        },
        {
          "output_type": "stream",
          "name": "stderr",
          "text": [
            "(T):  99%|█████████▉| 99/100 [12:09<00:05,  5.74s/it, loss=5.75]"
          ]
        },
        {
          "output_type": "stream",
          "name": "stdout",
          "text": [
            "Number of edges modified 5\n",
            "Number of edges modified 5\n"
          ]
        },
        {
          "output_type": "stream",
          "name": "stderr",
          "text": [
            "(T): 100%|██████████| 100/100 [12:26<00:00,  7.46s/it, loss=5.77]\n",
            "(T): 100%|██████████| 100/100 [03:35<00:00,  2.15s/it, loss=5.19]\n"
          ]
        }
      ],
      "source": [
        "res1 = node_classification('fosr')\n",
        "res2 = node_classification('proxydelmin')\n",
        "res3 = node_classification('proxydelmax')\n",
        "res4 = node_classification('sdrf')\n",
        "# res5 = node_classification()\n",
        "res5 = node_classification('other')"
      ]
    },
    {
      "cell_type": "code",
      "source": [
        "import pandas as pd\n",
        "import numpy as np\n",
        "micro_f1 = pd.DataFrame({\"Epoch\": np.array(res1)[:, 0],\n",
        "                         \"FOSR + PPRDIFF\": np.array(res1)[:, 1],\n",
        "                         \"PROXDELMIN + PPRDIFF\": np.array(res2)[:, 1],\n",
        "                         \"PROXDELMAX + PPRDIFF\": np.array(res3)[:, 1],\n",
        "                         \"SDRF\": np.array(res4)[:, 1],\n",
        "                         \"IDENTITY + PPRDIFF\": np.array(res5)[:, 1]})\n",
        "macro_f1 = pd.DataFrame({\"Epoch\": np.array(res1)[:, 0],\n",
        "                         \"FOSR + PPRDIFF\": np.array(res1)[:, 2],\n",
        "                         \"PROXDELMIN + PPRDIFF\": np.array(res2)[:, 2],\n",
        "                         \"PROXDELMAX + PPRDIFF\": np.array(res3)[:, 2],\n",
        "                         \"SDRF\": np.array(res4)[:, 2],\n",
        "                         \"IDENTITY + PPRDIFF\": np.array(res5)[:, 2]})\n",
        "\n",
        "micro_f1.to_csv('micro_f1_ADAW_001.csv')\n",
        "macro_f1.to_csv('macro_f1_ADAW_001.csv')"
      ],
      "metadata": {
        "id": "S_6i3KVqDAz2"
      },
      "execution_count": null,
      "outputs": []
    }
  ],
  "metadata": {
    "accelerator": "GPU",
    "colab": {
      "gpuType": "T4",
      "provenance": [],
      "authorship_tag": "ABX9TyNLW/x9ZNygO1afldQ1cUzx",
      "include_colab_link": true
    },
    "kernelspec": {
      "display_name": "Python 3",
      "name": "python3"
    },
    "language_info": {
      "name": "python"
    }
  },
  "nbformat": 4,
  "nbformat_minor": 0
}